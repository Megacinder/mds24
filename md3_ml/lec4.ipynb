{
 "cells": [
  {
   "cell_type": "code",
   "id": "initial_id",
   "metadata": {
    "collapsed": true,
    "ExecuteTime": {
     "end_time": "2025-01-22T15:30:43.167557Z",
     "start_time": "2025-01-22T15:30:43.120297Z"
    }
   },
   "source": "import numpy as np",
   "outputs": [],
   "execution_count": 1
  },
  {
   "metadata": {
    "ExecuteTime": {
     "end_time": "2025-01-22T15:39:19.449039Z",
     "start_time": "2025-01-22T15:39:19.437257Z"
    }
   },
   "cell_type": "code",
   "source": [
    "FAV_NUM = -100\n",
    "a = np.array(range(100))\n",
    "a = np.where(a % 2 == 0, FAV_NUM, a)\n",
    "a"
   ],
   "id": "c29064a076ebc38f",
   "outputs": [
    {
     "data": {
      "text/plain": [
       "array([-100,    1, -100,    3, -100,    5, -100,    7, -100,    9, -100,\n",
       "         11, -100,   13, -100,   15, -100,   17, -100,   19, -100,   21,\n",
       "       -100,   23, -100,   25, -100,   27, -100,   29, -100,   31, -100,\n",
       "         33, -100,   35, -100,   37, -100,   39, -100,   41, -100,   43,\n",
       "       -100,   45, -100,   47, -100,   49, -100,   51, -100,   53, -100,\n",
       "         55, -100,   57, -100,   59, -100,   61, -100,   63, -100,   65,\n",
       "       -100,   67, -100,   69, -100,   71, -100,   73, -100,   75, -100,\n",
       "         77, -100,   79, -100,   81, -100,   83, -100,   85, -100,   87,\n",
       "       -100,   89, -100,   91, -100,   93, -100,   95, -100,   97, -100,\n",
       "         99])"
      ]
     },
     "execution_count": 18,
     "metadata": {},
     "output_type": "execute_result"
    }
   ],
   "execution_count": 18
  },
  {
   "metadata": {
    "ExecuteTime": {
     "end_time": "2025-01-22T15:44:09.875954Z",
     "start_time": "2025-01-22T15:44:09.870155Z"
    }
   },
   "cell_type": "code",
   "source": [
    "n = 8\n",
    "a = sorted([i.item() for i in np.arange(1, n * 2, 2)], reverse=True)\n",
    "a"
   ],
   "id": "9c071bb72d5da9f0",
   "outputs": [
    {
     "data": {
      "text/plain": [
       "[15, 13, 11, 9, 7, 5, 3, 1]"
      ]
     },
     "execution_count": 29,
     "metadata": {},
     "output_type": "execute_result"
    }
   ],
   "execution_count": 29
  },
  {
   "metadata": {
    "ExecuteTime": {
     "end_time": "2025-01-22T16:00:29.904760Z",
     "start_time": "2025-01-22T16:00:29.900231Z"
    }
   },
   "cell_type": "code",
   "source": [
    "n = 1.9\n",
    "a = np.array(range(100))\n",
    "max_min = max(a[ a.round() <= n ]).item()\n",
    "max_max = max(a[ a.round() >= n ]).item()\n",
    "max_min, max_max"
   ],
   "id": "2289c4370a82fa59",
   "outputs": [
    {
     "data": {
      "text/plain": [
       "(1, 99)"
      ]
     },
     "execution_count": 49,
     "metadata": {},
     "output_type": "execute_result"
    }
   ],
   "execution_count": 49
  }
 ],
 "metadata": {
  "kernelspec": {
   "display_name": "Python 3",
   "language": "python",
   "name": "python3"
  },
  "language_info": {
   "codemirror_mode": {
    "name": "ipython",
    "version": 2
   },
   "file_extension": ".py",
   "mimetype": "text/x-python",
   "name": "python",
   "nbconvert_exporter": "python",
   "pygments_lexer": "ipython2",
   "version": "2.7.6"
  }
 },
 "nbformat": 4,
 "nbformat_minor": 5
}
