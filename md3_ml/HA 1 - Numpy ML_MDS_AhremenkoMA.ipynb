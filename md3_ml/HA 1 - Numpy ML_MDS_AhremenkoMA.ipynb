{
 "cells": [
  {
   "cell_type": "markdown",
   "metadata": {
    "id": "kmR0IBowrBPV"
   },
   "source": [
    "# Machine Learning\n",
    "\n",
    "## HSE, 2024-25"
   ]
  },
  {
   "cell_type": "markdown",
   "metadata": {
    "id": "fdTH3pxXFLxw"
   },
   "source": [
    "### Home Assignment #1. Numpy Library"
   ]
  },
  {
   "cell_type": "markdown",
   "metadata": {
    "id": "Sk5URBvkFLxx"
   },
   "source": "The assignment was completed by: Михаил Ахременко"
  },
  {
   "cell_type": "markdown",
   "metadata": {
    "id": "kqVyveO4FLxx"
   },
   "source": [
    "### General information"
   ]
  },
  {
   "cell_type": "markdown",
   "metadata": {
    "id": "2A0wmBWwFLxx"
   },
   "source": [
    "__Publication date:__ 26.01.2025\n",
    "\n",
    "__Deadline:__ 04:00 05.02.2025"
   ]
  },
  {
   "cell_type": "markdown",
   "metadata": {
    "id": "qK8Ari9eFLxz"
   },
   "source": [
    "### Grading and penalties\n",
    "\n",
    "Each task is assessed with 2 points.\n",
    "\n",
    "The grade for HA is calculated according to the following formula:\n",
    "\n",
    "$$\n",
    "s_{\\text{numpy}} \\times 1/2 ,\n",
    "$$\n",
    "\n",
    "where $s_{\\text{numpy}}$  — is the number of points you have scored in total on the tasks.\n",
    "\n",
    "\n",
    "Submitting a task late will incur a penalty of 1 point per day on the final grade for the task, but the delay cannot be more than 3 days."
   ]
  },
  {
   "cell_type": "markdown",
   "metadata": {
    "id": "nEGThfK6FLx0"
   },
   "source": [
    "__WARNING!__ Homework must be completed independently. Assistance from classmates or third parties in solving homework assignments is not permitted. \"Similar\" solutions are considered plagiarism, and all involved students—including those who copied—will receive no credit for it. The use of generative models (such as ChatGPT and others) in solving homework assignments, beyond using them for reference and educational purposes, to generate assignment code, is considered plagiarism, and such homework will be graded as 0 points."
   ]
  },
  {
   "cell_type": "markdown",
   "metadata": {
    "id": "zNja-u8vFLx0"
   },
   "source": [
    "### Submission format"
   ]
  },
  {
   "cell_type": "markdown",
   "metadata": {
    "id": "_H-cf8uaFLx0"
   },
   "source": [
    "The format of uploading file will be announced closer to the deadline. You need to upload a file with the extension .ipynb (Python notebook)"
   ]
  },
  {
   "cell_type": "markdown",
   "metadata": {
    "id": "TEVawss2FLxy"
   },
   "source": [
    "### About the assignment"
   ]
  },
  {
   "cell_type": "markdown",
   "metadata": {
    "id": "NXNpYAFdFLxz"
   },
   "source": [
    "In this homework assignment, you will practice in using numpy library!"
   ]
  },
  {
   "cell_type": "code",
   "metadata": {
    "collapsed": true,
    "id": "4gsWSgTIFLx1",
    "jupyter": {
     "outputs_hidden": true
    },
    "ExecuteTime": {
     "end_time": "2025-01-29T19:50:52.985065Z",
     "start_time": "2025-01-29T19:50:52.941202Z"
    }
   },
   "source": [
    "import numpy as np\n",
    "# import pytest"
   ],
   "outputs": [],
   "execution_count": 1
  },
  {
   "cell_type": "markdown",
   "metadata": {
    "id": "ApiPWJygFLx2"
   },
   "source": [
    "In all problems it is necessary to write the solution code inside the function and check its work by calling the function for the data from the text of the problem.\n",
    "\n",
    "When solving problems, it is forbidden to use loops (`for`, `while`) and the `if` operator.\n",
    "\n",
    "Wherever arrays or matrices are encountered, it is implied that it is `numpy.array`."
   ]
  },
  {
   "cell_type": "markdown",
   "metadata": {
    "id": "8fc_z7yNFLx2"
   },
   "source": [
    "### 1"
   ]
  },
  {
   "metadata": {
    "id": "ETNlMgiZFLx3"
   },
   "cell_type": "markdown",
   "source": "Write a function that returns a rounded weighted sum of grades based on given grades and weights. You can calculate the grade for the course :) Let us consider an example, that exam weight is 0.4, homework weight is 0.39 and class weight is 0.21. For example, if the exam is written at 6, homework is 9, and the grade for the attendance is 8, the final grade will be excellent - 8."
  },
  {
   "metadata": {
    "id": "VDEhJbQ-FLx3",
    "ExecuteTime": {
     "end_time": "2025-01-27T20:57:58.123672Z",
     "start_time": "2025-01-27T20:57:58.119673Z"
    }
   },
   "cell_type": "code",
   "source": [
    "def result_mark(weights, marks):\n",
    "    a = weights * marks\n",
    "    return round(sum(a))"
   ],
   "outputs": [],
   "execution_count": 14
  },
  {
   "cell_type": "code",
   "metadata": {
    "id": "NcaSNNLNFLx3",
    "ExecuteTime": {
     "end_time": "2025-01-27T20:57:59.984716Z",
     "start_time": "2025-01-27T20:57:59.979844Z"
    }
   },
   "source": [
    "weights = np.array([0.4, 0.39, 0.21])\n",
    "marks = np.array([6, 9, 8])\n",
    "result_mark(weights, marks)"
   ],
   "outputs": [
    {
     "data": {
      "text/plain": [
       "8"
      ]
     },
     "execution_count": 15,
     "metadata": {},
     "output_type": "execute_result"
    }
   ],
   "execution_count": 15
  },
  {
   "cell_type": "markdown",
   "metadata": {
    "id": "J0V1vikQFLx3"
   },
   "source": [
    "### 2"
   ]
  },
  {
   "cell_type": "markdown",
   "metadata": {
    "id": "-7GYYXZ-FLx4"
   },
   "source": [
    "Write a function that changes every third (starting from 0) value of an array of integers to a given number. For example, if the input is an array `array([3, 5, 1, 0, -3, 22, 213436])` and the number `-111`, the output should be an array `array([-111, 5, 1, -111, -3, 22, -111])`."
   ]
  },
  {
   "cell_type": "code",
   "metadata": {
    "collapsed": true,
    "id": "bCl2jHbqFLx4",
    "jupyter": {
     "outputs_hidden": true
    },
    "ExecuteTime": {
     "end_time": "2025-01-27T21:00:03.002421Z",
     "start_time": "2025-01-27T21:00:02.998419Z"
    }
   },
   "source": [
    "def change_array(array, number):\n",
    "    a = array\n",
    "    a[::3] = number\n",
    "    return a"
   ],
   "outputs": [],
   "execution_count": 18
  },
  {
   "cell_type": "code",
   "metadata": {
    "collapsed": true,
    "id": "Gpq8NhDLFLx4",
    "jupyter": {
     "outputs_hidden": true
    },
    "ExecuteTime": {
     "end_time": "2025-01-27T21:00:05.134135Z",
     "start_time": "2025-01-27T21:00:05.129119Z"
    }
   },
   "source": [
    "array = np.array([3, 5, 1, 0, -3, 22, 213436])\n",
    "number = -111\n",
    "change_array(array, number)"
   ],
   "outputs": [
    {
     "data": {
      "text/plain": [
       "array([-111,    5,    1, -111,   -3,   22, -111])"
      ]
     },
     "execution_count": 19,
     "metadata": {},
     "output_type": "execute_result"
    }
   ],
   "execution_count": 19
  },
  {
   "cell_type": "markdown",
   "metadata": {
    "id": "Sal1bM6RFLx4"
   },
   "source": [
    "### 3"
   ]
  },
  {
   "cell_type": "markdown",
   "metadata": {
    "id": "au8Az2JjFLx5"
   },
   "source": [
    "Write a function that gives indices of \"close\" elements of given arrays, namely those pairs of elements whose modulus of difference does not exceed a given value. For example, if the input is an array `array([1.5, 0.5, 2, -4.1, -3, 6, -1])`, an array `array([1.2, 0.5, 1, -4, 3, 0, -1.2])` and the number `0. 5`, then the output should be an array `array([0, 1, 3, 6])` (_**important: not `tuple`, but a one-dimensional array of type `numpy.ndarray` (i.e. `.ndim` from it equals 1)!**_)."
   ]
  },
  {
   "cell_type": "code",
   "metadata": {
    "collapsed": true,
    "id": "WacJagotFLx5",
    "jupyter": {
     "outputs_hidden": true
    },
    "ExecuteTime": {
     "end_time": "2025-01-27T21:07:59.113758Z",
     "start_time": "2025-01-27T21:07:59.109759Z"
    }
   },
   "source": [
    "def find_close(array1, array2, precision):\n",
    "    a = array1 - array2\n",
    "    a = np.where(abs(a) < precision)[0]\n",
    "    return a"
   ],
   "outputs": [],
   "execution_count": 49
  },
  {
   "cell_type": "code",
   "metadata": {
    "collapsed": true,
    "id": "zFLktJlAFLx5",
    "jupyter": {
     "outputs_hidden": true
    },
    "ExecuteTime": {
     "end_time": "2025-01-27T21:08:01.049778Z",
     "start_time": "2025-01-27T21:08:01.044423Z"
    }
   },
   "source": [
    "array1 = np.array([1.5, 0.5, 2, -4.1, -3, 6, -1])\n",
    "array2 = np.array([1.2, 0.5, 1, -4, 3, 0, -1.2])\n",
    "precision = 0.5\n",
    "find_close(array1, array2, precision)"
   ],
   "outputs": [
    {
     "data": {
      "text/plain": [
       "array([0, 1, 3, 6])"
      ]
     },
     "execution_count": 50,
     "metadata": {},
     "output_type": "execute_result"
    }
   ],
   "execution_count": 50
  },
  {
   "cell_type": "markdown",
   "metadata": {
    "id": "vIuNrOzMFLx6"
   },
   "source": [
    "### 4"
   ]
  },
  {
   "cell_type": "markdown",
   "metadata": {
    "id": "ygLvIXXaFLx6"
   },
   "source": [
    "Write a function that makes a block matrix of four blocks, where each block is a given matrix. For example, if the input is a matrix\n",
    "$$\n",
    "\\begin{pmatrix}\n",
    "0 & 1 & 2\\\\\n",
    "3 & 4 & 5\\\\\n",
    "\\end{pmatrix},\n",
    "$$\n",
    "then the answer is the matrix\n",
    "$$\n",
    "\\begin{pmatrix}\n",
    "0 & 1 & 2 & 0 & 1 & 2\\\\\n",
    "3 & 4 & 5 & 3 & 4 & 5\\\\\n",
    "0 & 1 & 2 & 0 & 1 & 2\\\\\n",
    "3 & 4 & 5 & 3 & 4 & 5\\\\\n",
    "\\end{pmatrix}\n",
    "$$"
   ]
  },
  {
   "cell_type": "code",
   "metadata": {
    "collapsed": true,
    "id": "3ZSvD5CbFLx6",
    "jupyter": {
     "outputs_hidden": true
    },
    "ExecuteTime": {
     "end_time": "2025-01-27T21:17:32.129054Z",
     "start_time": "2025-01-27T21:17:32.125739Z"
    }
   },
   "source": [
    "def block_matrix(block):\n",
    "    a = block\n",
    "    # a = np.vstack([a, a])\n",
    "    # a = np.hstack([a, a])\n",
    "    a = np.block([[a, a], [a, a]])\n",
    "    return a"
   ],
   "outputs": [],
   "execution_count": 80
  },
  {
   "cell_type": "code",
   "metadata": {
    "collapsed": true,
    "id": "x2zSnETKFLx6",
    "jupyter": {
     "outputs_hidden": true
    },
    "ExecuteTime": {
     "end_time": "2025-01-27T21:17:33.593338Z",
     "start_time": "2025-01-27T21:17:33.589030Z"
    }
   },
   "source": [
    "block = np.array([[0, 1, 2], [3, 4, 5]])\n",
    "block_matrix(block)"
   ],
   "outputs": [
    {
     "data": {
      "text/plain": [
       "array([[0, 1, 2, 0, 1, 2],\n",
       "       [3, 4, 5, 3, 4, 5],\n",
       "       [0, 1, 2, 0, 1, 2],\n",
       "       [3, 4, 5, 3, 4, 5]])"
      ]
     },
     "execution_count": 81,
     "metadata": {},
     "output_type": "execute_result"
    }
   ],
   "execution_count": 81
  },
  {
   "cell_type": "markdown",
   "metadata": {
    "id": "4Bjhe8y1FLx7"
   },
   "source": [
    "### 5"
   ]
  },
  {
   "cell_type": "markdown",
   "metadata": {
    "id": "-U82db8IFLx7"
   },
   "source": [
    "Write a function that computes the product of all non-zero diagonal elements on the diagonals of a given square matrix. For example, if the input is a matrix\n",
    "$$\n",
    "\\begin{pmatrix}\n",
    "0 & 1 & 2\\\\\n",
    "3 & 4 & 5\\\\\n",
    "6 & 7 & 8\\\\\n",
    "\\end{pmatrix},\n",
    "$$\n",
    "then the answer is 32."
   ]
  },
  {
   "cell_type": "code",
   "metadata": {
    "collapsed": true,
    "id": "KXSqcJtDFLx7",
    "jupyter": {
     "outputs_hidden": true
    },
    "ExecuteTime": {
     "end_time": "2025-01-29T18:47:44.703612Z",
     "start_time": "2025-01-29T18:47:44.698608Z"
    }
   },
   "source": [
    "def diag_prod(matrix):\n",
    "    d = np.diag(matrix)\n",
    "    a = d[ d > 0 ]\n",
    "    a = np.prod(a).item()\n",
    "    return a"
   ],
   "outputs": [],
   "execution_count": 25
  },
  {
   "cell_type": "code",
   "metadata": {
    "collapsed": true,
    "id": "tVMMGkuwFLx7",
    "jupyter": {
     "outputs_hidden": true
    },
    "ExecuteTime": {
     "end_time": "2025-01-29T18:46:51.082391Z",
     "start_time": "2025-01-29T18:46:51.077147Z"
    }
   },
   "source": [
    "matrix = np.array([[0, 1, 2], [3, 4, 5], [6, 7, 8]])\n",
    "diag_prod(matrix)"
   ],
   "outputs": [
    {
     "data": {
      "text/plain": [
       "array(32)"
      ]
     },
     "execution_count": 24,
     "metadata": {},
     "output_type": "execute_result"
    }
   ],
   "execution_count": 24
  },
  {
   "cell_type": "markdown",
   "metadata": {
    "id": "N4x5oKBqFLx8"
   },
   "source": [
    "### 6"
   ]
  },
  {
   "cell_type": "markdown",
   "metadata": {
    "id": "X_KxN00rFLx8"
   },
   "source": [
    "To improve the performance of some machine learning algorithms, it can be useful to use [data normalization](https://vk.cc/8xmfQk) to bring the features in a sample to the same scale - namely, subtract the mean of its values from each column and divide by their standard deviation. Write a function that normalizes the input matrix (column by column). For example, if the input matrix is\n",
    "$$\n",
    "\\begin{pmatrix}\n",
    "1 & 4 & 4200\\\\\n",
    "0 & 10 & 5000\\\\\n",
    "1 & 2 & 1000\\\\\n",
    "\\end{pmatrix},\n",
    "$$\n",
    "then the result with accuracy to hundredths will be the matrix\n",
    "$$\n",
    "\\begin{pmatrix}\n",
    "0.71 & -0.39 & 0.46\\\\\n",
    "-1.41 & 1.37 & 0.93\\\\\n",
    "0.71 & -0.98 & -1.39\\\\\n",
    "\\end{pmatrix}\n",
    "$$\n",
    "\n",
    "_Hint. Keep in mind that you should not get any nan in your matrix. Think in what case they can occur and how to get around this problem._\n"
   ]
  },
  {
   "cell_type": "code",
   "metadata": {
    "collapsed": true,
    "id": "8-1UM3LqFLx8",
    "jupyter": {
     "outputs_hidden": true
    },
    "ExecuteTime": {
     "end_time": "2025-01-29T19:51:13.682508Z",
     "start_time": "2025-01-29T19:51:13.678689Z"
    }
   },
   "source": [
    "def normalize(matrix):\n",
    "    avg = np.mean(matrix, axis=0)\n",
    "    std = np.std(matrix, axis=0)\n",
    "    std[std == 0] = 1.0\n",
    "    a = (matrix - avg) / std\n",
    "    a = np.round(a, 2)\n",
    "    return a"
   ],
   "outputs": [],
   "execution_count": 4
  },
  {
   "cell_type": "code",
   "metadata": {
    "collapsed": true,
    "id": "5s0nCZJNFLx8",
    "jupyter": {
     "outputs_hidden": true
    },
    "ExecuteTime": {
     "end_time": "2025-01-29T19:51:05.060850Z",
     "start_time": "2025-01-29T19:51:05.052852Z"
    }
   },
   "source": [
    "matrix = np.array([[1, 4, 4200], [0, 10, 5000], [1, 2, 1000]])\n",
    "# matrix = np.array([[0, 0, 0], [0, 0, 0], [0, 0, 0]])\n",
    "normalize(matrix)\n"
   ],
   "outputs": [
    {
     "name": "stdout",
     "output_type": "stream",
     "text": [
      "float64\n"
     ]
    },
    {
     "data": {
      "text/plain": [
       "array([[ 0.71, -0.39,  0.46],\n",
       "       [-1.41,  1.37,  0.93],\n",
       "       [ 0.71, -0.98, -1.39]])"
      ]
     },
     "execution_count": 3,
     "metadata": {},
     "output_type": "execute_result"
    }
   ],
   "execution_count": 3
  },
  {
   "cell_type": "markdown",
   "metadata": {
    "id": "GGezY0NEFLx9"
   },
   "source": [
    "### 7"
   ]
  },
  {
   "cell_type": "markdown",
   "metadata": {
    "id": "yBWZF7a5FLx9"
   },
   "source": [
    "Write a function that calculates some primal of the given polynomial (take your favorite number as a constant). For example, if the input is an array of coefficients `array([4, 6, 0, 1])` corresponding to the polynomial $4x^3 + 6x^2 + 1$, the output is an array of coefficients `array([1, 2, 0, 1, -2])` corresponding to the polynomial $x^4 + 2x^3 + x - 2$."
   ]
  },
  {
   "cell_type": "code",
   "metadata": {
    "collapsed": true,
    "id": "IWU9ISN_FLx9",
    "jupyter": {
     "outputs_hidden": true
    },
    "ExecuteTime": {
     "end_time": "2025-01-29T19:19:57.915563Z",
     "start_time": "2025-01-29T19:19:57.912368Z"
    }
   },
   "source": [
    "def antiderivative(coefs, const=-2):\n",
    "    a = np.polyint(coefs, m=1, k=const)\n",
    "    a = np.astype(a, 'int')\n",
    "    return a"
   ],
   "outputs": [],
   "execution_count": 99
  },
  {
   "cell_type": "code",
   "metadata": {
    "collapsed": true,
    "id": "9G2gNNZxFLx9",
    "jupyter": {
     "outputs_hidden": true
    },
    "ExecuteTime": {
     "end_time": "2025-01-29T19:20:00.636107Z",
     "start_time": "2025-01-29T19:20:00.630648Z"
    }
   },
   "source": [
    "coefs = np.array([4, 6, 0, 1])\n",
    "antiderivative(coefs)"
   ],
   "outputs": [
    {
     "data": {
      "text/plain": [
       "array([ 1,  2,  0,  1, -2])"
      ]
     },
     "execution_count": 100,
     "metadata": {},
     "output_type": "execute_result"
    }
   ],
   "execution_count": 100
  },
  {
   "metadata": {},
   "cell_type": "code",
   "outputs": [],
   "execution_count": null,
   "source": ""
  },
  {
   "cell_type": "markdown",
   "metadata": {
    "id": "6LtnZ4T1FLx9"
   },
   "source": [
    "### 8"
   ]
  },
  {
   "cell_type": "markdown",
   "metadata": {
    "id": "vGq8Aao0FLx-"
   },
   "source": [
    "Write a function that makes the given [triangular](https://en.wikipedia.org/wiki/Triangular_matrix) matrix symmetric. For example, if the input is a matrix\n",
    "$$\n",
    "\\begin{pmatrix}\n",
    "1 & 2 & 3 & 4\\\\\n",
    "0 & 5 & 6 & 7\\\\\n",
    "0 & 0 & 8 & 9\\\\\n",
    "0 & 0 & 0 & 10\\\\\n",
    "\\end{pmatrix},\n",
    "$$\n",
    "then the output should be the matrix\n",
    "$$\n",
    "\\begin{pmatrix}\n",
    "1 & 2 & 3 & 4\\\\\n",
    "2 & 5 & 6 & 7\\\\\n",
    "3 & 6 & 8 & 9\\\\\n",
    "4 & 7 & 9 & 10\\\\\n",
    "\\end{pmatrix}.\n",
    "$$"
   ]
  },
  {
   "cell_type": "code",
   "metadata": {
    "collapsed": true,
    "id": "X9YCwhUxFLx-",
    "jupyter": {
     "outputs_hidden": true
    },
    "ExecuteTime": {
     "end_time": "2025-01-29T19:24:32.049911Z",
     "start_time": "2025-01-29T19:24:32.046075Z"
    }
   },
   "source": [
    "def make_symmetric(matrix):\n",
    "    a = matrix.copy()\n",
    "    b = matrix.T\n",
    "    np.fill_diagonal(a, 0)\n",
    "    return a + b"
   ],
   "outputs": [],
   "execution_count": 118
  },
  {
   "cell_type": "code",
   "metadata": {
    "collapsed": true,
    "id": "ShNVSsM-FLx-",
    "jupyter": {
     "outputs_hidden": true
    },
    "ExecuteTime": {
     "end_time": "2025-01-29T19:24:34.515250Z",
     "start_time": "2025-01-29T19:24:34.509223Z"
    }
   },
   "source": [
    "matrix = np.array([[1, 2, 3, 4], [0, 5, 6, 7], [0, 0, 8, 9], [0, 0, 0, 10]])\n",
    "make_symmetric(matrix)"
   ],
   "outputs": [
    {
     "data": {
      "text/plain": [
       "array([[ 1,  2,  3,  4],\n",
       "       [ 2,  5,  6,  7],\n",
       "       [ 3,  6,  8,  9],\n",
       "       [ 4,  7,  9, 10]])"
      ]
     },
     "execution_count": 119,
     "metadata": {},
     "output_type": "execute_result"
    }
   ],
   "execution_count": 119
  },
  {
   "cell_type": "markdown",
   "metadata": {
    "id": "JV_y8k8rFLx-"
   },
   "source": [
    "### 9"
   ]
  },
  {
   "cell_type": "markdown",
   "metadata": {
    "id": "7pX12jtoFLx_"
   },
   "source": [
    "Write a function that creates a rectangular matrix of m equal rows filled with consecutive natural numbers from a to b inclusive in ascending order. For example, if m = 5, a = 3, b = 10, the output will be the matrix\n",
    "$$\n",
    "\\begin{pmatrix}\n",
    "3 & 4 & 5 & 6 & 7 & 8 & 9 & 10\\\\\n",
    "3 & 4 & 5 & 6 & 7 & 8 & 9 & 10\\\\\n",
    "3 & 4 & 5 & 6 & 7 & 8 & 9 & 10\\\\\n",
    "3 & 4 & 5 & 6 & 7 & 8 & 9 & 10\\\\\n",
    "3 & 4 & 5 & 6 & 7 & 8 & 9 & 10\\\\\n",
    "\\end{pmatrix}\n",
    "$$"
   ]
  },
  {
   "cell_type": "code",
   "metadata": {
    "collapsed": true,
    "id": "g2yZmQ4gFLx_",
    "jupyter": {
     "outputs_hidden": true
    },
    "ExecuteTime": {
     "end_time": "2025-01-29T19:27:46.796596Z",
     "start_time": "2025-01-29T19:27:46.792600Z"
    }
   },
   "source": [
    "def construct_matrix(m, a, b):\n",
    "    ar = np.array([np.arange(a, b + 1)] * m)\n",
    "    return ar"
   ],
   "outputs": [],
   "execution_count": 133
  },
  {
   "cell_type": "code",
   "metadata": {
    "collapsed": true,
    "id": "bsaKjkvOFLx_",
    "jupyter": {
     "outputs_hidden": true
    },
    "ExecuteTime": {
     "end_time": "2025-01-29T19:27:48.784793Z",
     "start_time": "2025-01-29T19:27:48.778281Z"
    }
   },
   "source": [
    "m = 5\n",
    "a = 3\n",
    "b = 10\n",
    "construct_matrix(m, a, b)"
   ],
   "outputs": [
    {
     "data": {
      "text/plain": [
       "array([[ 3,  4,  5,  6,  7,  8,  9, 10],\n",
       "       [ 3,  4,  5,  6,  7,  8,  9, 10],\n",
       "       [ 3,  4,  5,  6,  7,  8,  9, 10],\n",
       "       [ 3,  4,  5,  6,  7,  8,  9, 10],\n",
       "       [ 3,  4,  5,  6,  7,  8,  9, 10]])"
      ]
     },
     "execution_count": 134,
     "metadata": {},
     "output_type": "execute_result"
    }
   ],
   "execution_count": 134
  },
  {
   "cell_type": "markdown",
   "metadata": {
    "id": "G9vWLQZWFLx_"
   },
   "source": [
    "### 10"
   ]
  },
  {
   "cell_type": "markdown",
   "metadata": {
    "id": "USWqm0x7FLx_"
   },
   "source": [
    "Write a function that computes the [cosine proximity](https://en.wikipedia.org/wiki/Cosine_similarity) of two vectors. For example, if the vectors `array([-2, 1, 0, -5, 4, 3, -3])` and `array([0, 2, -2, 10, 6, 0, 0])` are given as input, the answer is -0.25."
   ]
  },
  {
   "cell_type": "code",
   "metadata": {
    "collapsed": true,
    "id": "48XiDQTBFLyA",
    "jupyter": {
     "outputs_hidden": true
    },
    "ExecuteTime": {
     "end_time": "2025-01-29T19:33:38.570191Z",
     "start_time": "2025-01-29T19:33:38.564191Z"
    }
   },
   "source": [
    "def cosine_similarity(vec1, vec2):\n",
    "    a = (\n",
    "        np.dot(vec1, vec2)\n",
    "        / (\n",
    "            (np.dot(vec1, vec1) ** 0.5)\n",
    "            *\n",
    "            (np.dot(vec2, vec2) ** 0.5)\n",
    "        )\n",
    "    )\n",
    "    return a"
   ],
   "outputs": [],
   "execution_count": 141
  },
  {
   "cell_type": "code",
   "metadata": {
    "collapsed": true,
    "id": "YmEsEYHrFLyA",
    "jupyter": {
     "outputs_hidden": true
    },
    "ExecuteTime": {
     "end_time": "2025-01-29T19:33:40.718755Z",
     "start_time": "2025-01-29T19:33:40.714507Z"
    }
   },
   "source": [
    "vec1 = np.array([-2, 1, 0, -5, 4, 3, -3])\n",
    "vec2 = np.array([0, 2, -2, 10, 6, 0, 0])\n",
    "cosine_similarity(vec1, vec2)"
   ],
   "outputs": [
    {
     "data": {
      "text/plain": [
       "np.float64(-0.25)"
      ]
     },
     "execution_count": 142,
     "metadata": {},
     "output_type": "execute_result"
    }
   ],
   "execution_count": 142
  }
 ],
 "metadata": {
  "colab": {
   "provenance": []
  },
  "kernelspec": {
   "display_name": "Python 3 (ipykernel)",
   "language": "python",
   "name": "python3"
  },
  "language_info": {
   "codemirror_mode": {
    "name": "ipython",
    "version": 3
   },
   "file_extension": ".py",
   "mimetype": "text/x-python",
   "name": "python",
   "nbconvert_exporter": "python",
   "pygments_lexer": "ipython3",
   "version": "3.12.1"
  }
 },
 "nbformat": 4,
 "nbformat_minor": 0
}
