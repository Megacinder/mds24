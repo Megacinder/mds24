{
 "cells": [
  {
   "cell_type": "code",
   "id": "initial_id",
   "metadata": {
    "collapsed": true,
    "ExecuteTime": {
     "end_time": "2025-05-22T16:08:52.257692Z",
     "start_time": "2025-05-22T16:08:51.715685Z"
    }
   },
   "source": [
    "import matplotlib.pyplot as plt\n",
    "import numpy as np\n",
    "\n",
    "x = np.arange(-10, 10, 0.5)\n",
    "y = (np.arctan(x) + np.pi / 2) / np.pi\n",
    "plt.plot(x, y)\n"
   ],
   "outputs": [
    {
     "data": {
      "text/plain": [
       "[<matplotlib.lines.Line2D at 0x272e3cf7830>]"
      ]
     },
     "execution_count": 1,
     "metadata": {},
     "output_type": "execute_result"
    },
    {
     "data": {
      "text/plain": [
       "<Figure size 640x480 with 1 Axes>"
      ],
      "image/png": "[encoded data removed]"
     },
     "metadata": {},
     "output_type": "display_data"
    }
   ],
   "execution_count": 1
  },
  {
   "metadata": {
    "ExecuteTime": {
     "end_time": "2025-05-24T17:39:41.270298Z",
     "start_time": "2025-05-24T17:39:40.560266Z"
    }
   },
   "cell_type": "code",
   "source": [
    "import pandas as pd\n",
    "import numpy as np\n",
    "from dotenv import load_dotenv\n",
    "from os import getenv\n",
    "\n",
    "load_dotenv()\n",
    "\n",
    "CSV_RS = getenv(\"CSV_RS\")\n",
    "CSV = f\"{CSV_RS}/online_retail_listing.csv\"\n",
    "\n",
    "df = pd.read_csv(CSV, sep=\";\", encoding=\"cp1251\")\n",
    "# print(df.isnull().sum())\n",
    "\n",
    "# df[ df[\"Customer ID\"].isna() ].count()\n",
    "\n",
    "# df.isnull().sum()\n",
    "\n",
    "# https://www.kaggle.com/datasets/ilkeryildiz/online-retail-listing/data\n",
    "# https://docs.google.com/forms/d/e/1FAIpQLSeihi8Ygrby0y_VeXirFr3vEWjeRSX8ENcps8iFuPmJQu8q4A/viewform\n"
   ],
   "id": "f89065f2c47f1ce5",
   "outputs": [],
   "execution_count": 38
  },
  {
   "metadata": {
    "ExecuteTime": {
     "end_time": "2025-05-24T17:47:16.655642Z",
     "start_time": "2025-05-24T17:40:14.142809Z"
    }
   },
   "cell_type": "code",
   "source": "df.sum()",
   "id": "7b1ae7ccae20d360",
   "outputs": [
    {
     "ename": "KeyboardInterrupt",
     "evalue": "",
     "output_type": "error",
     "traceback": [
      "\u001B[31m---------------------------------------------------------------------------\u001B[39m",
      "\u001B[31mTypeError\u001B[39m                                 Traceback (most recent call last)",
      "    \u001B[31m[... skipping hidden 1 frame]\u001B[39m\n",
      "\u001B[36mCell\u001B[39m\u001B[36m \u001B[39m\u001B[32mIn[45]\u001B[39m\u001B[32m, line 1\u001B[39m\n\u001B[32m----> \u001B[39m\u001B[32m1\u001B[39m \u001B[43mdf\u001B[49m\u001B[43m.\u001B[49m\u001B[43msum\u001B[49m\u001B[43m(\u001B[49m\u001B[43m)\u001B[49m\n",
      "\u001B[36mFile \u001B[39m\u001B[32m~\\PycharmProjects\\mds24\\.venv\\Lib\\site-packages\\pandas\\core\\frame.py:11670\u001B[39m, in \u001B[36mDataFrame.sum\u001B[39m\u001B[34m(self, axis, skipna, numeric_only, min_count, **kwargs)\u001B[39m\n\u001B[32m  11661\u001B[39m \u001B[38;5;129m@doc\u001B[39m(make_doc(\u001B[33m\"\u001B[39m\u001B[33msum\u001B[39m\u001B[33m\"\u001B[39m, ndim=\u001B[32m2\u001B[39m))\n\u001B[32m  11662\u001B[39m \u001B[38;5;28;01mdef\u001B[39;00m\u001B[38;5;250m \u001B[39m\u001B[34msum\u001B[39m(\n\u001B[32m  11663\u001B[39m     \u001B[38;5;28mself\u001B[39m,\n\u001B[32m   (...)\u001B[39m\u001B[32m  11668\u001B[39m     **kwargs,\n\u001B[32m  11669\u001B[39m ):\n\u001B[32m> \u001B[39m\u001B[32m11670\u001B[39m     result = \u001B[38;5;28;43msuper\u001B[39;49m\u001B[43m(\u001B[49m\u001B[43m)\u001B[49m\u001B[43m.\u001B[49m\u001B[43msum\u001B[49m\u001B[43m(\u001B[49m\u001B[43maxis\u001B[49m\u001B[43m,\u001B[49m\u001B[43m \u001B[49m\u001B[43mskipna\u001B[49m\u001B[43m,\u001B[49m\u001B[43m \u001B[49m\u001B[43mnumeric_only\u001B[49m\u001B[43m,\u001B[49m\u001B[43m \u001B[49m\u001B[43mmin_count\u001B[49m\u001B[43m,\u001B[49m\u001B[43m \u001B[49m\u001B[43m*\u001B[49m\u001B[43m*\u001B[49m\u001B[43mkwargs\u001B[49m\u001B[43m)\u001B[49m\n\u001B[32m  11671\u001B[39m     \u001B[38;5;28;01mreturn\u001B[39;00m result.__finalize__(\u001B[38;5;28mself\u001B[39m, method=\u001B[33m\"\u001B[39m\u001B[33msum\u001B[39m\u001B[33m\"\u001B[39m)\n",
      "\u001B[36mFile \u001B[39m\u001B[32m~\\PycharmProjects\\mds24\\.venv\\Lib\\site-packages\\pandas\\core\\generic.py:12506\u001B[39m, in \u001B[36mNDFrame.sum\u001B[39m\u001B[34m(self, axis, skipna, numeric_only, min_count, **kwargs)\u001B[39m\n\u001B[32m  12498\u001B[39m \u001B[38;5;28;01mdef\u001B[39;00m\u001B[38;5;250m \u001B[39m\u001B[34msum\u001B[39m(\n\u001B[32m  12499\u001B[39m     \u001B[38;5;28mself\u001B[39m,\n\u001B[32m  12500\u001B[39m     axis: Axis | \u001B[38;5;28;01mNone\u001B[39;00m = \u001B[32m0\u001B[39m,\n\u001B[32m   (...)\u001B[39m\u001B[32m  12504\u001B[39m     **kwargs,\n\u001B[32m  12505\u001B[39m ):\n\u001B[32m> \u001B[39m\u001B[32m12506\u001B[39m     \u001B[38;5;28;01mreturn\u001B[39;00m \u001B[38;5;28;43mself\u001B[39;49m\u001B[43m.\u001B[49m\u001B[43m_min_count_stat_function\u001B[49m\u001B[43m(\u001B[49m\n\u001B[32m  12507\u001B[39m \u001B[43m        \u001B[49m\u001B[33;43m\"\u001B[39;49m\u001B[33;43msum\u001B[39;49m\u001B[33;43m\"\u001B[39;49m\u001B[43m,\u001B[49m\u001B[43m \u001B[49m\u001B[43mnanops\u001B[49m\u001B[43m.\u001B[49m\u001B[43mnansum\u001B[49m\u001B[43m,\u001B[49m\u001B[43m \u001B[49m\u001B[43maxis\u001B[49m\u001B[43m,\u001B[49m\u001B[43m \u001B[49m\u001B[43mskipna\u001B[49m\u001B[43m,\u001B[49m\u001B[43m \u001B[49m\u001B[43mnumeric_only\u001B[49m\u001B[43m,\u001B[49m\u001B[43m \u001B[49m\u001B[43mmin_count\u001B[49m\u001B[43m,\u001B[49m\u001B[43m \u001B[49m\u001B[43m*\u001B[49m\u001B[43m*\u001B[49m\u001B[43mkwargs\u001B[49m\n\u001B[32m  12508\u001B[39m \u001B[43m    \u001B[49m\u001B[43m)\u001B[49m\n",
      "\u001B[36mFile \u001B[39m\u001B[32m~\\PycharmProjects\\mds24\\.venv\\Lib\\site-packages\\pandas\\core\\generic.py:12489\u001B[39m, in \u001B[36mNDFrame._min_count_stat_function\u001B[39m\u001B[34m(self, name, func, axis, skipna, numeric_only, min_count, **kwargs)\u001B[39m\n\u001B[32m  12487\u001B[39m     axis = \u001B[32m0\u001B[39m\n\u001B[32m> \u001B[39m\u001B[32m12489\u001B[39m \u001B[38;5;28;01mreturn\u001B[39;00m \u001B[38;5;28;43mself\u001B[39;49m\u001B[43m.\u001B[49m\u001B[43m_reduce\u001B[49m\u001B[43m(\u001B[49m\n\u001B[32m  12490\u001B[39m \u001B[43m    \u001B[49m\u001B[43mfunc\u001B[49m\u001B[43m,\u001B[49m\n\u001B[32m  12491\u001B[39m \u001B[43m    \u001B[49m\u001B[43mname\u001B[49m\u001B[43m=\u001B[49m\u001B[43mname\u001B[49m\u001B[43m,\u001B[49m\n\u001B[32m  12492\u001B[39m \u001B[43m    \u001B[49m\u001B[43maxis\u001B[49m\u001B[43m=\u001B[49m\u001B[43maxis\u001B[49m\u001B[43m,\u001B[49m\n\u001B[32m  12493\u001B[39m \u001B[43m    \u001B[49m\u001B[43mskipna\u001B[49m\u001B[43m=\u001B[49m\u001B[43mskipna\u001B[49m\u001B[43m,\u001B[49m\n\u001B[32m  12494\u001B[39m \u001B[43m    \u001B[49m\u001B[43mnumeric_only\u001B[49m\u001B[43m=\u001B[49m\u001B[43mnumeric_only\u001B[49m\u001B[43m,\u001B[49m\n\u001B[32m  12495\u001B[39m \u001B[43m    \u001B[49m\u001B[43mmin_count\u001B[49m\u001B[43m=\u001B[49m\u001B[43mmin_count\u001B[49m\u001B[43m,\u001B[49m\n\u001B[32m  12496\u001B[39m \u001B[43m\u001B[49m\u001B[43m)\u001B[49m\n",
      "\u001B[36mFile \u001B[39m\u001B[32m~\\PycharmProjects\\mds24\\.venv\\Lib\\site-packages\\pandas\\core\\frame.py:11562\u001B[39m, in \u001B[36mDataFrame._reduce\u001B[39m\u001B[34m(self, op, name, axis, skipna, numeric_only, filter_type, **kwds)\u001B[39m\n\u001B[32m  11560\u001B[39m \u001B[38;5;66;03m# After possibly _get_data and transposing, we are now in the\u001B[39;00m\n\u001B[32m  11561\u001B[39m \u001B[38;5;66;03m#  simple case where we can use BlockManager.reduce\u001B[39;00m\n\u001B[32m> \u001B[39m\u001B[32m11562\u001B[39m res = \u001B[43mdf\u001B[49m\u001B[43m.\u001B[49m\u001B[43m_mgr\u001B[49m\u001B[43m.\u001B[49m\u001B[43mreduce\u001B[49m\u001B[43m(\u001B[49m\u001B[43mblk_func\u001B[49m\u001B[43m)\u001B[49m\n\u001B[32m  11563\u001B[39m out = df._constructor_from_mgr(res, axes=res.axes).iloc[\u001B[32m0\u001B[39m]\n",
      "\u001B[36mFile \u001B[39m\u001B[32m~\\PycharmProjects\\mds24\\.venv\\Lib\\site-packages\\pandas\\core\\internals\\managers.py:1500\u001B[39m, in \u001B[36mBlockManager.reduce\u001B[39m\u001B[34m(self, func)\u001B[39m\n\u001B[32m   1499\u001B[39m \u001B[38;5;28;01mfor\u001B[39;00m blk \u001B[38;5;129;01min\u001B[39;00m \u001B[38;5;28mself\u001B[39m.blocks:\n\u001B[32m-> \u001B[39m\u001B[32m1500\u001B[39m     nbs = \u001B[43mblk\u001B[49m\u001B[43m.\u001B[49m\u001B[43mreduce\u001B[49m\u001B[43m(\u001B[49m\u001B[43mfunc\u001B[49m\u001B[43m)\u001B[49m\n\u001B[32m   1501\u001B[39m     res_blocks.extend(nbs)\n",
      "\u001B[36mFile \u001B[39m\u001B[32m~\\PycharmProjects\\mds24\\.venv\\Lib\\site-packages\\pandas\\core\\internals\\blocks.py:404\u001B[39m, in \u001B[36mBlock.reduce\u001B[39m\u001B[34m(self, func)\u001B[39m\n\u001B[32m    402\u001B[39m \u001B[38;5;28;01massert\u001B[39;00m \u001B[38;5;28mself\u001B[39m.ndim == \u001B[32m2\u001B[39m\n\u001B[32m--> \u001B[39m\u001B[32m404\u001B[39m result = \u001B[43mfunc\u001B[49m\u001B[43m(\u001B[49m\u001B[38;5;28;43mself\u001B[39;49m\u001B[43m.\u001B[49m\u001B[43mvalues\u001B[49m\u001B[43m)\u001B[49m\n\u001B[32m    406\u001B[39m \u001B[38;5;28;01mif\u001B[39;00m \u001B[38;5;28mself\u001B[39m.values.ndim == \u001B[32m1\u001B[39m:\n",
      "\u001B[36mFile \u001B[39m\u001B[32m~\\PycharmProjects\\mds24\\.venv\\Lib\\site-packages\\pandas\\core\\frame.py:11481\u001B[39m, in \u001B[36mDataFrame._reduce.<locals>.blk_func\u001B[39m\u001B[34m(values, axis)\u001B[39m\n\u001B[32m  11480\u001B[39m \u001B[38;5;28;01melse\u001B[39;00m:\n\u001B[32m> \u001B[39m\u001B[32m11481\u001B[39m     \u001B[38;5;28;01mreturn\u001B[39;00m \u001B[43mop\u001B[49m\u001B[43m(\u001B[49m\u001B[43mvalues\u001B[49m\u001B[43m,\u001B[49m\u001B[43m \u001B[49m\u001B[43maxis\u001B[49m\u001B[43m=\u001B[49m\u001B[43maxis\u001B[49m\u001B[43m,\u001B[49m\u001B[43m \u001B[49m\u001B[43mskipna\u001B[49m\u001B[43m=\u001B[49m\u001B[43mskipna\u001B[49m\u001B[43m,\u001B[49m\u001B[43m \u001B[49m\u001B[43m*\u001B[49m\u001B[43m*\u001B[49m\u001B[43mkwds\u001B[49m\u001B[43m)\u001B[49m\n",
      "\u001B[36mFile \u001B[39m\u001B[32m~\\PycharmProjects\\mds24\\.venv\\Lib\\site-packages\\pandas\\core\\nanops.py:85\u001B[39m, in \u001B[36mdisallow.__call__.<locals>._f\u001B[39m\u001B[34m(*args, **kwargs)\u001B[39m\n\u001B[32m     84\u001B[39m \u001B[38;5;28;01mtry\u001B[39;00m:\n\u001B[32m---> \u001B[39m\u001B[32m85\u001B[39m     \u001B[38;5;28;01mreturn\u001B[39;00m \u001B[43mf\u001B[49m\u001B[43m(\u001B[49m\u001B[43m*\u001B[49m\u001B[43margs\u001B[49m\u001B[43m,\u001B[49m\u001B[43m \u001B[49m\u001B[43m*\u001B[49m\u001B[43m*\u001B[49m\u001B[43mkwargs\u001B[49m\u001B[43m)\u001B[49m\n\u001B[32m     86\u001B[39m \u001B[38;5;28;01mexcept\u001B[39;00m \u001B[38;5;167;01mValueError\u001B[39;00m \u001B[38;5;28;01mas\u001B[39;00m e:\n\u001B[32m     87\u001B[39m     \u001B[38;5;66;03m# we want to transform an object array\u001B[39;00m\n\u001B[32m     88\u001B[39m     \u001B[38;5;66;03m# ValueError message to the more typical TypeError\u001B[39;00m\n\u001B[32m     89\u001B[39m     \u001B[38;5;66;03m# e.g. this is normally a disallowed function on\u001B[39;00m\n\u001B[32m     90\u001B[39m     \u001B[38;5;66;03m# object arrays that contain strings\u001B[39;00m\n",
      "\u001B[36mFile \u001B[39m\u001B[32m~\\PycharmProjects\\mds24\\.venv\\Lib\\site-packages\\pandas\\core\\nanops.py:404\u001B[39m, in \u001B[36m_datetimelike_compat.<locals>.new_func\u001B[39m\u001B[34m(values, axis, skipna, mask, **kwargs)\u001B[39m\n\u001B[32m    402\u001B[39m     mask = isna(values)\n\u001B[32m--> \u001B[39m\u001B[32m404\u001B[39m result = \u001B[43mfunc\u001B[49m\u001B[43m(\u001B[49m\u001B[43mvalues\u001B[49m\u001B[43m,\u001B[49m\u001B[43m \u001B[49m\u001B[43maxis\u001B[49m\u001B[43m=\u001B[49m\u001B[43maxis\u001B[49m\u001B[43m,\u001B[49m\u001B[43m \u001B[49m\u001B[43mskipna\u001B[49m\u001B[43m=\u001B[49m\u001B[43mskipna\u001B[49m\u001B[43m,\u001B[49m\u001B[43m \u001B[49m\u001B[43mmask\u001B[49m\u001B[43m=\u001B[49m\u001B[43mmask\u001B[49m\u001B[43m,\u001B[49m\u001B[43m \u001B[49m\u001B[43m*\u001B[49m\u001B[43m*\u001B[49m\u001B[43mkwargs\u001B[49m\u001B[43m)\u001B[49m\n\u001B[32m    406\u001B[39m \u001B[38;5;28;01mif\u001B[39;00m datetimelike:\n",
      "\u001B[36mFile \u001B[39m\u001B[32m~\\PycharmProjects\\mds24\\.venv\\Lib\\site-packages\\pandas\\core\\nanops.py:477\u001B[39m, in \u001B[36mmaybe_operate_rowwise.<locals>.newfunc\u001B[39m\u001B[34m(values, axis, **kwargs)\u001B[39m\n\u001B[32m    475\u001B[39m     \u001B[38;5;28;01mreturn\u001B[39;00m np.array(results)\n\u001B[32m--> \u001B[39m\u001B[32m477\u001B[39m \u001B[38;5;28;01mreturn\u001B[39;00m \u001B[43mfunc\u001B[49m\u001B[43m(\u001B[49m\u001B[43mvalues\u001B[49m\u001B[43m,\u001B[49m\u001B[43m \u001B[49m\u001B[43maxis\u001B[49m\u001B[43m=\u001B[49m\u001B[43maxis\u001B[49m\u001B[43m,\u001B[49m\u001B[43m \u001B[49m\u001B[43m*\u001B[49m\u001B[43m*\u001B[49m\u001B[43mkwargs\u001B[49m\u001B[43m)\u001B[49m\n",
      "\u001B[36mFile \u001B[39m\u001B[32m~\\PycharmProjects\\mds24\\.venv\\Lib\\site-packages\\pandas\\core\\nanops.py:646\u001B[39m, in \u001B[36mnansum\u001B[39m\u001B[34m(values, axis, skipna, min_count, mask)\u001B[39m\n\u001B[32m    644\u001B[39m     dtype_sum = np.dtype(np.float64)\n\u001B[32m--> \u001B[39m\u001B[32m646\u001B[39m the_sum = \u001B[43mvalues\u001B[49m\u001B[43m.\u001B[49m\u001B[43msum\u001B[49m\u001B[43m(\u001B[49m\u001B[43maxis\u001B[49m\u001B[43m,\u001B[49m\u001B[43m \u001B[49m\u001B[43mdtype\u001B[49m\u001B[43m=\u001B[49m\u001B[43mdtype_sum\u001B[49m\u001B[43m)\u001B[49m\n\u001B[32m    647\u001B[39m the_sum = _maybe_null_out(the_sum, axis, mask, values.shape, min_count=min_count)\n",
      "\u001B[36mFile \u001B[39m\u001B[32m~\\PycharmProjects\\mds24\\.venv\\Lib\\site-packages\\numpy\\_core\\_methods.py:52\u001B[39m, in \u001B[36m_sum\u001B[39m\u001B[34m(a, axis, dtype, out, keepdims, initial, where)\u001B[39m\n\u001B[32m     50\u001B[39m \u001B[38;5;28;01mdef\u001B[39;00m\u001B[38;5;250m \u001B[39m\u001B[34m_sum\u001B[39m(a, axis=\u001B[38;5;28;01mNone\u001B[39;00m, dtype=\u001B[38;5;28;01mNone\u001B[39;00m, out=\u001B[38;5;28;01mNone\u001B[39;00m, keepdims=\u001B[38;5;28;01mFalse\u001B[39;00m,\n\u001B[32m     51\u001B[39m          initial=_NoValue, where=\u001B[38;5;28;01mTrue\u001B[39;00m):\n\u001B[32m---> \u001B[39m\u001B[32m52\u001B[39m     \u001B[38;5;28;01mreturn\u001B[39;00m \u001B[43mumr_sum\u001B[49m\u001B[43m(\u001B[49m\u001B[43ma\u001B[49m\u001B[43m,\u001B[49m\u001B[43m \u001B[49m\u001B[43maxis\u001B[49m\u001B[43m,\u001B[49m\u001B[43m \u001B[49m\u001B[43mdtype\u001B[49m\u001B[43m,\u001B[49m\u001B[43m \u001B[49m\u001B[43mout\u001B[49m\u001B[43m,\u001B[49m\u001B[43m \u001B[49m\u001B[43mkeepdims\u001B[49m\u001B[43m,\u001B[49m\u001B[43m \u001B[49m\u001B[43minitial\u001B[49m\u001B[43m,\u001B[49m\u001B[43m \u001B[49m\u001B[43mwhere\u001B[49m\u001B[43m)\u001B[49m\n",
      "\u001B[31mTypeError\u001B[39m: can only concatenate str (not \"int\") to str",
      "\nDuring handling of the above exception, another exception occurred:\n",
      "\u001B[31mKeyboardInterrupt\u001B[39m                         Traceback (most recent call last)",
      "    \u001B[31m[... skipping hidden 1 frame]\u001B[39m\n",
      "\u001B[36mFile \u001B[39m\u001B[32m~\\PycharmProjects\\mds24\\.venv\\Lib\\site-packages\\IPython\\core\\interactiveshell.py:2123\u001B[39m, in \u001B[36mInteractiveShell.showtraceback\u001B[39m\u001B[34m(self, exc_tuple, filename, tb_offset, exception_only, running_compiled_code)\u001B[39m\n\u001B[32m   2120\u001B[39m     msg = traceback.format_exception_only(etype, value)\n\u001B[32m   2121\u001B[39m     \u001B[38;5;28;01mreturn\u001B[39;00m \u001B[33m'\u001B[39m\u001B[33m'\u001B[39m.join(msg)\n\u001B[32m-> \u001B[39m\u001B[32m2123\u001B[39m \u001B[38;5;28;01mdef\u001B[39;00m\u001B[38;5;250m \u001B[39m\u001B[34mshowtraceback\u001B[39m(\u001B[38;5;28mself\u001B[39m, exc_tuple=\u001B[38;5;28;01mNone\u001B[39;00m, filename=\u001B[38;5;28;01mNone\u001B[39;00m, tb_offset=\u001B[38;5;28;01mNone\u001B[39;00m,\n\u001B[32m   2124\u001B[39m                   exception_only=\u001B[38;5;28;01mFalse\u001B[39;00m, running_compiled_code=\u001B[38;5;28;01mFalse\u001B[39;00m):\n\u001B[32m   2125\u001B[39m \u001B[38;5;250m    \u001B[39m\u001B[33;03m\"\"\"Display the exception that just occurred.\u001B[39;00m\n\u001B[32m   2126\u001B[39m \n\u001B[32m   2127\u001B[39m \u001B[33;03m    If nothing is known about the exception, this is the method which\u001B[39;00m\n\u001B[32m   (...)\u001B[39m\u001B[32m   2133\u001B[39m \u001B[33;03m    SyntaxError exception, don't try to analyze the stack manually and\u001B[39;00m\n\u001B[32m   2134\u001B[39m \u001B[33;03m    simply call this method.\"\"\"\u001B[39;00m\n\u001B[32m   2136\u001B[39m     \u001B[38;5;28;01mtry\u001B[39;00m:\n",
      "\u001B[31mKeyboardInterrupt\u001B[39m: "
     ]
    }
   ],
   "execution_count": 45
  },
  {
   "metadata": {},
   "cell_type": "code",
   "outputs": [],
   "execution_count": null,
   "source": "df.count()",
   "id": "96d4258a8a2baf8b"
  },
  {
   "metadata": {
    "ExecuteTime": {
     "end_time": "2025-05-24T17:25:33.567894Z",
     "start_time": "2025-05-24T17:25:33.503571Z"
    }
   },
   "cell_type": "code",
   "source": [
    "# do we need to drop empty customers?\n",
    "df = df.dropna(subset=[\"Customer ID\"])"
   ],
   "id": "cb92837f01570a40",
   "outputs": [],
   "execution_count": 25
  },
  {
   "metadata": {
    "ExecuteTime": {
     "end_time": "2025-05-24T17:29:28.107432Z",
     "start_time": "2025-05-24T17:29:27.613280Z"
    }
   },
   "cell_type": "code",
   "source": [
    "# df[\"InvoiceDate\"] = pd.to_datetime(df[\"InvoiceDate\"], format=\"%d.%m.%Y %H:%M\")\n",
    "df[\"Price\"] = df[\"Price\"].replace(\",\", \".\", regex=True)\n",
    "\n",
    "for num_col in (\"Price\", \"Quantity\"):\n",
    "    df[num_col] = df[num_col].replace(\",\", \".\", regex=True)\n",
    "    df[num_col] = pd.to_numeric(df[num_col])\n",
    "\n",
    "# for num_col in df.select_dtypes(include=[\"number\"]).columns:\n",
    "\n",
    "\n",
    "# df[\"Price\"] = df[\"Price\"].replace(\",\", \".\", regex=True)\n",
    "\n"
   ],
   "id": "2ef417ed2045cbd7",
   "outputs": [],
   "execution_count": 34
  },
  {
   "metadata": {
    "ExecuteTime": {
     "end_time": "2025-05-24T17:29:56.638666Z",
     "start_time": "2025-05-24T17:29:56.623990Z"
    }
   },
   "cell_type": "code",
   "source": [
    "df = df[df[\"Invoice\"].astype(str).str.startswith(\"C\")]\n",
    "\n",
    "df"
   ],
   "id": "ae4a8dbcae7b1501",
   "outputs": [
    {
     "data": {
      "text/plain": [
       "         Invoice StockCode                     Description  Quantity  \\\n",
       "178      C489449     22087        PAPER BUNTING WHITE LACE       -12   \n",
       "179      C489449    85206A    CREAM FELT EASTER EGG BASKET        -6   \n",
       "180      C489449     21895   POTTING SHED SOW 'N' GROW SET        -4   \n",
       "181      C489449     21896              POTTING SHED TWINE        -6   \n",
       "182      C489449     22083      PAPER CHAIN KIT RETRO SPOT       -12   \n",
       "...          ...       ...                             ...       ...   \n",
       "1046566  C580313     22649    STRAWBERRY FAIRY CAKE TEAPOT        -3   \n",
       "1046567  C580313     22419                LIPSTICK PEN RED        -6   \n",
       "1046568  C580313     22303        COFFEE MUG APPLES DESIGN        -2   \n",
       "1046569  C580313     21232  STRAWBERRY CERAMIC TRINKET POT        -3   \n",
       "1047708  C580392    84247E  PACK OF 12 CHRISTMAS FUN CARDS       -12   \n",
       "\n",
       "                InvoiceDate  Price  Customer ID         Country  \n",
       "178     2009-12-01 10:33:00   2.95      16321.0       Australia  \n",
       "179     2009-12-01 10:33:00   1.65      16321.0       Australia  \n",
       "180     2009-12-01 10:33:00   4.25      16321.0       Australia  \n",
       "181     2009-12-01 10:33:00   2.10      16321.0       Australia  \n",
       "182     2009-12-01 10:33:00   2.95      16321.0       Australia  \n",
       "...                     ...    ...          ...             ...  \n",
       "1046566 2011-12-02 15:10:00   4.95      12668.0         Germany  \n",
       "1046567 2011-12-02 15:10:00   0.42      12668.0         Germany  \n",
       "1046568 2011-12-02 15:10:00   2.55      12668.0         Germany  \n",
       "1046569 2011-12-02 15:10:00   1.25      12668.0         Germany  \n",
       "1047708 2011-12-04 10:46:00   2.95      16283.0  United Kingdom  \n",
       "\n",
       "[18513 rows x 8 columns]"
      ],
      "text/html": [
       "<div>\n",
       "<style scoped>\n",
       "    .dataframe tbody tr th:only-of-type {\n",
       "        vertical-align: middle;\n",
       "    }\n",
       "\n",
       "    .dataframe tbody tr th {\n",
       "        vertical-align: top;\n",
       "    }\n",
       "\n",
       "    .dataframe thead th {\n",
       "        text-align: right;\n",
       "    }\n",
       "</style>\n",
       "<table border=\"1\" class=\"dataframe\">\n",
       "  <thead>\n",
       "    <tr style=\"text-align: right;\">\n",
       "      <th></th>\n",
       "      <th>Invoice</th>\n",
       "      <th>StockCode</th>\n",
       "      <th>Description</th>\n",
       "      <th>Quantity</th>\n",
       "      <th>InvoiceDate</th>\n",
       "      <th>Price</th>\n",
       "      <th>Customer ID</th>\n",
       "      <th>Country</th>\n",
       "    </tr>\n",
       "  </thead>\n",
       "  <tbody>\n",
       "    <tr>\n",
       "      <th>178</th>\n",
       "      <td>C489449</td>\n",
       "      <td>22087</td>\n",
       "      <td>PAPER BUNTING WHITE LACE</td>\n",
       "      <td>-12</td>\n",
       "      <td>2009-12-01 10:33:00</td>\n",
       "      <td>2.95</td>\n",
       "      <td>16321.0</td>\n",
       "      <td>Australia</td>\n",
       "    </tr>\n",
       "    <tr>\n",
       "      <th>179</th>\n",
       "      <td>C489449</td>\n",
       "      <td>85206A</td>\n",
       "      <td>CREAM FELT EASTER EGG BASKET</td>\n",
       "      <td>-6</td>\n",
       "      <td>2009-12-01 10:33:00</td>\n",
       "      <td>1.65</td>\n",
       "      <td>16321.0</td>\n",
       "      <td>Australia</td>\n",
       "    </tr>\n",
       "    <tr>\n",
       "      <th>180</th>\n",
       "      <td>C489449</td>\n",
       "      <td>21895</td>\n",
       "      <td>POTTING SHED SOW 'N' GROW SET</td>\n",
       "      <td>-4</td>\n",
       "      <td>2009-12-01 10:33:00</td>\n",
       "      <td>4.25</td>\n",
       "      <td>16321.0</td>\n",
       "      <td>Australia</td>\n",
       "    </tr>\n",
       "    <tr>\n",
       "      <th>181</th>\n",
       "      <td>C489449</td>\n",
       "      <td>21896</td>\n",
       "      <td>POTTING SHED TWINE</td>\n",
       "      <td>-6</td>\n",
       "      <td>2009-12-01 10:33:00</td>\n",
       "      <td>2.10</td>\n",
       "      <td>16321.0</td>\n",
       "      <td>Australia</td>\n",
       "    </tr>\n",
       "    <tr>\n",
       "      <th>182</th>\n",
       "      <td>C489449</td>\n",
       "      <td>22083</td>\n",
       "      <td>PAPER CHAIN KIT RETRO SPOT</td>\n",
       "      <td>-12</td>\n",
       "      <td>2009-12-01 10:33:00</td>\n",
       "      <td>2.95</td>\n",
       "      <td>16321.0</td>\n",
       "      <td>Australia</td>\n",
       "    </tr>\n",
       "    <tr>\n",
       "      <th>...</th>\n",
       "      <td>...</td>\n",
       "      <td>...</td>\n",
       "      <td>...</td>\n",
       "      <td>...</td>\n",
       "      <td>...</td>\n",
       "      <td>...</td>\n",
       "      <td>...</td>\n",
       "      <td>...</td>\n",
       "    </tr>\n",
       "    <tr>\n",
       "      <th>1046566</th>\n",
       "      <td>C580313</td>\n",
       "      <td>22649</td>\n",
       "      <td>STRAWBERRY FAIRY CAKE TEAPOT</td>\n",
       "      <td>-3</td>\n",
       "      <td>2011-12-02 15:10:00</td>\n",
       "      <td>4.95</td>\n",
       "      <td>12668.0</td>\n",
       "      <td>Germany</td>\n",
       "    </tr>\n",
       "    <tr>\n",
       "      <th>1046567</th>\n",
       "      <td>C580313</td>\n",
       "      <td>22419</td>\n",
       "      <td>LIPSTICK PEN RED</td>\n",
       "      <td>-6</td>\n",
       "      <td>2011-12-02 15:10:00</td>\n",
       "      <td>0.42</td>\n",
       "      <td>12668.0</td>\n",
       "      <td>Germany</td>\n",
       "    </tr>\n",
       "    <tr>\n",
       "      <th>1046568</th>\n",
       "      <td>C580313</td>\n",
       "      <td>22303</td>\n",
       "      <td>COFFEE MUG APPLES DESIGN</td>\n",
       "      <td>-2</td>\n",
       "      <td>2011-12-02 15:10:00</td>\n",
       "      <td>2.55</td>\n",
       "      <td>12668.0</td>\n",
       "      <td>Germany</td>\n",
       "    </tr>\n",
       "    <tr>\n",
       "      <th>1046569</th>\n",
       "      <td>C580313</td>\n",
       "      <td>21232</td>\n",
       "      <td>STRAWBERRY CERAMIC TRINKET POT</td>\n",
       "      <td>-3</td>\n",
       "      <td>2011-12-02 15:10:00</td>\n",
       "      <td>1.25</td>\n",
       "      <td>12668.0</td>\n",
       "      <td>Germany</td>\n",
       "    </tr>\n",
       "    <tr>\n",
       "      <th>1047708</th>\n",
       "      <td>C580392</td>\n",
       "      <td>84247E</td>\n",
       "      <td>PACK OF 12 CHRISTMAS FUN CARDS</td>\n",
       "      <td>-12</td>\n",
       "      <td>2011-12-04 10:46:00</td>\n",
       "      <td>2.95</td>\n",
       "      <td>16283.0</td>\n",
       "      <td>United Kingdom</td>\n",
       "    </tr>\n",
       "  </tbody>\n",
       "</table>\n",
       "<p>18513 rows × 8 columns</p>\n",
       "</div>"
      ]
     },
     "execution_count": 37,
     "metadata": {},
     "output_type": "execute_result"
    }
   ],
   "execution_count": 37
  },
  {
   "metadata": {
    "ExecuteTime": {
     "end_time": "2025-05-24T17:23:41.844330Z",
     "start_time": "2025-05-24T17:23:41.639996Z"
    }
   },
   "cell_type": "code",
   "source": [
    "df = df[\n",
    "    ( pd.to_numeric(df[\"Quantity\"]) > 0 )\n",
    "    & ( pd.to_numeric(df[\"Price\"]) > 0 )\n",
    "]"
   ],
   "id": "e502c013e5766d1c",
   "outputs": [],
   "execution_count": 17
  },
  {
   "metadata": {},
   "cell_type": "code",
   "outputs": [],
   "execution_count": null,
   "source": "",
   "id": "27ef01a99c191340"
  }
 ],
 "metadata": {
  "kernelspec": {
   "display_name": "Python 3",
   "language": "python",
   "name": "python3"
  },
  "language_info": {
   "codemirror_mode": {
    "name": "ipython",
    "version": 2
   },
   "file_extension": ".py",
   "mimetype": "text/x-python",
   "name": "python",
   "nbconvert_exporter": "python",
   "pygments_lexer": "ipython2",
   "version": "2.7.6"
  }
 },
 "nbformat": 4,
 "nbformat_minor": 5
}
