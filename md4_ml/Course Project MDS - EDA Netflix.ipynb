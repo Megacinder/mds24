{
  "nbformat": 4,
  "nbformat_minor": 0,
  "metadata": {
    "colab": {
      "provenance": []
    },
    "kernelspec": {
      "name": "python3",
      "display_name": "Python 3"
    },
    "language_info": {
      "name": "python"
    }
  },
  "cells": [
    {
      "cell_type": "markdown",
      "metadata": {
        "id": "f1gL2DEfNRGu"
      },
      "source": [
        "# Product Approach in Data Analytics, MDS\n",
        "\n",
        "## HSE, 2024-25"
      ]
    },
    {
      "cell_type": "markdown",
      "metadata": {
        "id": "fdTH3pxXFLxw"
      },
      "source": [
        "## Course Project. Exploratory Data Analysis"
      ]
    },
    {
      "cell_type": "markdown",
      "metadata": {
        "id": "kqVyveO4FLxx"
      },
      "source": [
        "## General Information"
      ]
    },
    {
      "cell_type": "markdown",
      "metadata": {
        "id": "2A0wmBWwFLxx"
      },
      "source": [
        "__Date of issue:__ 28.04.2025\n",
        "\n",
        "__Project defense:__ ~ 25.06.2025"
      ]
    },
    {
      "cell_type": "markdown",
      "metadata": {
        "id": "c3WPv6hp7hNJ"
      },
      "source": [
        "## Execution Format"
      ]
    },
    {
      "cell_type": "markdown",
      "metadata": {
        "id": "G119PlyX7hNS"
      },
      "source": [
        "The coursework project is a creative, initiative-based group assignment, carried out by students in teams of 3 to 6 people. At the same time, it should be remembered that the larger the team, the higher the overall requirements for the team and the project they perform. Teams are allowed to be formed from students of different streams.\n",
        "\n",
        "When evaluating the results of the project carried out by the team, it is mandatory to check and consider the contribution of ***each participant*** to the overall work of the team. Consequently, it is extremely important to responsibly approach the selection of teammates, the distribution of responsibilities within the team, and the prevention of \"dead weight\" in the team.\n",
        "\n",
        "If necessary, the team has the right by majority vote to exclude a person from the team *before the project defense* by informing the instructor, in case that person did not contribute during the project and was, in fact, the \"dead weight.\" Remember this possibility, as the presence of \"dead weight\" can negatively affect the quality and grade of the entire project and, consequently, the entire team!\n",
        "\n",
        "The registration of team compositions is carried out via the link in the table:\n",
        "\n",
        "https://docs.google.com/spreadsheets/d/132inC1TqG8xfan65CpmJX_O3jJR5eiDugRWZ-hdMlbc/edit?usp=sharing\n"
      ]
    },
    {
      "cell_type": "markdown",
      "metadata": {
        "id": "qK8Ari9eFLxz"
      },
      "source": [
        "## Evaluation and Penalties\n",
        "\n"
      ]
    },
    {
      "cell_type": "markdown",
      "source": [
        "The coursework project is evaluated based on the team's oral defense (presentation) of their completed project before a committee. The committee is composed of course instructors, course assistants, and invited industry experts.\n",
        "\n",
        "Within each defense, the committee assigns two types of grades.\n",
        "\n",
        "The first grade is for the overall project. It is given by the committee based on the depth of the team's exploration of the subject area, the complexity of the tools used in the project, and other aspects related to the content of the project's terms of reference. When assigning this grade, the committee refers to the criteria detailed below in the \"Project Evaluation Criteria\" section.\n",
        "\n",
        "The second grade is the individual grade for each team member. This grade is subsequently recorded in the grade book. The individual grade for a team member is determined by the committee based on how well the member understands the completed project, how they respond to questions addressed personally to them by the committee, how their role in the project is evident, and other aspects related to the person's participation in the team's activities. The individual grade cannot exceed the team's overall project grade (the first grade). However, if the participant confidently and correctly answers all questions addressed to them, is well-versed in the material and content of the completed project, and their role in the team's work is unquestionable, then the individual grade becomes equal to the overall project grade (i.e., in an ideal case, the second grade equals the first grade).\n",
        "\n",
        "To avoid subjectivity and/or bias in the evaluation by certain committee members towards specific teams, as well as any other manifestations of unequal conditions, the distribution of teams among the committees is done completely randomly using the Numpy library :) — the random seed is the date on which the distribution is performed, for example, `np.random.seed(28042025)`.\n",
        "\n",
        "To maintain the fairness and impartiality of the random distribution, any transfers of teams between committees (committee changes) are not allowed. Student attendance at the project defense is mandatory; a student's contribution without their presence is not evaluated and automatically equals zero. Additionally, having the camera turned on throughout the entire time in the conference during the project defense is mandatory."
      ],
      "metadata": {
        "id": "QGLPrtP8M51y"
      }
    },
    {
      "cell_type": "markdown",
      "metadata": {
        "id": "zNja-u8vFLx0"
      },
      "source": [
        "## Task description"
      ]
    },
    {
      "cell_type": "markdown",
      "metadata": {
        "id": "GNs6yg1QT0I3"
      },
      "source": [
        "<img src=\"https://pp.userapi.com/c854528/v854528797/c62ce/FiPEibYUxJc.jpg\" width=\"40%\">"
      ]
    },
    {
      "cell_type": "markdown",
      "metadata": {
        "id": "JYeFv80TV21w"
      },
      "source": [
        "Over the past 5-10 years, Netflix has gained a large number of viewers. With the increase in viewers, the variety of shows has also increased. Accordingly, analysts in the film industry are faced with the task of researching data with ratings of various series.\n",
        "\n",
        "In this task, you are to conduct a visual analysis of the dataset **1000 Netflix Shows** (as of 11.06.2017) and draw conclusions.\n",
        "\n"
      ]
    },
    {
      "cell_type": "markdown",
      "source": [
        "### Feature description"
      ],
      "metadata": {
        "id": "hb-N44hz6UUQ"
      }
    },
    {
      "cell_type": "markdown",
      "metadata": {
        "id": "7TCLul8ycMHW"
      },
      "source": [
        "* `title` - the title of the show.\n",
        "* `rating` - the show's rating, e.g., G, PG, TV-14, TV-MA.\n",
        "* `ratingLevel` - description of the rating group and show features.\n",
        "* `ratingDescription` - the show's rating encoded as a number.\n",
        "* `release year` - the year the show was released.\n",
        "* `user rating score` - user score.\n",
        "* `user rating size` - overall user rating."
      ]
    },
    {
      "cell_type": "markdown",
      "source": [
        "### Project requirements"
      ],
      "metadata": {
        "id": "Yf_5kM7K6XPn"
      }
    },
    {
      "cell_type": "markdown",
      "metadata": {
        "id": "coqxjUJY4D4B"
      },
      "source": [
        "As a result of completing the course project, your team should prepare a presentation and defend it before the committee.\n",
        "\n",
        "The design of the presentation is entirely up to you, but remember that the result should be relevant for demonstration to a business client — it is most appropriate to perceive the committee evaluating your work in this way. For example, it is not recommended to include lines of code or overuse notebook screenshots in the presentation.\n",
        "\n",
        "From the perspective of project execution, you need to assume the role of analysts: work on the features, explore the information contained in the dataset, identify trends, patterns, and facts from the data, and, of course, present all of this in a clear manner.\n",
        "\n",
        "In fact, you can perceive this project in the following way: a business client comes to you — for example, this could be a representative from Netflix who wants to improve certain processes; or a company that wants to produce a new project and/or sell an existing product to Netflix; or a competitor of Netflix interested in a general market study; or any other stakeholder within this industry — and this client asks you to analyze the data and extract useful and significant business insights for them. Of course, the deeper, more meaningful, and more non-trivial these insights are, the more they will pay you :)\n"
      ]
    },
    {
      "cell_type": "markdown",
      "source": [
        "### Examples of questions and topics\n"
      ],
      "metadata": {
        "id": "VzyjDz3g6R-e"
      }
    },
    {
      "cell_type": "markdown",
      "source": [
        "To prevent you from starting entirely from scratch, we have selected several guiding questions to help you begin your initial analysis.\n",
        "\n",
        "**Attention:** These questions are only *approximate* and provide just an *initial direction* for your research. While well-developed answers to these questions can bring you a significant amount of initial insights and useful information, you should not base your entire project solely on them. If possible, try to refine and expand on the topics covered in these questions, or even find other layers that are not addressed within them (in fact, there are quite a few!)."
      ],
      "metadata": {
        "id": "2ZBFsPxj6j0A"
      }
    },
    {
      "cell_type": "markdown",
      "source": [
        "So, here are the questions:\n",
        "\n",
        "- How many rating groups are represented in the data?\n",
        "- How do the rating groups differ from each other?\n",
        "- What ratings do users give most frequently?\n",
        "- What ratings do users give on average?\n",
        "- In which years were the shows launched?\n",
        "- Can it be concluded that 2017 was more successful for Netflix than 2016?\n",
        "- Choose any show (for example, the most liked one) and create its descriptive profile. What questions about it would interest you if you were the client? Answer these questions :)\n",
        "- What are the features not presented in the data but significantly affecting the existing features?\n",
        "- How are the ratings formed?\n",
        "- How was the data collected?\n",
        "\n"
      ],
      "metadata": {
        "id": "m6DO0Czp8oiF"
      }
    },
    {
      "cell_type": "markdown",
      "source": [
        "To reiterate: these are just *approximate questions* to provide you with an initial direction to move in. You may choose to answer them or not at your discretion, and act in the way and direction you deem necessary!\n",
        "\n"
      ],
      "metadata": {
        "id": "0TtjLvj5-DRE"
      }
    },
    {
      "cell_type": "markdown",
      "source": [
        "### Helpful notes and tips"
      ],
      "metadata": {
        "id": "BIMqig8J-cWl"
      }
    },
    {
      "cell_type": "markdown",
      "source": [
        "- Ensure that all charts on the slides can be read even without your comments;\n",
        "- Avoid making simple text slides;\n",
        "- Build your analysis based on the goal of presenting useful information for the business;\n",
        "- Any good Data Scientist should be able to work in a team, so the distribution of your efforts in the project is up to you;\n",
        "- It's not necessary to limit yourself to the provided dataset. You have the entire internet to find additional information and test your hypotheses. Go for it!\n"
      ],
      "metadata": {
        "id": "myYUHrtD-gcj"
      }
    },
    {
      "cell_type": "markdown",
      "metadata": {
        "id": "AZdB2Z9S4D4C"
      },
      "source": [
        "### Approximate EDA Framework"
      ]
    },
    {
      "cell_type": "markdown",
      "source": [
        "Again, so you don't have to start writing code from scratch, we have built a simple framework of possible steps you might include as the basis of your initial analysis.\n",
        "\n",
        "As you may have already guessed, we’re not insisting! :)"
      ],
      "metadata": {
        "id": "h3DrE6Az_IG0"
      }
    },
    {
      "cell_type": "markdown",
      "metadata": {
        "id": "bJJkNLerajEn"
      },
      "source": [
        "#### Download the Data\n",
        "Load the data by executing the code below."
      ]
    },
    {
      "cell_type": "code",
      "execution_count": null,
      "metadata": {
        "id": "mgCEFh834FEo"
      },
      "outputs": [],
      "source": [
        "from google.colab import files\n",
        "uploaded = files.upload()"
      ]
    },
    {
      "cell_type": "code",
      "execution_count": null,
      "metadata": {
        "id": "8Zgk_NN_SSDm"
      },
      "outputs": [],
      "source": [
        "data = pd.read_csv(\"NetflixShows.csv\", encoding='cp437')\n",
        "del data['ratingDescription'], data['user rating size']"
      ]
    },
    {
      "cell_type": "code",
      "execution_count": null,
      "metadata": {
        "id": "5io1SYsxJOLL"
      },
      "outputs": [],
      "source": [
        "data"
      ]
    },
    {
      "cell_type": "markdown",
      "metadata": {
        "id": "cZqqAjTTjBhv"
      },
      "source": [
        "#### Remove Duplicates from the Data\n",
        "- Why did they occur?\n",
        "- Are there many of them? In which groups are they most prevalent?"
      ]
    },
    {
      "cell_type": "code",
      "execution_count": null,
      "metadata": {
        "id": "6lWD2o02jAPr"
      },
      "outputs": [],
      "source": [
        "..."
      ]
    },
    {
      "cell_type": "markdown",
      "metadata": {
        "id": "5K45orMVgn0S"
      },
      "source": [
        "#### How many rating groups are represented in the data?"
      ]
    },
    {
      "cell_type": "code",
      "execution_count": null,
      "metadata": {
        "id": "ya6irA3YgoSN"
      },
      "outputs": [],
      "source": [
        "..."
      ]
    },
    {
      "cell_type": "markdown",
      "metadata": {
        "id": "EvQXQnogU8M0"
      },
      "source": [
        "#### What ratings do users give more frequently?\n",
        "\n",
        "- Create a histogram of the ratings.\n",
        "- Why are these ratings given most often?"
      ]
    },
    {
      "cell_type": "code",
      "execution_count": null,
      "metadata": {
        "id": "uZ7wT-jyU5YC"
      },
      "outputs": [],
      "source": [
        "..."
      ]
    },
    {
      "cell_type": "markdown",
      "metadata": {
        "id": "hctW4a6lW3Yl"
      },
      "source": [
        "#### Display the Main Information About User Ratings\n",
        "- What are the mean, standard deviation, minimum, maximum, and median?\n",
        "- Do the median and mean differ?\n",
        "- Can these characteristics differ significantly? Why?"
      ]
    },
    {
      "cell_type": "code",
      "execution_count": null,
      "metadata": {
        "id": "duGOR-wEnMS7"
      },
      "outputs": [],
      "source": [
        "..."
      ]
    },
    {
      "cell_type": "markdown",
      "metadata": {
        "id": "o-R-GlguhFVj"
      },
      "source": [
        "#### In which years were the shows in the dataset launched?"
      ]
    },
    {
      "cell_type": "code",
      "execution_count": null,
      "metadata": {
        "id": "4s_pPeOthRMd"
      },
      "outputs": [],
      "source": [
        "..."
      ]
    },
    {
      "cell_type": "markdown",
      "metadata": {
        "id": "OogBeNIShwr7"
      },
      "source": [
        "#### Create a Chart Showing the Distribution of the Number of Shows Launched by Year\n",
        "\n",
        "- Is there growth observed?\n",
        "- Are there any outliers?\n",
        "- What do the outliers represent?\n",
        "- What might have caused them?"
      ]
    },
    {
      "cell_type": "code",
      "execution_count": null,
      "metadata": {
        "id": "ecreMlHXigV6"
      },
      "outputs": [],
      "source": [
        "..."
      ]
    },
    {
      "cell_type": "markdown",
      "metadata": {
        "id": "5amxoyM7NaQL"
      },
      "source": [
        "#### Compare the Average User Rating in 2016 with the Average Rating in 2017\n",
        "- Can it be concluded that 2017 was more successful for Netflix? (\"More successful\" means users gave higher ratings on average)\n",
        "- How else can \"success\" be evaluated?\n",
        "\n"
      ]
    },
    {
      "cell_type": "code",
      "execution_count": null,
      "metadata": {
        "id": "DIaeaVLAWgvu"
      },
      "outputs": [],
      "source": [
        "..."
      ]
    },
    {
      "cell_type": "markdown",
      "metadata": {
        "id": "5dG8K8M-jcYZ"
      },
      "source": [
        "#### How Can the Distribution of Users Across Rating Groups Be Shown More Clearly?\n",
        "\n",
        "Below are two charts showing the distribution of shows by rating groups. Which type of chart is more visually interpretable?\n",
        "\n",
        "Create the chart you consider more interpretable. Draw a conclusion.\n",
        "\n",
        "Are there any other, more advanced visualizations that could be used?\n"
      ]
    },
    {
      "cell_type": "markdown",
      "metadata": {
        "id": "6am-k3o-pcWC"
      },
      "source": [
        "![Charts](https://pp.userapi.com/c852024/v852024281/1a53b1/jSOsBIhxK3U.jpg)"
      ]
    },
    {
      "cell_type": "code",
      "execution_count": null,
      "metadata": {
        "id": "SR7y2Wt9uQ4i"
      },
      "outputs": [],
      "source": [
        "..."
      ]
    },
    {
      "cell_type": "markdown",
      "metadata": {
        "id": "eWCSRMOse3fv"
      },
      "source": [
        "#### Now You Need to Choose Any of the Presented Shows and Use the Tools You Have Studied to Create a Descriptive Profile of This Show :)\n",
        "\n",
        "Analysts and Data Scientists love to compare everything, so when creating the descriptive profile, we recommend comparing the selected show with others based on certain characteristics."
      ]
    },
    {
      "cell_type": "code",
      "execution_count": null,
      "metadata": {
        "id": "5sEouGVg4D4L"
      },
      "outputs": [],
      "source": [
        "..."
      ]
    },
    {
      "cell_type": "markdown",
      "source": [
        "## Project Evaluation Criteria"
      ],
      "metadata": {
        "id": "nUgPW81IAl8k"
      }
    },
    {
      "cell_type": "markdown",
      "source": [
        "The grade for the group project as a whole — the first of the two grades — is given on a 10-point scale based on 5 criteria. Additionally, the committee may, at its discretion, add (but not decrease) a certain number of bonus points beyond these criteria.\n",
        "\n",
        "Each of the criteria will be listed and reviewed below."
      ],
      "metadata": {
        "id": "kPjYuWD_BX7C"
      }
    },
    {
      "cell_type": "markdown",
      "source": [
        "### Criterion 1: Technical Informativeness – It is necessary to identify non-trivial dependencies and trends in the data (up to 2 points)\n",
        "\n",
        "This criterion evaluates how technically advanced you have become in identifying patterns, trends, and dependencies in the data. The more complex tools you apply during the project and the more complex and non-trivial dependencies you uncover, the higher your team's score will be for this criterion!"
      ],
      "metadata": {
        "id": "lGGI5KRrCL5r"
      }
    },
    {
      "cell_type": "markdown",
      "source": [
        "### Criterion 2: Analytical Informativeness – It is necessary to interpret the data and draw conclusions useful for the business (up to 2 points)\n",
        "\n",
        "This criterion evaluates the practical significance of your actions, the interpretation of technical tools, the ability to highlight the usefulness and importance of the conclusions from a business perspective, and the ability to align the results with the original business goals and \"sell\" what you have accomplished.\n"
      ],
      "metadata": {
        "id": "GzH0e3v6DIsM"
      }
    },
    {
      "cell_type": "markdown",
      "source": [
        "### Criterion 3: Visualization – The technical execution of the charts is evaluated (up to 2 points)\n",
        "\n",
        "This criterion assesses the complexity and technicality of your visualizations. Visualizations should be clear, aesthetically pleasing, understandable, easily interpretable, and non-trivial in terms of technical execution and the conclusions they convey.\n",
        "\n",
        "*The maximum score for this criterion (**2 points**) cannot be achieved if only basic visualization libraries such as Matplotlib and Seaborn are used.*"
      ],
      "metadata": {
        "id": "dObOtg3QE9WD"
      }
    },
    {
      "cell_type": "markdown",
      "source": [
        "### Criterion 4: Dataset Preprocessing – Data Cleaning/Replacement (up to 1 point)\n",
        "\n",
        "This criterion evaluates the completeness of all actions performed in terms of data preparation and initial dataset preprocessing.\n"
      ],
      "metadata": {
        "id": "TNeXOCNIGMhD"
      }
    },
    {
      "cell_type": "markdown",
      "source": [
        "### Criterion 5: Data Enrichment – Adding New Features/Datasets (up to 3 points)\n",
        "\n",
        "This criterion evaluates the extent to which feature engineering is used based on existing data, as well as data enrichment by supplementing the existing dataset with meaningful information from related external datasets, various external resources, and other sources. Note that related external information should not replace or substitute the original task and data in the presented dataset, but should only complement and enrich it. The correctness and depth of interaction with external resources are evaluated within this criterion!\n",
        "\n",
        "*The maximum score for this criterion (**3 points**) can only be achieved with correct and meaningful work involving at least two sources of external data (two external datasets), as well as having at least two examples of valid and meaningful application of feature engineering.*\n",
        "\n",
        "*For this criterion, **2 points** can only be achieved with correct and meaningful work involving at least one source of external data (an external dataset), as well as having at least one example of valid and meaningful application of feature engineering.*"
      ],
      "metadata": {
        "id": "SJwGRSz4GfuS"
      }
    }
  ]
}