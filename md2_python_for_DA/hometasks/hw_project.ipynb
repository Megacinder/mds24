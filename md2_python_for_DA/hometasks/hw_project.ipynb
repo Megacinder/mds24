{
 "cells": [
  {
   "cell_type": "markdown",
   "metadata": {},
   "source": [
    "### Working with `selenium`: continued"
   ]
  },
  {
   "cell_type": "code",
   "execution_count": null,
   "metadata": {},
   "outputs": [],
   "source": [
    "%pip install selenium\n",
    "%pip install webdriver_manager\n",
    "%pip install pandas\n",
    "%pip install bs4"
   ]
  },
  {
   "cell_type": "markdown",
   "metadata": {},
   "source": [
    "Today we will continue to work on the task uploading the addresses of all precinct election commissions of the Ivanovo region. First, we'll download all the necessary libraries for the work:\n",
    "\n",
    "* `selenium` ‒ to automate your work in the browser\n",
    "* `time` ‒ to add a delay\n",
    "* `pandas` ‒ to save results to a dataframe"
   ]
  },
  {
   "cell_type": "code",
   "metadata": {
    "ExecuteTime": {
     "end_time": "2024-11-27T12:52:59.997626Z",
     "start_time": "2024-11-27T12:52:59.963348Z"
    }
   },
   "source": [
    "from selenium import webdriver\n",
    "from selenium.webdriver.common.by import By\n",
    "from selenium.webdriver.common.keys import Keys\n",
    "from selenium.webdriver.chrome.service import Service as ChromeService\n",
    "from selenium.webdriver.support import expected_conditions as EC\n",
    "from selenium.webdriver.support.ui import WebDriverWait\n",
    "from webdriver_manager.chrome import ChromeDriverManager\n",
    "\n",
    "from bs4 import BeautifulSoup\n",
    "from pandas import DataFrame\n",
    "from time import sleep\n"
   ],
   "outputs": [],
   "execution_count": 12
  },
  {
   "cell_type": "code",
   "metadata": {
    "ExecuteTime": {
     "end_time": "2024-11-27T12:14:21.313168Z",
     "start_time": "2024-11-27T12:14:19.254762Z"
    }
   },
   "source": "",
   "outputs": [],
   "execution_count": 3
  },
  {
   "cell_type": "code",
   "metadata": {
    "ExecuteTime": {
     "end_time": "2024-11-27T12:44:31.760323Z",
     "start_time": "2024-11-27T12:44:31.754448Z"
    }
   },
   "source": [
    "# constants\n",
    "DEAL_TYPE: dict = {\n",
    "    \"deal_type\": \"rent\"  # or \"sale\"\n",
    "}\n",
    "REGION: dict = {\n",
    "    \"region\": 1,  # Moscow\n",
    "}\n",
    "FLAT_ROOMS: dict = {\n",
    "    \"room1\": 1,\n",
    "    \"room2\": 1,\n",
    "    \"room3\": 1,\n",
    "    \"room4\": 1,\n",
    "    \"room9\": 1,  # studio\n",
    "}\n",
    "RENT_TYPE:dict = {\n",
    "    \"type\": 4  # 4 - long period rent, 3 - for several months, 2 - short period rent, exclude the var - for buying\n",
    "}\n",
    "CIAN_NAKED = \"https://www.cian.ru/cat.php?\"\n",
    "\n",
    "\n",
    "deal_type: str  = '&'.join(f\"{k}={v}\" for k, v in DEAL_TYPE.items())\n",
    "region: str     = '&'.join(f\"{k}={v}\" for k, v in REGION.items())\n",
    "flat_rooms: str = '&'.join(f\"{k}={v}\" for k, v in FLAT_ROOMS.items())\n",
    "rent_type: str  = '&'.join(f\"{k}={v}\" for k, v in RENT_TYPE.items())\n",
    "\n",
    "\n",
    "\n",
    "cian_link = (\n",
    "    CIAN_NAKED + \"&\"\n",
    "    + deal_type + \"&\"\n",
    "    + \"engine_version=2&\"\n",
    "    + region + \"&\"\n",
    "    + flat_rooms + \"&\"\n",
    "    + rent_type\n",
    ")\n",
    "\n",
    "\n",
    "# deal_type=rent&engine_version=2&offer_type=flat&region=1&room1=1&room2=1&room3=1&room9=1&type=4"
   ],
   "outputs": [
    {
     "name": "stdout",
     "output_type": "stream",
     "text": [
      "https://www.cian.ru/cat.php?&deal_type=rent&engine_version=2&region=1&room1=1&room2=1&room3=1&room4=1&room9=1&type=4\n"
     ]
    }
   ],
   "execution_count": 6
  },
  {
   "metadata": {
    "ExecuteTime": {
     "end_time": "2024-11-27T13:19:40.727646Z",
     "start_time": "2024-11-27T13:19:20.984676Z"
    }
   },
   "cell_type": "code",
   "source": [
    "options = webdriver.ChromeOptions()\n",
    "options.add_argument(\"user-agent=Mozilla/5.0 (Windows NT 10.0; Win64; x64) AppleWebKit/537.36 (KHTML, like Gecko) Chrome/114.0.0.0 Safari/537.36\")\n",
    "\n",
    "driver = webdriver.Chrome(service=ChromeService(ChromeDriverManager().install()))\n",
    "driver.maximize_window()\n",
    "driver.get(cian_link)\n",
    "# WebDriverWait(driver, 20).until(EC.element_to_be_clickable((By.XPATH, \"/html/body/div[1]/div/div/div[4]/div[1]/div/article/div[1]/div/div[1]/div/a\")))\n",
    "sleep(5)\n",
    "\n",
    "# for i in (1, 2):\n",
    "fld = driver.find_element('xpath', \"/html/body/div[1]/div/div/div[4]/div[1]/div/article/div[1]/div/div[1]/div/a\")\n",
    "href = fld.get_attribute(\"href\")\n",
    "print(f\"Found link: {href}\")\n",
    "\n",
    "driver.get(href)\n",
    "print(\"Go with link\")\n",
    "\n",
    "sleep(5)\n",
    "\n",
    "\n",
    "page_source = driver.page_source\n",
    "\n",
    "\n",
    "soup = BeautifulSoup(page_source, \"html.parser\")\n",
    "\n",
    "titles = soup.find_all(\"h1\")\n",
    "for title in titles:\n",
    "    print(\"Title:\", title.text.strip())\n",
    "\n",
    "\n",
    "links = soup.find_all(\"a\", href=True)\n",
    "for link in links[:10]:\n",
    "    print(\"Link:\", link[\"href\"])\n",
    "\n",
    "#fld.click()\n",
    "\n",
    "# /html/body/div[1]/div/div/div[4]/div[2]/div/article/div[1]/div/div[1]/div/a\n",
    "# /html/body/div[1]/div/div/div[4]/div[34]/div/article/div[1]/div/div[1]/div/a\n"
   ],
   "outputs": [
    {
     "name": "stdout",
     "output_type": "stream",
     "text": [
      "Found link: https://www.cian.ru/rent/flat/310496616/\n",
      "Go with link\n",
      "Title: Сдается 3-комн. квартира, 113 м²\n",
      "Title: Расположение\n",
      "Link: #\n",
      "Link: //www.cian.ru\n",
      "Link: /compare/\n",
      "Link: //www.cian.ru/dialogs/\n",
      "Link: https://www.cian.ru/rent/flat/favorites/\n",
      "Link: https://www.cian.ru/razmestit-obyavlenie/?channel=submit_for_zero_rub\n",
      "Link: /authenticate/?returnUrl=https://www.cian.ru/rent/flat/310496616/\n",
      "Link: https://www.cian.ru/snyat/\n",
      "Link: https://www.cian.ru/kupit/\n",
      "Link: https://www.cian.ru/novostrojki/\n"
     ]
    }
   ],
   "execution_count": 16
  },
  {
   "cell_type": "markdown",
   "metadata": {},
   "source": [
    "Now let's write the function `get_uik_address()`, which takes two arguments as input, plot number and region, and returns a string with the address. To do this, copy the code from the previous session to the function body:"
   ]
  },
  {
   "cell_type": "code",
   "metadata": {
    "ExecuteTime": {
     "end_time": "2024-11-27T13:31:05.610993Z",
     "start_time": "2024-11-27T13:31:05.602607Z"
    }
   },
   "source": [
    "gtext = soup.get_text(separator=\"\\n\", strip=True)\n",
    "\n",
    "list1 = gtext.split(\"\\n\")\n",
    "\n",
    "soup.find_all('p')  # parameters\n",
    "\n"
   ],
   "outputs": [
    {
     "data": {
      "text/plain": [
       "[<p class=\"a10a3f92e9--color_gray60_100--r_axa a10a3f92e9--lineHeight_6u--cedXD a10a3f92e9--fontWeight_normal--JEG_c a10a3f92e9--fontSize_16px--QNYmt a10a3f92e9--display_block--KYb25 a10a3f92e9--text--e4SBY a10a3f92e9--text_letterSpacing__0--cQxU5\">Общая площадь</p>,\n",
       " <p class=\"a10a3f92e9--color_text-primary-default--vSRPB a10a3f92e9--lineHeight_6u--cedXD a10a3f92e9--fontWeight_normal--JEG_c a10a3f92e9--fontSize_16px--QNYmt a10a3f92e9--display_block--KYb25 a10a3f92e9--text--e4SBY a10a3f92e9--text_letterSpacing__0--cQxU5\">113</p>,\n",
       " <p class=\"a10a3f92e9--color_gray60_100--r_axa a10a3f92e9--lineHeight_6u--cedXD a10a3f92e9--fontWeight_normal--JEG_c a10a3f92e9--fontSize_16px--QNYmt a10a3f92e9--display_block--KYb25 a10a3f92e9--text--e4SBY a10a3f92e9--text_letterSpacing__0--cQxU5\">Площадь кухни</p>,\n",
       " <p class=\"a10a3f92e9--color_text-primary-default--vSRPB a10a3f92e9--lineHeight_6u--cedXD a10a3f92e9--fontWeight_normal--JEG_c a10a3f92e9--fontSize_16px--QNYmt a10a3f92e9--display_block--KYb25 a10a3f92e9--text--e4SBY a10a3f92e9--text_letterSpacing__0--cQxU5\">20</p>,\n",
       " <p class=\"a10a3f92e9--color_gray60_100--r_axa a10a3f92e9--lineHeight_6u--cedXD a10a3f92e9--fontWeight_normal--JEG_c a10a3f92e9--fontSize_16px--QNYmt a10a3f92e9--display_block--KYb25 a10a3f92e9--text--e4SBY a10a3f92e9--text_letterSpacing__0--cQxU5\">Санузел</p>,\n",
       " <p class=\"a10a3f92e9--color_text-primary-default--vSRPB a10a3f92e9--lineHeight_6u--cedXD a10a3f92e9--fontWeight_normal--JEG_c a10a3f92e9--fontSize_16px--QNYmt a10a3f92e9--display_block--KYb25 a10a3f92e9--text--e4SBY a10a3f92e9--text_letterSpacing__0--cQxU5\">1 совмещенный</p>,\n",
       " <p class=\"a10a3f92e9--color_gray60_100--r_axa a10a3f92e9--lineHeight_6u--cedXD a10a3f92e9--fontWeight_normal--JEG_c a10a3f92e9--fontSize_16px--QNYmt a10a3f92e9--display_block--KYb25 a10a3f92e9--text--e4SBY a10a3f92e9--text_letterSpacing__0--cQxU5\">Вид из окон</p>,\n",
       " <p class=\"a10a3f92e9--color_text-primary-default--vSRPB a10a3f92e9--lineHeight_6u--cedXD a10a3f92e9--fontWeight_normal--JEG_c a10a3f92e9--fontSize_16px--QNYmt a10a3f92e9--display_block--KYb25 a10a3f92e9--text--e4SBY a10a3f92e9--text_letterSpacing__0--cQxU5\">На улицу и двор</p>,\n",
       " <p class=\"a10a3f92e9--color_gray60_100--r_axa a10a3f92e9--lineHeight_6u--cedXD a10a3f92e9--fontWeight_normal--JEG_c a10a3f92e9--fontSize_16px--QNYmt a10a3f92e9--display_block--KYb25 a10a3f92e9--text--e4SBY a10a3f92e9--text_letterSpacing__0--cQxU5\">Ремонт</p>,\n",
       " <p class=\"a10a3f92e9--color_text-primary-default--vSRPB a10a3f92e9--lineHeight_6u--cedXD a10a3f92e9--fontWeight_normal--JEG_c a10a3f92e9--fontSize_16px--QNYmt a10a3f92e9--display_block--KYb25 a10a3f92e9--text--e4SBY a10a3f92e9--text_letterSpacing__0--cQxU5\">Дизайнерский</p>,\n",
       " <p class=\"a10a3f92e9--color_gray60_100--r_axa a10a3f92e9--lineHeight_6u--cedXD a10a3f92e9--fontWeight_normal--JEG_c a10a3f92e9--fontSize_16px--QNYmt a10a3f92e9--display_block--KYb25 a10a3f92e9--text--e4SBY a10a3f92e9--text_letterSpacing__0--cQxU5\">Мусоропровод</p>,\n",
       " <p class=\"a10a3f92e9--color_text-primary-default--vSRPB a10a3f92e9--lineHeight_6u--cedXD a10a3f92e9--fontWeight_normal--JEG_c a10a3f92e9--fontSize_16px--QNYmt a10a3f92e9--display_block--KYb25 a10a3f92e9--text--e4SBY a10a3f92e9--text_letterSpacing__0--cQxU5\">Да</p>,\n",
       " <p class=\"a10a3f92e9--color_gray60_100--r_axa a10a3f92e9--lineHeight_6u--cedXD a10a3f92e9--fontWeight_normal--JEG_c a10a3f92e9--fontSize_16px--QNYmt a10a3f92e9--display_block--KYb25 a10a3f92e9--text--e4SBY a10a3f92e9--text_letterSpacing__0--cQxU5\">Количество лифтов</p>,\n",
       " <p class=\"a10a3f92e9--color_text-primary-default--vSRPB a10a3f92e9--lineHeight_6u--cedXD a10a3f92e9--fontWeight_normal--JEG_c a10a3f92e9--fontSize_16px--QNYmt a10a3f92e9--display_block--KYb25 a10a3f92e9--text--e4SBY a10a3f92e9--text_letterSpacing__0--cQxU5\">4 пассажирских, 2 грузовых</p>,\n",
       " <p class=\"a10a3f92e9--color_gray60_100--r_axa a10a3f92e9--lineHeight_6u--cedXD a10a3f92e9--fontWeight_normal--JEG_c a10a3f92e9--fontSize_16px--QNYmt a10a3f92e9--display_block--KYb25 a10a3f92e9--text--e4SBY a10a3f92e9--text_letterSpacing__0--cQxU5\">Парковка</p>,\n",
       " <p class=\"a10a3f92e9--color_text-primary-default--vSRPB a10a3f92e9--lineHeight_6u--cedXD a10a3f92e9--fontWeight_normal--JEG_c a10a3f92e9--fontSize_16px--QNYmt a10a3f92e9--display_block--KYb25 a10a3f92e9--text--e4SBY a10a3f92e9--text_letterSpacing__0--cQxU5\">Подземная</p>,\n",
       " <p class=\"a10a3f92e9--color_icon-secondary-default--Pnd5e a10a3f92e9--lineHeight_20px--fX7_V a10a3f92e9--fontWeight_normal--JEG_c a10a3f92e9--fontSize_14px--reQMB a10a3f92e9--display_block--KYb25 a10a3f92e9--text--e4SBY a10a3f92e9--text_letterSpacing__normal--tfToq\">Сможете следить, как меняется цена вашей квартиры</p>,\n",
       " <p class=\"a10a3f92e9--tooltip-text--h9eg6\">Войдите для просмотра избранного с любого устройства</p>]"
      ]
     },
     "execution_count": 26,
     "metadata": {},
     "output_type": "execute_result"
    }
   ],
   "execution_count": 26
  },
  {
   "cell_type": "code",
   "execution_count": 6,
   "metadata": {},
   "outputs": [
    {
     "name": "stdout",
     "output_type": "stream",
     "text": [
      "9\n",
      "2\n",
      "9\n",
      "5\n",
      "4\n",
      "5\n",
      "9\n",
      "6\n",
      "3\n",
      "10\n"
     ]
    }
   ],
   "source": [
    "for i in range(10):\n",
    "    print(random.randint(1, 10))"
   ]
  },
  {
   "cell_type": "code",
   "execution_count": 7,
   "metadata": {},
   "outputs": [
    {
     "name": "stdout",
     "output_type": "stream",
     "text": [
      "1.0521547378788774\n",
      "1.783776643084079\n",
      "1.2666689342728898\n",
      "1.6095279195095382\n",
      "1.1531589439323509\n",
      "1.8259087191633654\n",
      "1.58670992790143\n",
      "1.291070445413658\n",
      "1.405555743093474\n",
      "1.049467865132934\n"
     ]
    }
   ],
   "source": [
    "for i in range(10):\n",
    "    print(random.uniform(1., 2.))"
   ]
  },
  {
   "cell_type": "code",
   "execution_count": 8,
   "metadata": {},
   "outputs": [],
   "source": [
    "def get_uik_address(n_uik, reg):\n",
    "    \n",
    "    driver.get(\"http://cikrf.ru/digital-services/naydi-svoy-izbiratelnyy-uchastok/\")\n",
    "\n",
    "#     fld = driver.find_element_by_xpath(\"/html/body/div[2]/div/div/button\")\n",
    "#     fld.click()\n",
    "\n",
    "#     sleep(1.5)\n",
    "\n",
    "    fld = driver.find_element('xpath', \"/html/body/div[1]/div/div[2]/div/div[4]/form/div[1]/div[2]\")\n",
    "    fld.click()\n",
    "\n",
    "    sleep(random.uniform(1., 2.))\n",
    "\n",
    "    fld = driver.find_element('xpath', '/html/body/div[1]/div/div[2]/div/div[4]/form/div[3]/div[1]/div/span/span[1]/span/span[2]')\n",
    "    fld.click()\n",
    "\n",
    "    sleep(random.uniform(1., 2.))\n",
    "\n",
    "    reg_field = driver.find_element('xpath', '/html/body/span/span/span[1]/input')\n",
    "    reg_field.send_keys(reg)\n",
    "\n",
    "    sleep(random.uniform(1., 2.))\n",
    "\n",
    "    reg_field.send_keys(Keys.RETURN)\n",
    "\n",
    "    sleep(random.uniform(1., 2.))\n",
    "\n",
    "    uik_field = driver.find_element('xpath', '/html/body/div[1]/div/div[2]/div/div[4]/form/div[3]/div[2]/div/input')\n",
    "    uik_field.click()\n",
    "    uik_field.clear()\n",
    "    uik_field.send_keys(n_uik)\n",
    "\n",
    "    sleep(random.uniform(1., 2.))\n",
    "\n",
    "    uik_field.send_keys(Keys.RETURN)\n",
    "    \n",
    "    sleep(random.uniform(1., 2.))\n",
    "    \n",
    "    my_page = BeautifulSoup(driver.page_source)\n",
    "    p = filter(lambda x: x not in ('',None),[i.text for i in my_page.find_all('span',{'class':'address'})])\n",
    "    p = next(p)\n",
    "    \n",
    "    if p is None or p=='':\n",
    "        p = 'Адреса не нашлось'\n",
    "        \n",
    "    return p"
   ]
  },
  {
   "cell_type": "markdown",
   "metadata": {},
   "source": [
    "Now let's try to take a few numbers of sections and see what happens in the loop. But let's play it safe by writing an expression with an exception, so that if the page doesn't contain an address or loads incorrectly, our code doesn't break and the loop doesn't break. If everything is good (there is an address), Python will save it (the\" branch \" with `try`), if everything is bad (there is no address in any form), Python will write an empty string instead (the branch with `except`) and move on. "
   ]
  },
  {
   "cell_type": "code",
   "execution_count": 9,
   "metadata": {},
   "outputs": [],
   "source": [
    "uiks = range(240, 245)"
   ]
  },
  {
   "cell_type": "code",
   "execution_count": 10,
   "metadata": {},
   "outputs": [
    {
     "data": {
      "text/plain": [
       "'155800, Ивановская область, город Кинешма, улица Григория Королева, дом 10, здание \"Кинешемский политехнический колледж\"'"
      ]
     },
     "execution_count": 10,
     "metadata": {},
     "output_type": "execute_result"
    }
   ],
   "source": [
    "get_uik_address(244, \"Ивановская область\")"
   ]
  },
  {
   "cell_type": "code",
   "execution_count": 11,
   "metadata": {},
   "outputs": [
    {
     "name": "stdout",
     "output_type": "stream",
     "text": [
      "240 \n",
      "155330, Ивановская область, городской округ Вичуга, город Вичуга, улица Желябова, дом 6, здание МБОУ ООШ №6\n",
      "241 155330, Ивановская область, городской округ Вичуга, город Вичуга, улица Желябова, дом 6, здание МБОУ ООШ №6\n",
      "155330, Ивановская область, городской округ Вичуга, город Вичуга, улица Ленинская, дом 26, здание МБУК \"Клуб имени Шагова\"\n",
      "242 155330, Ивановская область, городской округ Вичуга, город Вичуга, улица Ленинская, дом 26, здание МБУК \"Клуб имени Шагова\"\n",
      "155330, Ивановская область, городской округ Вичуга, город Вичуга, улица Ленинская, дом 26, здание МБУК \"Клуб имени Шагова\"\n",
      "243 155330, Ивановская область, городской округ Вичуга, город Вичуга, улица Ленинская, дом 26, здание МБУК \"Клуб имени Шагова\"\n",
      "155800, Ивановская область, город Кинешма, улица Григория Королева, дом 10, здание \"Кинешемский политехнический колледж\"\n",
      "244 155800, Ивановская область, город Кинешма, улица Григория Королева, дом 10, здание \"Кинешемский политехнический колледж\"\n"
     ]
    }
   ],
   "source": [
    "addresses = []\n",
    "\n",
    "for u in uiks:\n",
    "    try:\n",
    "        address = get_uik_address(u, \"Ивановская область\")\n",
    "        print(address)\n",
    "    except:\n",
    "        address = \"\"\n",
    "    addresses.append(address)\n",
    "    print(u, address)"
   ]
  },
  {
   "cell_type": "markdown",
   "metadata": {},
   "source": [
    "It works! Let's create a list with all the numbers of polling stations in the Ivanovo region:"
   ]
  },
  {
   "cell_type": "code",
   "execution_count": 12,
   "metadata": {},
   "outputs": [
    {
     "data": {
      "text/plain": [
       "['',\n",
       " '155330, Ивановская область, городской округ Вичуга, город Вичуга, улица Желябова, дом 6, здание МБОУ ООШ №6',\n",
       " '155330, Ивановская область, городской округ Вичуга, город Вичуга, улица Ленинская, дом 26, здание МБУК \"Клуб имени Шагова\"',\n",
       " '155330, Ивановская область, городской округ Вичуга, город Вичуга, улица Ленинская, дом 26, здание МБУК \"Клуб имени Шагова\"',\n",
       " '155800, Ивановская область, город Кинешма, улица Григория Королева, дом 10, здание \"Кинешемский политехнический колледж\"']"
      ]
     },
     "execution_count": 12,
     "metadata": {},
     "output_type": "execute_result"
    }
   ],
   "source": [
    "addresses"
   ]
  },
  {
   "cell_type": "markdown",
   "metadata": {},
   "source": [
    "**Important:** periodically open a browser window where Python searches for polling stations! This is not only pleasant (to see how everything is filled in in the search fields without our participation), but also useful: so you can notice if something went wrong. "
   ]
  },
  {
   "cell_type": "markdown",
   "metadata": {},
   "source": [
    "Let's create a dataframe from a dictionary whose keys are the names of table columns, and whose values are lists of elements in these columns."
   ]
  },
  {
   "cell_type": "code",
   "execution_count": 13,
   "metadata": {},
   "outputs": [],
   "source": [
    "df = pd.DataFrame({'uik': uiks, 'address': addresses})\n",
    "#keys – names of future columns\n",
    "#values - a list of values inside the future table"
   ]
  },
  {
   "cell_type": "code",
   "execution_count": 14,
   "metadata": {},
   "outputs": [
    {
     "data": {
      "text/html": [
       "<div>\n",
       "<style scoped>\n",
       "    .dataframe tbody tr th:only-of-type {\n",
       "        vertical-align: middle;\n",
       "    }\n",
       "\n",
       "    .dataframe tbody tr th {\n",
       "        vertical-align: top;\n",
       "    }\n",
       "\n",
       "    .dataframe thead th {\n",
       "        text-align: right;\n",
       "    }\n",
       "</style>\n",
       "<table border=\"1\" class=\"dataframe\">\n",
       "  <thead>\n",
       "    <tr style=\"text-align: right;\">\n",
       "      <th></th>\n",
       "      <th>uik</th>\n",
       "      <th>address</th>\n",
       "    </tr>\n",
       "  </thead>\n",
       "  <tbody>\n",
       "    <tr>\n",
       "      <th>0</th>\n",
       "      <td>240</td>\n",
       "      <td></td>\n",
       "    </tr>\n",
       "    <tr>\n",
       "      <th>1</th>\n",
       "      <td>241</td>\n",
       "      <td>155330, Ивановская область, городской округ Ви...</td>\n",
       "    </tr>\n",
       "    <tr>\n",
       "      <th>2</th>\n",
       "      <td>242</td>\n",
       "      <td>155330, Ивановская область, городской округ Ви...</td>\n",
       "    </tr>\n",
       "    <tr>\n",
       "      <th>3</th>\n",
       "      <td>243</td>\n",
       "      <td>155330, Ивановская область, городской округ Ви...</td>\n",
       "    </tr>\n",
       "    <tr>\n",
       "      <th>4</th>\n",
       "      <td>244</td>\n",
       "      <td>155800, Ивановская область, город Кинешма, ули...</td>\n",
       "    </tr>\n",
       "  </tbody>\n",
       "</table>\n",
       "</div>"
      ],
      "text/plain": [
       "   uik                                            address\n",
       "0  240                                                   \n",
       "1  241  155330, Ивановская область, городской округ Ви...\n",
       "2  242  155330, Ивановская область, городской округ Ви...\n",
       "3  243  155330, Ивановская область, городской округ Ви...\n",
       "4  244  155800, Ивановская область, город Кинешма, ули..."
      ]
     },
     "execution_count": 14,
     "metadata": {},
     "output_type": "execute_result"
    }
   ],
   "source": [
    "df.head()"
   ]
  },
  {
   "cell_type": "code",
   "execution_count": 15,
   "metadata": {},
   "outputs": [
    {
     "data": {
      "text/plain": [
       "[240, 241, 242, 243, 244]"
      ]
     },
     "execution_count": 15,
     "metadata": {},
     "output_type": "execute_result"
    }
   ],
   "source": [
    "list(df.uik)"
   ]
  },
  {
   "cell_type": "code",
   "execution_count": 16,
   "metadata": {},
   "outputs": [
    {
     "data": {
      "text/plain": [
       "['',\n",
       " '155330, Ивановская область, городской округ Вичуга, город Вичуга, улица Желябова, дом 6, здание МБОУ ООШ №6',\n",
       " '155330, Ивановская область, городской округ Вичуга, город Вичуга, улица Ленинская, дом 26, здание МБУК \"Клуб имени Шагова\"',\n",
       " '155330, Ивановская область, городской округ Вичуга, город Вичуга, улица Ленинская, дом 26, здание МБУК \"Клуб имени Шагова\"',\n",
       " '155800, Ивановская область, город Кинешма, улица Григория Королева, дом 10, здание \"Кинешемский политехнический колледж\"']"
      ]
     },
     "execution_count": 16,
     "metadata": {},
     "output_type": "execute_result"
    }
   ],
   "source": [
    "list(df.address)"
   ]
  },
  {
   "cell_type": "markdown",
   "metadata": {},
   "source": [
    "Save the table to a csv file:"
   ]
  },
  {
   "cell_type": "code",
   "execution_count": 17,
   "metadata": {},
   "outputs": [],
   "source": [
    "df.to_csv('Ivanovo.csv', index=False, encoding='Windows-1251')"
   ]
  },
  {
   "cell_type": "code",
   "execution_count": 18,
   "metadata": {},
   "outputs": [
    {
     "name": "stderr",
     "output_type": "stream",
     "text": [
      "<ipython-input-18-c551dbfda63d>:1: UserWarning: Pandas requires version '1.4.3' or newer of 'xlsxwriter' (version '1.2.9' currently installed).\n",
      "  df.to_excel('Ivanovo.xlsx', index=False)\n"
     ]
    }
   ],
   "source": [
    "df.to_excel('Ivanovo.xlsx', index=False)"
   ]
  },
  {
   "cell_type": "code",
   "execution_count": 19,
   "metadata": {},
   "outputs": [],
   "source": [
    "driver.close()"
   ]
  }
 ],
 "metadata": {
  "kernelspec": {
   "display_name": "Python 3",
   "language": "python",
   "name": "python3"
  },
  "language_info": {
   "codemirror_mode": {
    "name": "ipython",
    "version": 3
   },
   "file_extension": ".py",
   "mimetype": "text/x-python",
   "name": "python",
   "nbconvert_exporter": "python",
   "pygments_lexer": "ipython3",
   "version": "3.8.3"
  },
  "toc": {
   "base_numbering": 1,
   "nav_menu": {},
   "number_sections": true,
   "sideBar": true,
   "skip_h1_title": false,
   "title_cell": "Table of Contents",
   "title_sidebar": "Contents",
   "toc_cell": false,
   "toc_position": {},
   "toc_section_display": true,
   "toc_window_display": false
  },
  "varInspector": {
   "cols": {
    "lenName": 16,
    "lenType": 16,
    "lenVar": 40
   },
   "kernels_config": {
    "python": {
     "delete_cmd_postfix": "",
     "delete_cmd_prefix": "del ",
     "library": "var_list.py",
     "varRefreshCmd": "print(var_dic_list())"
    },
    "r": {
     "delete_cmd_postfix": ") ",
     "delete_cmd_prefix": "rm(",
     "library": "var_list.r",
     "varRefreshCmd": "cat(var_dic_list()) "
    }
   },
   "types_to_exclude": [
    "module",
    "function",
    "builtin_function_or_method",
    "instance",
    "_Feature"
   ],
   "window_display": false
  }
 },
 "nbformat": 4,
 "nbformat_minor": 2
}
