{
 "cells": [
  {
   "cell_type": "markdown",
   "id": "29093f54-1b7e-41be-97fd-5c332fc29c7d",
   "metadata": {},
   "source": [
    "# Проект по Python for Data Analysis"
   ]
  },
  {
   "cell_type": "markdown",
   "id": "a7cb528d-4c00-4832-8c14-9cdd29927053",
   "metadata": {},
   "source": [
    "Датасет состоит из данных сервиса Яндекс Недвижимость — архив объявлений о продаже квартир в Санкт-Петербурге и соседних населённых пунктах за несколько лет.\n",
    "По каждой квартире на продажу доступны два вида данных. Первые вписаны пользователем, вторые — получены автоматически на основе картографических данных. Например, расстояние до центра, аэропорта, ближайшего парка и водоёма."
   ]
  },
  {
   "cell_type": "code",
   "execution_count": 3,
   "id": "79a9124c-2e8f-44d4-9b09-71a2338c778e",
   "metadata": {},
   "outputs": [],
   "source": [
    "import pandas as pd\n",
    "import numpy as np\n",
    "import seaborn as sns\n",
    "import matplotlib.pyplot as plt"
   ]
  },
  {
   "cell_type": "code",
   "execution_count": 4,
   "id": "bfcfd141-b905-4afd-bff6-6de04b1a0f03",
   "metadata": {},
   "outputs": [],
   "source": [
    "df = pd.read_csv('real_estate_data.csv', encoding='utf-8', sep='\\t')"
   ]
  },
  {
   "cell_type": "markdown",
   "id": "0e8b8739-846e-4a66-a6b7-b2632c75e7e8",
   "metadata": {},
   "source": [
    "## Этап 1. Предварительная обработка"
   ]
  },
  {
   "cell_type": "markdown",
   "id": "70b12ba9-16af-422d-8995-443acec1f4ca",
   "metadata": {},
   "source": [
    "### Общий обзор данных"
   ]
  },
  {
   "cell_type": "code",
   "execution_count": 7,
   "id": "1c226bde-26e0-4d0f-8e97-9b2bf71c065f",
   "metadata": {},
   "outputs": [
    {
     "data": {
      "text/html": [
       "<div>\n",
       "<style scoped>\n",
       "    .dataframe tbody tr th:only-of-type {\n",
       "        vertical-align: middle;\n",
       "    }\n",
       "\n",
       "    .dataframe tbody tr th {\n",
       "        vertical-align: top;\n",
       "    }\n",
       "\n",
       "    .dataframe thead th {\n",
       "        text-align: right;\n",
       "    }\n",
       "</style>\n",
       "<table border=\"1\" class=\"dataframe\">\n",
       "  <thead>\n",
       "    <tr style=\"text-align: right;\">\n",
       "      <th></th>\n",
       "      <th>total_images</th>\n",
       "      <th>last_price</th>\n",
       "      <th>total_area</th>\n",
       "      <th>first_day_exposition</th>\n",
       "      <th>rooms</th>\n",
       "      <th>ceiling_height</th>\n",
       "      <th>floors_total</th>\n",
       "      <th>living_area</th>\n",
       "      <th>floor</th>\n",
       "      <th>is_apartment</th>\n",
       "      <th>studio</th>\n",
       "      <th>open_plan</th>\n",
       "      <th>kitchen_area</th>\n",
       "      <th>balcony</th>\n",
       "      <th>locality_name</th>\n",
       "      <th>airports_nearest</th>\n",
       "      <th>cityCenters_nearest</th>\n",
       "      <th>parks_around3000</th>\n",
       "      <th>parks_nearest</th>\n",
       "      <th>ponds_around3000</th>\n",
       "      <th>ponds_nearest</th>\n",
       "      <th>days_exposition</th>\n",
       "    </tr>\n",
       "  </thead>\n",
       "  <tbody>\n",
       "    <tr>\n",
       "      <th>0</th>\n",
       "      <td>20</td>\n",
       "      <td>13000000.0</td>\n",
       "      <td>108.0</td>\n",
       "      <td>2019-03-07T00:00:00</td>\n",
       "      <td>3</td>\n",
       "      <td>2.7</td>\n",
       "      <td>16.0</td>\n",
       "      <td>51.0</td>\n",
       "      <td>8</td>\n",
       "      <td>NaN</td>\n",
       "      <td>False</td>\n",
       "      <td>False</td>\n",
       "      <td>25.0</td>\n",
       "      <td>NaN</td>\n",
       "      <td>Санкт-Петербург</td>\n",
       "      <td>18863.0</td>\n",
       "      <td>16028.0</td>\n",
       "      <td>1.0</td>\n",
       "      <td>482.0</td>\n",
       "      <td>2.0</td>\n",
       "      <td>755.0</td>\n",
       "      <td>NaN</td>\n",
       "    </tr>\n",
       "    <tr>\n",
       "      <th>1</th>\n",
       "      <td>7</td>\n",
       "      <td>3350000.0</td>\n",
       "      <td>40.4</td>\n",
       "      <td>2018-12-04T00:00:00</td>\n",
       "      <td>1</td>\n",
       "      <td>NaN</td>\n",
       "      <td>11.0</td>\n",
       "      <td>18.6</td>\n",
       "      <td>1</td>\n",
       "      <td>NaN</td>\n",
       "      <td>False</td>\n",
       "      <td>False</td>\n",
       "      <td>11.0</td>\n",
       "      <td>2.0</td>\n",
       "      <td>посёлок Шушары</td>\n",
       "      <td>12817.0</td>\n",
       "      <td>18603.0</td>\n",
       "      <td>0.0</td>\n",
       "      <td>NaN</td>\n",
       "      <td>0.0</td>\n",
       "      <td>NaN</td>\n",
       "      <td>81.0</td>\n",
       "    </tr>\n",
       "  </tbody>\n",
       "</table>\n",
       "</div>"
      ],
      "text/plain": [
       "   total_images  last_price  total_area first_day_exposition  rooms  \\\n",
       "0            20  13000000.0       108.0  2019-03-07T00:00:00      3   \n",
       "1             7   3350000.0        40.4  2018-12-04T00:00:00      1   \n",
       "\n",
       "   ceiling_height  floors_total  living_area  floor is_apartment  studio  \\\n",
       "0             2.7          16.0         51.0      8          NaN   False   \n",
       "1             NaN          11.0         18.6      1          NaN   False   \n",
       "\n",
       "   open_plan  kitchen_area  balcony    locality_name  airports_nearest  \\\n",
       "0      False          25.0      NaN  Санкт-Петербург           18863.0   \n",
       "1      False          11.0      2.0   посёлок Шушары           12817.0   \n",
       "\n",
       "   cityCenters_nearest  parks_around3000  parks_nearest  ponds_around3000  \\\n",
       "0              16028.0               1.0          482.0               2.0   \n",
       "1              18603.0               0.0            NaN               0.0   \n",
       "\n",
       "   ponds_nearest  days_exposition  \n",
       "0          755.0              NaN  \n",
       "1            NaN             81.0  "
      ]
     },
     "execution_count": 7,
     "metadata": {},
     "output_type": "execute_result"
    }
   ],
   "source": [
    "pd.set_option('display.max_columns',50)\n",
    "df.head(2)"
   ]
  },
  {
   "cell_type": "code",
   "execution_count": 8,
   "id": "67a12417-1c2d-4685-ac41-80a503e1a511",
   "metadata": {},
   "outputs": [
    {
     "name": "stdout",
     "output_type": "stream",
     "text": [
      "<class 'pandas.core.frame.DataFrame'>\n",
      "RangeIndex: 23699 entries, 0 to 23698\n",
      "Data columns (total 22 columns):\n",
      " #   Column                Non-Null Count  Dtype  \n",
      "---  ------                --------------  -----  \n",
      " 0   total_images          23699 non-null  int64  \n",
      " 1   last_price            23699 non-null  float64\n",
      " 2   total_area            23699 non-null  float64\n",
      " 3   first_day_exposition  23699 non-null  object \n",
      " 4   rooms                 23699 non-null  int64  \n",
      " 5   ceiling_height        14504 non-null  float64\n",
      " 6   floors_total          23613 non-null  float64\n",
      " 7   living_area           21796 non-null  float64\n",
      " 8   floor                 23699 non-null  int64  \n",
      " 9   is_apartment          2775 non-null   object \n",
      " 10  studio                23699 non-null  bool   \n",
      " 11  open_plan             23699 non-null  bool   \n",
      " 12  kitchen_area          21421 non-null  float64\n",
      " 13  balcony               12180 non-null  float64\n",
      " 14  locality_name         23650 non-null  object \n",
      " 15  airports_nearest      18157 non-null  float64\n",
      " 16  cityCenters_nearest   18180 non-null  float64\n",
      " 17  parks_around3000      18181 non-null  float64\n",
      " 18  parks_nearest         8079 non-null   float64\n",
      " 19  ponds_around3000      18181 non-null  float64\n",
      " 20  ponds_nearest         9110 non-null   float64\n",
      " 21  days_exposition       20518 non-null  float64\n",
      "dtypes: bool(2), float64(14), int64(3), object(3)\n",
      "memory usage: 3.7+ MB\n"
     ]
    }
   ],
   "source": [
    "df.info()"
   ]
  },
  {
   "cell_type": "code",
   "execution_count": 9,
   "id": "cea72964-42d7-4889-b0ca-d209dc9a54a3",
   "metadata": {},
   "outputs": [
    {
     "name": "stdout",
     "output_type": "stream",
     "text": [
      "1. is_apartment: пропусков 20924 (88.3%)\n",
      "2. parks_nearest: пропусков 15620 (65.9%)\n",
      "3. ponds_nearest: пропусков 14589 (61.6%)\n",
      "4. balcony: пропусков 11519 (48.6%)\n",
      "5. ceiling_height: пропусков 9195 (38.8%)\n",
      "6. airports_nearest: пропусков 5542 (23.4%)\n",
      "7. cityCenters_nearest: пропусков 5519 (23.3%)\n",
      "8. ponds_around3000: пропусков 5518 (23.3%)\n",
      "9. parks_around3000: пропусков 5518 (23.3%)\n",
      "10. days_exposition: пропусков 3181 (13.4%)\n",
      "11. kitchen_area: пропусков 2278 (9.6%)\n",
      "12. living_area: пропусков 1903 (8.0%)\n",
      "13. floors_total: пропусков 86 (0.4%)\n",
      "14. locality_name: пропусков 49 (0.2%)\n"
     ]
    }
   ],
   "source": [
    "#Вывод количества пропущенных значений в каждом столбце\n",
    "null_value_in_column = df.isnull().sum()\n",
    "for i, (column, null_count) in enumerate(null_value_in_column.sort_values(ascending=False).items(), start=1):\n",
    "    if null_count > 0:\n",
    "        percent = round(null_count * 100 / len(df), 1)\n",
    "        print(f\"{i}. {column}: пропусков {null_count} ({percent}%)\")"
   ]
  },
  {
   "cell_type": "code",
   "execution_count": 10,
   "id": "8420bc7f-1e9e-4cc9-ad18-797b610fbd13",
   "metadata": {},
   "outputs": [
    {
     "name": "stdout",
     "output_type": "stream",
     "text": [
      "Количество строк дубликатов: 0\n"
     ]
    }
   ],
   "source": [
    "#проверка на дубликаты\n",
    "print(f'Количество строк дубликатов: {df.duplicated().sum()}') "
   ]
  },
  {
   "cell_type": "code",
   "execution_count": 11,
   "id": "32a7d0e4-2c3f-4323-96ea-3a1d43c7e27c",
   "metadata": {},
   "outputs": [
    {
     "data": {
      "image/png": "[encoded data removed]",
      "text/plain": [
       "<Figure size 1500x1000 with 1 Axes>"
      ]
     },
     "metadata": {},
     "output_type": "display_data"
    }
   ],
   "source": [
    "#C помощью boxplot проверим числовые данные на выбросы\n",
    "num_df = df.select_dtypes(include=['number'])\n",
    "log_df = num_df.apply(lambda col: np.log(col + 1) if col.min() >= 0 else col)\n",
    "\n",
    "plt.figure(figsize=(15, 10))\n",
    "log_df.boxplot()\n",
    "\n",
    "plt.xticks(rotation=90)\n",
    "plt.tight_layout()\n",
    "plt.show()"
   ]
  },
  {
   "cell_type": "code",
   "execution_count": 12,
   "id": "dfc740b0-3d94-4a0b-b4ad-583f74192e22",
   "metadata": {},
   "outputs": [],
   "source": [
    "#Функция для удаления выбросов, которые оказались за пределами трех межквартильных отклонений\n",
    "def remove_outliers(column_name):\n",
    "    global df\n",
    "    # Вычисление IQR\n",
    "    qi = df[column_name].quantile(0.25)\n",
    "    q3 = df[column_name].quantile(0.75)\n",
    "    iqr = q3 - qi\n",
    "\n",
    "    # Границы для усов\n",
    "    lower_bound = qi - 1.5 * iqr\n",
    "    upper_bound = q3 + 1.5 * iqr\n",
    "\n",
    "    # Фильтрация данных\n",
    "    df = df[(df[column_name] >= lower_bound) & (df[column_name] <= upper_bound)]\n",
    "\n",
    "    # Построение боксплота для обновленных данных\n",
    "    plt.boxplot(df[column_name])\n",
    "    plt.show()"
   ]
  },
  {
   "cell_type": "code",
   "execution_count": null,
   "id": "10e4de1a-aaa5-42ce-8311-a727b6c75ba4",
   "metadata": {},
   "outputs": [],
   "source": []
  },
  {
   "cell_type": "code",
   "execution_count": 13,
   "id": "0c91eb3b-d0ba-4f58-9115-455e4aca3670",
   "metadata": {},
   "outputs": [],
   "source": [
    "#Сохраним размер df для сравнения после обработки\n",
    "len_df_start = len(df)"
   ]
  },
  {
   "cell_type": "markdown",
   "id": "f8584a1e-61e0-43a3-a68b-12148a961fda",
   "metadata": {},
   "source": [
    "### Детальный обзор каждого параметра"
   ]
  },
  {
   "cell_type": "markdown",
   "id": "c73fa20b-23f8-44f6-968f-d9a19baa881b",
   "metadata": {},
   "source": [
    "При анализе параметров выполнены следующие шаги:\n",
    "\n",
    "    1. Обзор уникальных значений для визуальной оценки корректности данных. \n",
    "    2. Анализ пропусков и замена при возможности.\n",
    "    3. Удаление выбросов, методом трех межквартильных отклонений или 99% персентилем.\n",
    "    4. Форматирование значений или замена типа данных при необходимости."
   ]
  },
  {
   "cell_type": "markdown",
   "id": "e7891e8e-0b7e-43bf-8dc3-714799737a3d",
   "metadata": {},
   "source": [
    "Результаты обработки по каждому параметру:\n",
    "1. total_images - удалены выбросы методом трех межквартильных отклонений.\n",
    "2. last_price - удалены строки с редкими значениями (99% персентиль), значения округлены до целого числа.\n",
    "3. total_area - удалены выбросы методом трех межквартильных отклонений.\n",
    "4. first_day_exposition - удалена временная метка, осталась только дата.\n",
    "5. rooms - значение 0 заменено на 1, удалены выбросы методом трех межквартильных отклонений.\n",
    "6. ceiling_height - пропущенные значения заменены на среднее значение, удалены выбросы методом трех межквартильных отклонений.\n",
    "7. floors_total - приведен к типу int, удалены все строки с пропусками, удалены строки с редкими значениями (99% персентиль).\n",
    "8. living_area - пропуски заменены на среднее значение этого параметра с той же общей площадью, удалены выбросы методом трех межквартильных отклонений, округение до 2-знаков после запятой.\n",
    "9. floor - удалены выбросы методом трех межквартильных отклонений.\n",
    "10. is_apartment - пропуски заменены на значениe False (т.е. квартира).\n",
    "11. studio - без изменений.\n",
    "12. open_plan - без изменений.\n",
    "13. balcony - заменены пропущенные значения на 0 (нет балкона), приведен к типу int, удалены выбросы методом трех межквартильных отклонений.\n",
    "14. kitchen_area - пропуски заменены на среднюю долю кухни от нежилой зоны по всем строкам, удалены выбросы методом трех межквартильных отклонений.\n",
    "15. airports_nearest - без измнений, в том числе оставлены пропуски.\n",
    "16. cityCenters_nearest - без измнений, в том числе оставлены пропуски.\n",
    "17. days_exposition -  заменены пропущенные значения на 0, приведен к типу int, удалены выбросы методом трех межквартильных отклонений.\n",
    "18. locality_name - заменены дубликаты названий, пропуски оставлены.\n",
    "19. parks_nearest - сделаны замены пропусков на 3100 в тех строках, где известно, что в радиусе 3 км нет парка, остались пропуски.\n",
    "20. ponds_nearest - сделаны замены пропусков на 3100 в тех строках, где известно, что в радиусе 3 км нет водоема, остались пропуски.\n",
    "21. parks_around3000 - без изменений, остались пропуски.\n",
    "22. ponds_around3000 - без изменений, остались пропуски.\n",
    "\n",
    "Обоснование выбора способа удаления выбросов:\n",
    "Для параметров last_price, floors_total выбран 99% персентиль, чтобы удалить экстремальные редкие значения, но в целом, длинный хвост для этих значений уместен.\n",
    "Для других параметров был выбран методо трех межквартильных отклонений, так как необходимо убрать некорректные как миинимальные значения и так и максимальльные значения (например, потолки 1 метр или площадь кухни 600 м. кв)."
   ]
  },
  {
   "cell_type": "markdown",
   "id": "c59f675d-5329-4b6f-9709-8a1a8ff7ebaf",
   "metadata": {},
   "source": [
    "#### total_images"
   ]
  },
  {
   "cell_type": "code",
   "execution_count": 18,
   "id": "34001beb-819a-49e8-9014-a0cf65e164e3",
   "metadata": {},
   "outputs": [
    {
     "data": {
      "text/plain": [
       "total_images\n",
       "10    1798\n",
       "9     1725\n",
       "20    1694\n",
       "8     1585\n",
       "7     1521\n",
       "6     1482\n",
       "11    1362\n",
       "5     1301\n",
       "12    1225\n",
       "0     1059\n",
       "13    1015\n",
       "4      986\n",
       "14     986\n",
       "15     948\n",
       "1      872\n",
       "3      769\n",
       "16     761\n",
       "17     650\n",
       "18     642\n",
       "2      640\n",
       "19     603\n",
       "23      16\n",
       "21      12\n",
       "24       8\n",
       "22       8\n",
       "26       5\n",
       "32       4\n",
       "28       4\n",
       "50       3\n",
       "29       3\n",
       "27       2\n",
       "30       2\n",
       "35       2\n",
       "31       2\n",
       "42       1\n",
       "25       1\n",
       "39       1\n",
       "37       1\n",
       "Name: count, dtype: int64"
      ]
     },
     "execution_count": 18,
     "metadata": {},
     "output_type": "execute_result"
    }
   ],
   "source": [
    "# просмотр уникальных значений\n",
    "df['total_images'].value_counts()"
   ]
  },
  {
   "cell_type": "code",
   "execution_count": 19,
   "id": "8dc82fd2-a278-4509-9472-52a343c47e54",
   "metadata": {},
   "outputs": [
    {
     "data": {
      "image/png": "[encoded data removed]",
      "text/plain": [
       "<Figure size 640x480 with 1 Axes>"
      ]
     },
     "metadata": {},
     "output_type": "display_data"
    }
   ],
   "source": [
    "#Уберем выбросы\n",
    "remove_outliers('total_images')"
   ]
  },
  {
   "cell_type": "markdown",
   "id": "eb578652-5364-4966-a77a-83254e4dd67e",
   "metadata": {},
   "source": [
    "#### last_price"
   ]
  },
  {
   "cell_type": "code",
   "execution_count": 21,
   "id": "278af829-b33b-42cc-9a65-a8f5c117eabe",
   "metadata": {
    "scrolled": true
   },
   "outputs": [
    {
     "data": {
      "text/plain": [
       "array([13000000.,  3350000.,  5196000., ...,  6151120., 21400000.,\n",
       "       11475000.])"
      ]
     },
     "execution_count": 21,
     "metadata": {},
     "output_type": "execute_result"
    }
   ],
   "source": [
    "#Просмотрим уникальные значения\n",
    "df['last_price'].unique()"
   ]
  },
  {
   "cell_type": "code",
   "execution_count": 22,
   "id": "2ed9aa9d-da59-4003-80fc-0a059bf02341",
   "metadata": {},
   "outputs": [
    {
     "data": {
      "image/png": "[encoded data removed]",
      "text/plain": [
       "<Figure size 640x480 with 1 Axes>"
      ]
     },
     "metadata": {},
     "output_type": "display_data"
    }
   ],
   "source": [
    "#Поиск аномалий\n",
    "df['last_price'].hist(bins=30, log=True)\n",
    "plt.show()"
   ]
  },
  {
   "cell_type": "code",
   "execution_count": 23,
   "id": "ae5ec10a-4cd6-4387-99ef-e6fd40b894a3",
   "metadata": {},
   "outputs": [
    {
     "data": {
      "image/png": "[encoded data removed]",
      "text/plain": [
       "<Figure size 640x480 with 1 Axes>"
      ]
     },
     "metadata": {},
     "output_type": "display_data"
    }
   ],
   "source": [
    "#Уберем 1% аномальных значений. Воспользуемся 99% персентилем\n",
    "threshold = df['last_price'].quantile(0.99)\n",
    "df = df[df.last_price <= threshold]\n",
    "\n",
    "# Визуализируем\n",
    "df['last_price'].hist(bins=30, log=True)\n",
    "plt.show()"
   ]
  },
  {
   "cell_type": "code",
   "execution_count": 24,
   "id": "5b2ea2cc-b489-4c26-abae-3d051b0afa25",
   "metadata": {},
   "outputs": [],
   "source": [
    "# Округление до целого\n",
    "df['last_price'] = df['last_price'].round(0)"
   ]
  },
  {
   "cell_type": "markdown",
   "id": "94a443ff-dd0d-4e6a-94f2-187b7887a800",
   "metadata": {},
   "source": [
    "#### total_area"
   ]
  },
  {
   "cell_type": "code",
   "execution_count": 26,
   "id": "1ab9ef6b-bc88-4758-ae4b-1b590ecf1807",
   "metadata": {
    "scrolled": true
   },
   "outputs": [
    {
     "data": {
      "text/plain": [
       "array([108.  ,  40.4 ,  56.  , ...,  66.86, 133.81,  76.75])"
      ]
     },
     "execution_count": 26,
     "metadata": {},
     "output_type": "execute_result"
    }
   ],
   "source": [
    "#Уникальные значения\n",
    "df['total_area'].unique()"
   ]
  },
  {
   "cell_type": "code",
   "execution_count": 27,
   "id": "5a119fde-1953-4915-97ad-85b491d16392",
   "metadata": {},
   "outputs": [
    {
     "data": {
      "image/png": "[encoded data removed]",
      "text/plain": [
       "<Figure size 640x480 with 1 Axes>"
      ]
     },
     "metadata": {},
     "output_type": "display_data"
    }
   ],
   "source": [
    "#Удаляем выбросы\n",
    "remove_outliers('total_area')"
   ]
  },
  {
   "cell_type": "markdown",
   "id": "9b5574a8-6a1d-41ea-803b-f177f5f76774",
   "metadata": {},
   "source": [
    "#### first_day_exposition"
   ]
  },
  {
   "cell_type": "code",
   "execution_count": 29,
   "id": "598802db-614d-4ca1-9e1f-61d2141a81df",
   "metadata": {
    "scrolled": true
   },
   "outputs": [
    {
     "data": {
      "text/plain": [
       "array(['2019-03-07T00:00:00', '2018-12-04T00:00:00',\n",
       "       '2015-08-20T00:00:00', ..., '2014-12-29T00:00:00',\n",
       "       '2016-09-12T00:00:00', '2015-07-19T00:00:00'], dtype=object)"
      ]
     },
     "execution_count": 29,
     "metadata": {},
     "output_type": "execute_result"
    }
   ],
   "source": [
    "#Уникальные значения\n",
    "df['first_day_exposition'].unique()"
   ]
  },
  {
   "cell_type": "code",
   "execution_count": 30,
   "id": "8a8a0f00-5177-4929-8534-fced74e8cdc3",
   "metadata": {},
   "outputs": [],
   "source": [
    "#Оставим только дату, так как все временные метки одинаковы\n",
    "df['first_day_exposition'] = pd.to_datetime(df['first_day_exposition']).dt.normalize()"
   ]
  },
  {
   "cell_type": "markdown",
   "id": "d18c0aad-45c1-4190-99b2-46b876d06195",
   "metadata": {},
   "source": [
    "#### rooms"
   ]
  },
  {
   "cell_type": "code",
   "execution_count": 32,
   "id": "faf8bb67-aa95-4f7b-be80-8c6b5f689d4b",
   "metadata": {},
   "outputs": [
    {
     "data": {
      "text/plain": [
       "rooms\n",
       "1    8038\n",
       "2    7886\n",
       "3    5384\n",
       "4     745\n",
       "0     196\n",
       "5      67\n",
       "6       9\n",
       "7       1\n",
       "Name: count, dtype: int64"
      ]
     },
     "execution_count": 32,
     "metadata": {},
     "output_type": "execute_result"
    }
   ],
   "source": [
    "# Уникальные значения\n",
    "df['rooms'].value_counts()"
   ]
  },
  {
   "cell_type": "markdown",
   "id": "7c8bb732-8720-4d52-bd0e-ab3037f23dc3",
   "metadata": {},
   "source": [
    "Есть строки с числом комнат 0, что не может быть. Проанализируем и сделаем замену:"
   ]
  },
  {
   "cell_type": "code",
   "execution_count": 34,
   "id": "392718a4-d97e-49a8-8a74-0bf8bbaecc49",
   "metadata": {},
   "outputs": [
    {
     "data": {
      "text/plain": [
       "rooms\n",
       "0    18.865246\n",
       "1    17.878412\n",
       "2    31.618668\n",
       "3    45.653206\n",
       "4    55.499019\n",
       "5    64.620339\n",
       "6    75.562500\n",
       "7          NaN\n",
       "Name: living_area, dtype: float64"
      ]
     },
     "execution_count": 34,
     "metadata": {},
     "output_type": "execute_result"
    }
   ],
   "source": [
    "#Сгруппируем кол-во комнат по размеру жилой зоны\n",
    "df.groupby('rooms')['living_area'].mean()"
   ]
  },
  {
   "cell_type": "code",
   "execution_count": 35,
   "id": "e29815df-7456-4f23-a318-065ccc745628",
   "metadata": {},
   "outputs": [],
   "source": [
    "#Заменим число комнат с 0 на 1, так как они имеют схожее значение по параметру размер жилой площади\n",
    "df['rooms'] = df['rooms'].replace(0, 1)"
   ]
  },
  {
   "cell_type": "code",
   "execution_count": 36,
   "id": "a3559593-0e33-4ca1-99c1-91f65627e9f3",
   "metadata": {},
   "outputs": [
    {
     "data": {
      "image/png": "[encoded data removed]",
      "text/plain": [
       "<Figure size 640x480 with 1 Axes>"
      ]
     },
     "metadata": {},
     "output_type": "display_data"
    }
   ],
   "source": [
    "#Удалим выбросы\n",
    "remove_outliers('rooms')"
   ]
  },
  {
   "cell_type": "markdown",
   "id": "569b1032-9c18-4139-b6c5-db7661e05691",
   "metadata": {},
   "source": [
    "#### ceiling_height"
   ]
  },
  {
   "cell_type": "code",
   "execution_count": 38,
   "id": "54a6b3c3-18cc-4116-ab99-f434d8fb4676",
   "metadata": {
    "scrolled": true
   },
   "outputs": [
    {
     "data": {
      "text/plain": [
       "ceiling_height\n",
       "2.50    3495\n",
       "2.60    1635\n",
       "2.70    1530\n",
       "2.55     974\n",
       "2.80     933\n",
       "        ... \n",
       "4.30       1\n",
       "3.39       1\n",
       "5.00       1\n",
       "2.20       1\n",
       "3.59       1\n",
       "Name: count, Length: 165, dtype: int64"
      ]
     },
     "execution_count": 38,
     "metadata": {},
     "output_type": "execute_result"
    }
   ],
   "source": [
    "#Уникальные значения\n",
    "df['ceiling_height'].value_counts()"
   ]
  },
  {
   "cell_type": "code",
   "execution_count": 39,
   "id": "ea7279d5-247c-4777-804b-3f72e9a4c258",
   "metadata": {},
   "outputs": [],
   "source": [
    "# В уникальных значениях высоты потолока есть двузначные значения 24.00, вероятно, здесь ошибка в указании десятой части. Сделаем замену\n",
    "df['ceiling_height'] = df['ceiling_height'].apply(lambda x: x / 10 if x > 10 else x)"
   ]
  },
  {
   "cell_type": "code",
   "execution_count": 40,
   "id": "00912b50-91b2-4084-9c15-0a608e3b904b",
   "metadata": {},
   "outputs": [
    {
     "name": "stdout",
     "output_type": "stream",
     "text": [
      "Количество пустых значений 8748\n"
     ]
    }
   ],
   "source": [
    "# Количество пустых значений\n",
    "print(f'Количество пустых значений {df['ceiling_height'].isnull().sum()}')"
   ]
  },
  {
   "cell_type": "code",
   "execution_count": 41,
   "id": "36a7a9b6-2945-4131-8544-6181bdcac2c6",
   "metadata": {},
   "outputs": [
    {
     "name": "stdout",
     "output_type": "stream",
     "text": [
      "Cреднее = 2.700088384768358\n",
      "Медиана = 2.63\n"
     ]
    }
   ],
   "source": [
    "print(f'Cреднее = {df['ceiling_height'].mean()}')\n",
    "print(f'Медиана = {df['ceiling_height'].median()}')"
   ]
  },
  {
   "cell_type": "code",
   "execution_count": 42,
   "id": "69f429df-8fe9-47d0-896d-0b18be9f3c32",
   "metadata": {},
   "outputs": [],
   "source": [
    "#Заменим пустые значения средним по всей выборке\n",
    "df['ceiling_height'] = df['ceiling_height'].fillna(round(df['ceiling_height'].mean(),2))"
   ]
  },
  {
   "cell_type": "code",
   "execution_count": 43,
   "id": "8a6c0b31-f28d-4974-b3b1-7c4b68913512",
   "metadata": {},
   "outputs": [
    {
     "data": {
      "image/png": "[encoded data removed]",
      "text/plain": [
       "<Figure size 640x480 with 1 Axes>"
      ]
     },
     "metadata": {},
     "output_type": "display_data"
    }
   ],
   "source": [
    "#Удалим выбросы\n",
    "remove_outliers('ceiling_height')"
   ]
  },
  {
   "cell_type": "markdown",
   "id": "08545044-4507-4d90-aff6-0f1620414821",
   "metadata": {},
   "source": [
    "#### floors_total"
   ]
  },
  {
   "cell_type": "code",
   "execution_count": 45,
   "id": "b66ab2af-c560-42b1-a887-6cc159e317fb",
   "metadata": {},
   "outputs": [
    {
     "data": {
      "text/plain": [
       "floors_total\n",
       "5.0     4771\n",
       "9.0     3634\n",
       "12.0    1279\n",
       "16.0    1222\n",
       "10.0    1088\n",
       "25.0    1025\n",
       "17.0     761\n",
       "4.0      684\n",
       "14.0     528\n",
       "3.0      471\n",
       "18.0     471\n",
       "24.0     444\n",
       "6.0      419\n",
       "23.0     328\n",
       "7.0      326\n",
       "15.0     307\n",
       "19.0     306\n",
       "2.0      292\n",
       "22.0     274\n",
       "8.0      257\n",
       "20.0     235\n",
       "13.0     205\n",
       "27.0     163\n",
       "11.0     162\n",
       "21.0     151\n",
       "26.0     120\n",
       "35.0      24\n",
       "28.0      21\n",
       "1.0       18\n",
       "36.0       3\n",
       "34.0       1\n",
       "29.0       1\n",
       "33.0       1\n",
       "52.0       1\n",
       "Name: count, dtype: int64"
      ]
     },
     "execution_count": 45,
     "metadata": {},
     "output_type": "execute_result"
    }
   ],
   "source": [
    "# просмотр уникальных значений\n",
    "df['floors_total'].value_counts()"
   ]
  },
  {
   "cell_type": "code",
   "execution_count": 46,
   "id": "6b62e61a-ef1b-4f63-b47c-bc6989879cbf",
   "metadata": {},
   "outputs": [
    {
     "name": "stdout",
     "output_type": "stream",
     "text": [
      "Количество пустых значений 80\n"
     ]
    }
   ],
   "source": [
    "# Количество пустых значений\n",
    "print(f'Количество пустых значений {df['floors_total'].isnull().sum()}')"
   ]
  },
  {
   "cell_type": "code",
   "execution_count": 47,
   "id": "a262907f-03a1-4123-b53a-7d05a5ffc09c",
   "metadata": {},
   "outputs": [],
   "source": [
    "#Удалим строки с пустыми значенями, так как их меньше 0,5%\n",
    "df = df.dropna(subset=['floors_total'])"
   ]
  },
  {
   "cell_type": "code",
   "execution_count": 48,
   "id": "6b7caff5-8326-49ed-98f7-5af2819fd02b",
   "metadata": {},
   "outputs": [],
   "source": [
    "#Приведем значения к типу int\n",
    "df['floors_total'] = df.floors_total.astype(int)"
   ]
  },
  {
   "cell_type": "code",
   "execution_count": 49,
   "id": "ac54a334-7334-40fe-9e55-965b277c7455",
   "metadata": {},
   "outputs": [
    {
     "data": {
      "image/png": "[encoded data removed]",
      "text/plain": [
       "<Figure size 640x480 with 1 Axes>"
      ]
     },
     "metadata": {},
     "output_type": "display_data"
    }
   ],
   "source": [
    "#Уберем 1% аномальных значений. Воспользуемся 99% персентилем\n",
    "threshold = df['floors_total'].quantile(0.99)\n",
    "df = df[df.floors_total <= threshold]\n",
    "\n",
    "# Визуализируем\n",
    "df['floors_total'].hist(bins=30, log=True)\n",
    "plt.show()"
   ]
  },
  {
   "cell_type": "markdown",
   "id": "d8e469af-ab6b-4c23-9f57-4ff65d782d05",
   "metadata": {},
   "source": [
    "#### living_area "
   ]
  },
  {
   "cell_type": "code",
   "execution_count": 51,
   "id": "dc8023aa-4220-4953-8c88-a7ae11742701",
   "metadata": {
    "scrolled": true
   },
   "outputs": [
    {
     "data": {
      "text/plain": [
       "array([51.  , 18.6 , 34.3 , ..., 31.65, 70.6 , 42.55])"
      ]
     },
     "execution_count": 51,
     "metadata": {},
     "output_type": "execute_result"
    }
   ],
   "source": [
    "# Просмотр уникальных значений\n",
    "df['living_area'].unique()"
   ]
  },
  {
   "cell_type": "code",
   "execution_count": 52,
   "id": "d348e2d5-e03e-43e5-a758-f3e813e666c3",
   "metadata": {},
   "outputs": [
    {
     "name": "stdout",
     "output_type": "stream",
     "text": [
      "Количество пропущенных значений: 1595\n"
     ]
    }
   ],
   "source": [
    "# Проверка на пропущенные значения\n",
    "print(f'Количество пропущенных значений: {df['living_area'].isna().sum()}')"
   ]
  },
  {
   "cell_type": "code",
   "execution_count": 53,
   "id": "78c6f9dd-a6e7-438b-84ae-989c542e4913",
   "metadata": {},
   "outputs": [],
   "source": [
    "# Замена пропусков в living_area средним значением для тех же total_area\n",
    "df['living_area'] = df.groupby(df['living_area'].round())['living_area'].transform(lambda group: group.fillna(group.mean()))"
   ]
  },
  {
   "cell_type": "code",
   "execution_count": 54,
   "id": "c66694e6-d16d-4dc5-835c-79111a65e748",
   "metadata": {
    "scrolled": true
   },
   "outputs": [
    {
     "data": {
      "text/plain": [
       "total_area\n",
       "12.0     10.000000\n",
       "13.0     10.000000\n",
       "14.0     11.000000\n",
       "15.0           NaN\n",
       "16.0     11.500000\n",
       "           ...    \n",
       "108.0    62.609375\n",
       "109.0    59.154545\n",
       "110.0    67.022727\n",
       "111.0    66.950000\n",
       "112.0    64.906000\n",
       "Name: living_area, Length: 101, dtype: float64"
      ]
     },
     "execution_count": 54,
     "metadata": {},
     "output_type": "execute_result"
    }
   ],
   "source": [
    "df.groupby(df['total_area'].round())['living_area'].mean()"
   ]
  },
  {
   "cell_type": "code",
   "execution_count": 55,
   "id": "42dee42a-228f-4cf6-84e7-21c2bc359391",
   "metadata": {},
   "outputs": [],
   "source": [
    "#Оставшийся пропуск заменим на число 11\n",
    "df.loc[df['total_area'].round()== 15.00, 'living_area'] = 11.0"
   ]
  },
  {
   "cell_type": "code",
   "execution_count": 56,
   "id": "038cc9cc-2d3d-48ab-86c3-1b2b5bda3712",
   "metadata": {},
   "outputs": [
    {
     "data": {
      "image/png": "[encoded data removed]",
      "text/plain": [
       "<Figure size 640x480 with 1 Axes>"
      ]
     },
     "metadata": {},
     "output_type": "display_data"
    }
   ],
   "source": [
    "#Удалим выбросы\n",
    "remove_outliers('total_area')"
   ]
  },
  {
   "cell_type": "code",
   "execution_count": 57,
   "id": "f67b5146-a8fc-4c46-9f1d-e53d474033ae",
   "metadata": {},
   "outputs": [],
   "source": [
    "#округлим до двух знаков после запятой\n",
    "df['living_area'] = df['living_area'].round(2)"
   ]
  },
  {
   "cell_type": "markdown",
   "id": "484a627c-fb16-4c02-9217-07d8ad048f24",
   "metadata": {},
   "source": [
    "#### floor"
   ]
  },
  {
   "cell_type": "code",
   "execution_count": 59,
   "id": "23c4f8d6-4e7e-453d-b3bd-d3145c0cafdb",
   "metadata": {},
   "outputs": [
    {
     "data": {
      "text/plain": [
       "floor\n",
       "2     2612\n",
       "1     2440\n",
       "3     2399\n",
       "4     2148\n",
       "5     2143\n",
       "6     1075\n",
       "7     1054\n",
       "9      973\n",
       "8      972\n",
       "10     607\n",
       "11     464\n",
       "12     457\n",
       "13     327\n",
       "15     307\n",
       "14     305\n",
       "16     285\n",
       "17     199\n",
       "18     151\n",
       "19     119\n",
       "21     108\n",
       "22     104\n",
       "20      99\n",
       "23      88\n",
       "24      53\n",
       "25      39\n",
       "26      20\n",
       "27       7\n",
       "Name: count, dtype: int64"
      ]
     },
     "execution_count": 59,
     "metadata": {},
     "output_type": "execute_result"
    }
   ],
   "source": [
    "# Просмотр уникальных значений\n",
    "df['floor'].value_counts()"
   ]
  },
  {
   "cell_type": "code",
   "execution_count": 60,
   "id": "f1020be5-4bcf-43af-b3fb-db7dc27d641f",
   "metadata": {},
   "outputs": [
    {
     "data": {
      "image/png": "[encoded data removed]",
      "text/plain": [
       "<Figure size 640x480 with 1 Axes>"
      ]
     },
     "metadata": {},
     "output_type": "display_data"
    }
   ],
   "source": [
    "#Удалим выбросы\n",
    "remove_outliers('total_area')"
   ]
  },
  {
   "cell_type": "markdown",
   "id": "5cf3ed05-ae78-4476-a165-2be66588ed9c",
   "metadata": {},
   "source": [
    "#### is_apartment"
   ]
  },
  {
   "cell_type": "code",
   "execution_count": 62,
   "id": "22df3891-42cb-479a-a87f-ccf1d98e826e",
   "metadata": {},
   "outputs": [
    {
     "data": {
      "text/plain": [
       "is_apartment\n",
       "False    2197\n",
       "True       14\n",
       "Name: count, dtype: int64"
      ]
     },
     "execution_count": 62,
     "metadata": {},
     "output_type": "execute_result"
    }
   ],
   "source": [
    "#Уникальные значения\n",
    "df['is_apartment'].value_counts() "
   ]
  },
  {
   "cell_type": "code",
   "execution_count": 63,
   "id": "d23843f8-2f68-4b4b-b37c-4bb38675e980",
   "metadata": {},
   "outputs": [
    {
     "name": "stdout",
     "output_type": "stream",
     "text": [
      "Количество пропущенных значений: 17285\n"
     ]
    }
   ],
   "source": [
    "# Проверка на пропущенные значения\n",
    "print(f'Количество пропущенных значений: {df['is_apartment'].isna().sum()}')"
   ]
  },
  {
   "cell_type": "code",
   "execution_count": 64,
   "id": "30fb1a93-3386-4ca9-ab7a-b392530a6755",
   "metadata": {},
   "outputs": [],
   "source": [
    "#Заменим пропуски на False (не апартамены, а квартира)\n",
    "df['is_apartment'] = df['is_apartment'].astype(bool).fillna(False)"
   ]
  },
  {
   "cell_type": "markdown",
   "id": "d30d0127-d2c5-4f59-aae7-c40de6be8767",
   "metadata": {},
   "source": [
    "#### studio"
   ]
  },
  {
   "cell_type": "code",
   "execution_count": 66,
   "id": "5ff8cd07-b5e9-4235-b70f-179d49a169b7",
   "metadata": {},
   "outputs": [
    {
     "data": {
      "text/plain": [
       "studio\n",
       "False    19363\n",
       "True       133\n",
       "Name: count, dtype: int64"
      ]
     },
     "execution_count": 66,
     "metadata": {},
     "output_type": "execute_result"
    }
   ],
   "source": [
    "# Просмотр уникальных значений\n",
    "df['studio'].value_counts()"
   ]
  },
  {
   "cell_type": "markdown",
   "id": "7f10eb3b-1bf7-4958-990d-9064be7d018f",
   "metadata": {},
   "source": [
    "#### open_plan"
   ]
  },
  {
   "cell_type": "code",
   "execution_count": 68,
   "id": "f0799d84-0aef-414a-972c-038c3cfc9cac",
   "metadata": {},
   "outputs": [
    {
     "data": {
      "text/plain": [
       "open_plan\n",
       "False    19434\n",
       "True        62\n",
       "Name: count, dtype: int64"
      ]
     },
     "execution_count": 68,
     "metadata": {},
     "output_type": "execute_result"
    }
   ],
   "source": [
    "# Просмотр уникальных значений\n",
    "df['open_plan'].value_counts()"
   ]
  },
  {
   "cell_type": "markdown",
   "id": "9d0fd240-b74e-4a86-b8d6-c565ef9eefe1",
   "metadata": {},
   "source": [
    "#### balcony"
   ]
  },
  {
   "cell_type": "code",
   "execution_count": 70,
   "id": "cf4e9a68-18f5-41f2-9324-cc71d09c0f78",
   "metadata": {},
   "outputs": [
    {
     "data": {
      "text/plain": [
       "balcony\n",
       "1.0    3639\n",
       "2.0    3294\n",
       "0.0    3073\n",
       "5.0     221\n",
       "4.0     121\n",
       "3.0      54\n",
       "Name: count, dtype: int64"
      ]
     },
     "execution_count": 70,
     "metadata": {},
     "output_type": "execute_result"
    }
   ],
   "source": [
    "# Просмотр уникальных значений\n",
    "df['balcony'].value_counts()"
   ]
  },
  {
   "cell_type": "code",
   "execution_count": 71,
   "id": "ae64567b-d88b-4c1d-a415-2db96c995e65",
   "metadata": {},
   "outputs": [
    {
     "name": "stdout",
     "output_type": "stream",
     "text": [
      "Кол-во пропусков в balcony: 9094\n"
     ]
    }
   ],
   "source": [
    "#Проверяем кол-во пропусков\n",
    "print(f'Кол-во пропусков в balcony: {df['balcony'].isna().sum()}')"
   ]
  },
  {
   "cell_type": "code",
   "execution_count": 72,
   "id": "3c1b7c6b-8f2e-4bf7-84e5-afc10972d606",
   "metadata": {},
   "outputs": [],
   "source": [
    "# Заменим отсутствующие значения в столбце balcony на 0\n",
    "df['balcony'] = df['balcony'].fillna(0)"
   ]
  },
  {
   "cell_type": "code",
   "execution_count": 73,
   "id": "ea9f6f8d-f188-4d62-a7c2-df7a0616f5f6",
   "metadata": {},
   "outputs": [],
   "source": [
    "# Поменяем тип данных на int\n",
    "df['balcony'] = df['balcony'].astype(int)"
   ]
  },
  {
   "cell_type": "code",
   "execution_count": 74,
   "id": "7f30e536-d675-48d2-9edb-bb5e468d9e62",
   "metadata": {},
   "outputs": [
    {
     "data": {
      "image/png": "[encoded data removed]",
      "text/plain": [
       "<Figure size 640x480 with 1 Axes>"
      ]
     },
     "metadata": {},
     "output_type": "display_data"
    }
   ],
   "source": [
    "#Удалим выбросы\n",
    "remove_outliers('balcony')"
   ]
  },
  {
   "cell_type": "markdown",
   "id": "9fcdca32-2127-4b80-9cfc-db196e52fd6d",
   "metadata": {},
   "source": [
    "#### kitchen_area"
   ]
  },
  {
   "cell_type": "code",
   "execution_count": 76,
   "id": "282c7bf3-690a-4034-8e19-bc2cded94c53",
   "metadata": {
    "scrolled": true
   },
   "outputs": [
    {
     "data": {
      "text/plain": [
       "array([11.  ,  8.3 ,  9.1 , 14.4 , 18.9 ,  8.81,  6.5 ,  8.5 ,  6.  ,\n",
       "        9.  ,  5.2 ,  8.  ,  7.6 ,  5.6 , 12.  ,  5.7 ,  6.1 , 19.6 ,\n",
       "       15.  ,  7.  ,  9.2 ,   nan, 13.4 ,  6.3 , 11.6 ,  8.8 , 10.  ,\n",
       "        9.5 , 15.5 , 10.7 , 11.1 , 20.  , 11.9 ,  5.3 , 11.5 ,  7.2 ,\n",
       "        6.2 ,  7.5 , 10.4 ,  7.1 ,  4.9 ,  7.3 , 10.2 ,  6.4 ,  5.5 ,\n",
       "        8.4 , 13.  , 23.6 , 10.8 ,  5.  ,  8.2 , 23.8 , 24.  ,  6.6 ,\n",
       "       26.85, 17.  ,  7.8 ,  5.4 , 12.72, 19.  , 12.4 ,  7.9 , 10.3 ,\n",
       "        9.8 , 17.5 , 20.91, 10.9 ,  9.7 ,  7.7 , 16.  ,  8.6 , 11.24,\n",
       "       15.7 , 13.29, 14.  , 12.9 , 12.7 , 16.5 ,  9.36, 10.5 , 12.5 ,\n",
       "        8.7 , 21.4 , 11.52,  8.9 , 14.2 ,  8.1 , 10.44,  4.5 , 18.4 ,\n",
       "        7.4 , 11.3 , 13.1 , 10.19,  7.06, 10.6 , 11.2 ,  9.6 , 11.4 ,\n",
       "       11.7 , 25.  ,  5.1 ,  9.9 , 14.3 , 18.  , 11.8 , 13.3 , 17.7 ,\n",
       "       23.1 , 11.33, 13.5 , 17.2 , 13.8 , 12.3 , 50.  ,  9.3 ,  5.8 ,\n",
       "       15.4 , 12.2 , 12.88,  9.28, 16.1 , 14.5 ,  5.9 , 10.1 , 15.1 ,\n",
       "        8.98, 10.59, 23.  , 16.74,  9.57, 23.43, 15.2 ,  8.07, 12.24,\n",
       "       13.39, 36.6 , 10.84, 19.7 , 10.35, 10.69,  5.49,  6.8 ,  8.29,\n",
       "        6.7 , 13.6 , 10.75, 15.3 ,  2.  ,  6.77, 11.06, 12.6 ,  7.71,\n",
       "       27.  ,  9.4 , 14.7 , 11.35, 13.31, 21.  , 20.6 , 13.79, 20.52,\n",
       "        5.75, 14.1 , 18.78, 23.5 , 24.3 , 13.2 ,  6.9 , 14.8 , 19.5 ,\n",
       "       14.9 ,  8.71,  9.95, 25.2 ,  8.31, 32.  , 22.4 ,  6.36, 13.14,\n",
       "       18.2 ,  9.18, 13.7 , 15.61, 22.31,  9.45, 14.49,  5.35, 17.8 ,\n",
       "       29.9 , 22.  ,  8.08, 13.11,  6.25, 10.09, 11.29, 11.11, 13.67,\n",
       "       11.14, 17.9 , 16.4 , 11.05,  4.  , 14.84,  8.21, 25.34,  9.25,\n",
       "        8.65, 13.9 , 13.53, 15.09,  9.39, 18.6 , 12.35, 27.4 ,  7.17,\n",
       "        3.  , 30.  ,  9.17, 10.45, 41.  , 10.72, 20.07, 17.6 , 12.8 ,\n",
       "       18.45, 10.51, 10.91,  6.73, 11.85,  4.8 ,  5.78, 12.1 , 11.28,\n",
       "        9.97, 10.68, 21.2 , 16.7 , 10.56,  9.68,  8.25, 15.9 ,  4.7 ,\n",
       "       10.02, 11.62, 14.6 , 11.71, 13.69, 18.1 ,  6.35, 35.  , 10.88,\n",
       "        6.76, 17.1 , 16.8 , 28.  , 11.63, 19.1 , 15.6 , 21.87, 12.27,\n",
       "       10.39, 10.89, 11.53,  5.68, 10.55,  3.8 ,  9.22,  5.62, 21.9 ,\n",
       "       12.17, 19.8 ,  4.2 , 21.7 , 12.38, 11.46,  7.89, 16.6 , 24.4 ,\n",
       "       26.  , 10.15, 12.05,  9.27, 15.33,  6.58,  9.93, 25.3 , 28.8 ,\n",
       "       13.05, 18.7 , 29.4 ,  7.92, 15.8 , 15.69,  7.85, 13.16, 29.  ,\n",
       "       12.86, 29.3 ,  9.32,  5.74, 11.26, 14.31, 10.52,  6.72, 13.02,\n",
       "       12.52, 28.2 , 11.59,  8.38,  5.47, 10.18, 10.64,  9.89, 12.92,\n",
       "       23.53, 10.36,  9.04, 10.78, 14.24, 13.42, 10.12, 17.64, 11.41,\n",
       "       11.42, 17.3 , 13.55,  9.38,  8.32, 19.2 , 13.81, 24.1 , 14.61,\n",
       "       11.51,  7.65,  9.91, 16.83, 11.34, 11.16, 16.2 , 18.34, 34.19,\n",
       "        6.02, 12.08,  7.18,  8.11,  8.05,  8.06, 12.96,  8.93, 10.62,\n",
       "       16.3 ,  9.72, 11.18, 19.9 , 10.22, 21.3 , 10.94, 37.  ,  5.86,\n",
       "        7.63, 11.47, 20.8 , 17.28, 14.04,  4.3 , 10.06,  8.19, 22.7 ,\n",
       "       14.74, 11.12, 25.11, 14.02, 13.06,  8.01, 17.4 , 20.38,  5.53,\n",
       "       46.8 , 11.31, 19.4 , 17.85,  9.46,  6.31, 18.5 ,  9.48, 11.57,\n",
       "       12.44, 16.9 , 12.58, 12.47, 24.5 , 15.26, 11.37, 27.9 ,  8.58,\n",
       "       19.51, 12.39, 11.81,  9.65,  9.05,  6.84, 20.3 , 21.5 , 11.55,\n",
       "       18.3 ,  6.82, 10.08, 10.54,  9.16, 11.36, 14.95, 12.84, 22.9 ,\n",
       "        8.76, 22.5 ,  9.35, 10.29,  7.87, 20.5 ,  2.89,  7.36, 24.9 ,\n",
       "        9.59,  7.97,  9.85, 24.7 , 33.9 ,  7.86,  5.25, 10.26,  5.33,\n",
       "       10.34, 19.42,  6.83, 20.7 , 11.92, 13.17, 11.84, 12.56, 11.78,\n",
       "       20.56, 10.03,  9.01,  8.73,  5.82,  3.7 ,  2.4 , 42.7 , 12.02,\n",
       "        6.55,  8.57, 12.76,  8.66, 11.04, 15.83, 19.3 ,  9.37, 23.38,\n",
       "       10.42, 33.  ,  7.54, 13.64,  5.61, 29.1 ,  5.65, 11.09, 11.73,\n",
       "       25.4 , 10.25, 10.38, 13.41,  5.23,  9.09, 11.45, 11.74, 14.64,\n",
       "       12.14,  8.84, 10.27, 12.55, 16.26,  6.62,  9.62, 10.92, 10.58,\n",
       "        7.78,  8.94,  9.82,  8.45, 14.17,  8.43, 12.66,  8.35,  8.47,\n",
       "       22.72,  9.52, 14.97,  4.6 ,  5.29, 10.49, 20.2 , 23.28,  8.54,\n",
       "       27.57, 13.25,  9.71,  6.91, 25.9 , 19.61,  9.44, 27.76, 15.78,\n",
       "       10.05, 10.32, 19.39,  9.77, 13.73, 10.71, 10.73,  3.5 ,  6.19,\n",
       "       28.5 , 13.47,  4.4 , 43.2 , 11.67, 12.57, 16.27,  6.28, 23.2 ,\n",
       "       12.01, 13.35,  3.4 ,  8.61,  8.96, 21.1 , 27.3 , 10.24,  8.15,\n",
       "        9.67,  4.1 , 11.95, 16.46,  7.19, 30.6 , 10.74, 13.24, 23.3 ,\n",
       "        5.91,  9.43, 20.92,  8.13, 10.37, 16.77,  6.27, 12.37, 30.2 ,\n",
       "       16.92, 40.  ,  6.23, 13.26, 21.82,  7.94, 20.1 ,  9.76,  6.03,\n",
       "       15.55,  8.44, 12.23, 23.9 , 18.93, 12.75,  6.33, 24.8 ,  5.64,\n",
       "       22.43,  7.48,  5.44,  6.22,  7.41, 26.4 , 37.7 , 34.51,  6.26,\n",
       "       35.6 ,  9.83, 13.63, 10.47, 11.87,  5.42, 18.25,  8.82,  9.58,\n",
       "        5.04, 11.44,  8.48, 13.21,  8.03, 16.89, 13.95,  9.34, 37.78,\n",
       "        6.95, 16.05, 11.65, 10.99, 10.86,  9.24, 16.45,  7.84,  9.79,\n",
       "        7.03,  5.28, 12.53,  6.86, 11.07, 14.06,  6.93, 12.85, 24.89,\n",
       "       26.9 , 18.16,  8.69, 31.2 , 19.21, 31.5 , 11.98, 10.17, 12.71,\n",
       "        2.3 ,  8.87, 16.07,  9.42, 20.77, 28.64, 13.86, 10.01, 12.45,\n",
       "       12.87,  5.06, 14.29, 40.2 , 14.43, 25.02, 11.56,  8.63, 13.32,\n",
       "       16.42,  5.31,  9.26,  9.06,  6.61, 19.19, 28.3 ,  6.37,  9.19,\n",
       "       22.3 ,  8.67, 13.58, 12.03, 13.49,  8.85, 10.87, 19.28, 16.48,\n",
       "        9.08,  8.09, 13.38,  5.21, 12.18, 12.83, 11.64,  1.3 ,  9.11,\n",
       "       21.53, 28.52, 15.43, 13.43, 19.94,  8.77, 15.03, 13.33, 12.43,\n",
       "       17.61,  9.66, 12.32, 18.8 , 31.  ,  6.47, 41.1 ,  8.12, 21.25,\n",
       "       20.24, 49.4 , 12.25, 20.9 , 28.56, 11.69, 14.85,  8.02, 11.22,\n",
       "        8.95, 29.2 ,  9.73, 10.46, 29.7 , 32.4 , 12.93, 12.63, 22.1 ,\n",
       "        8.18, 11.43,  7.02,  7.09,  6.16,  7.15, 10.43, 13.74, 13.65,\n",
       "       10.79, 10.33, 14.98,  5.14,  9.75,  5.59, 13.04, 10.95,  9.13,\n",
       "        5.85,  6.24, 21.74, 16.88, 21.55, 18.55, 15.72])"
      ]
     },
     "execution_count": 76,
     "metadata": {},
     "output_type": "execute_result"
    }
   ],
   "source": [
    "# Просмотр значений\n",
    "df['kitchen_area'].unique()"
   ]
  },
  {
   "cell_type": "code",
   "execution_count": 77,
   "id": "2cea75cf-860c-4420-ac87-144c67913175",
   "metadata": {},
   "outputs": [
    {
     "name": "stdout",
     "output_type": "stream",
     "text": [
      "Количество пропущенных значений: 1892\n"
     ]
    }
   ],
   "source": [
    "# Проверка на пропущенные значения\n",
    "print(f'Количество пропущенных значений: {df['kitchen_area'].isna().sum()}')"
   ]
  },
  {
   "cell_type": "markdown",
   "id": "a57cc29e-073d-451c-b535-4bbddd288760",
   "metadata": {},
   "source": [
    "Определим значение для замены пропусков: рассчитаем для каждой строки разницу между total_area и living_area, а затем рассчитаем какой процент от нежилой зоны в среднем занимает кухня"
   ]
  },
  {
   "cell_type": "code",
   "execution_count": 79,
   "id": "a2d884ae-f731-45a4-8e80-06d3d93fa69d",
   "metadata": {},
   "outputs": [
    {
     "name": "stdout",
     "output_type": "stream",
     "text": [
      "Доля кухни от нежилой зоны в среднем равна 0.4\n"
     ]
    }
   ],
   "source": [
    "# доля, которую в среднем занимает кухня от нежилой территории\n",
    "median_kitchen_percentage = round((df['kitchen_area'] / (df['total_area'] - df['living_area'])).median(), 1)\n",
    "print(f'Доля кухни от нежилой зоны в среднем равна {median_kitchen_percentage}')"
   ]
  },
  {
   "cell_type": "code",
   "execution_count": 80,
   "id": "9f3cd61a-bf15-4c33-8f47-4dc7d343a692",
   "metadata": {},
   "outputs": [],
   "source": [
    "#для каждой строки, где известы total_area и living_area, получим значение для kitchen_area\n",
    "df.loc[df['kitchen_area'].isna(), 'kitchen_area'] = df['total_area'] - df['living_area'] * median_kitchen_percentage"
   ]
  },
  {
   "cell_type": "code",
   "execution_count": 81,
   "id": "35d6920b-617c-4723-ae43-69cd190409de",
   "metadata": {},
   "outputs": [
    {
     "data": {
      "image/png": "[encoded data removed]",
      "text/plain": [
       "<Figure size 640x480 with 1 Axes>"
      ]
     },
     "metadata": {},
     "output_type": "display_data"
    }
   ],
   "source": [
    "#Удалим выбросы\n",
    "remove_outliers('kitchen_area')"
   ]
  },
  {
   "cell_type": "markdown",
   "id": "91428903-6b5d-457d-ad03-687f3f7b055d",
   "metadata": {},
   "source": [
    "#### airports_nearest"
   ]
  },
  {
   "cell_type": "code",
   "execution_count": 83,
   "id": "ce89225c-6e7f-425f-b8e2-c5f3c88ac548",
   "metadata": {},
   "outputs": [
    {
     "name": "stdout",
     "output_type": "stream",
     "text": [
      "Количество пропущенных значений: 4363\n"
     ]
    }
   ],
   "source": [
    "# Проверка на пропущенные значения\n",
    "print(f'Количество пропущенных значений: {df['airports_nearest'].isna().sum()}')"
   ]
  },
  {
   "cell_type": "code",
   "execution_count": 84,
   "id": "2bcc626c-1b82-418b-af8b-60506438a96d",
   "metadata": {},
   "outputs": [],
   "source": [
    "#Оставим незаполненными, так как нет возможности заполнить"
   ]
  },
  {
   "cell_type": "markdown",
   "id": "ff9b2147-0576-4da2-8517-43d854837e39",
   "metadata": {},
   "source": [
    "#### cityCenters_nearest"
   ]
  },
  {
   "cell_type": "code",
   "execution_count": 86,
   "id": "fa8a1f81-6736-4105-aacc-26b70c10d829",
   "metadata": {},
   "outputs": [
    {
     "name": "stdout",
     "output_type": "stream",
     "text": [
      "Количество пропущенных значений: 4353\n"
     ]
    }
   ],
   "source": [
    "# Проверка на пропущенные значения\n",
    "print(f'Количество пропущенных значений: {df['cityCenters_nearest'].isna().sum()}')"
   ]
  },
  {
   "cell_type": "code",
   "execution_count": 87,
   "id": "f72c96ee-9fb8-4f95-800f-f4fd0256da66",
   "metadata": {},
   "outputs": [],
   "source": [
    "#Оставим незаполненными, так как нет возможности заполнить"
   ]
  },
  {
   "cell_type": "markdown",
   "id": "3a4b3c95-4d9a-4129-8596-4d40b3878f92",
   "metadata": {},
   "source": [
    "#### days_exposition"
   ]
  },
  {
   "cell_type": "code",
   "execution_count": 89,
   "id": "64deb541-f7f5-41c5-b043-218ef8da97dd",
   "metadata": {
    "scrolled": true
   },
   "outputs": [
    {
     "data": {
      "text/plain": [
       "array([  81.,  558.,   55., ..., 1007.,  971.,  808.])"
      ]
     },
     "execution_count": 89,
     "metadata": {},
     "output_type": "execute_result"
    }
   ],
   "source": [
    "# Просмотр уникальных значений\n",
    "df['days_exposition'].unique()"
   ]
  },
  {
   "cell_type": "code",
   "execution_count": 90,
   "id": "2f886e30-3b4c-455b-ae4e-b815331986a1",
   "metadata": {},
   "outputs": [
    {
     "data": {
      "text/plain": [
       "1553.0000000000002"
      ]
     },
     "execution_count": 90,
     "metadata": {},
     "output_type": "execute_result"
    }
   ],
   "source": [
    "df['days_exposition'].max()"
   ]
  },
  {
   "cell_type": "code",
   "execution_count": 91,
   "id": "82f6797d-7856-4241-a61a-96679278b6dd",
   "metadata": {},
   "outputs": [
    {
     "name": "stdout",
     "output_type": "stream",
     "text": [
      "Количество пропущенных значений: 1995\n"
     ]
    }
   ],
   "source": [
    "# Проверка на пропущенные значения\n",
    "print(f'Количество пропущенных значений: {df['days_exposition'].isna().sum()}')"
   ]
  },
  {
   "cell_type": "code",
   "execution_count": 92,
   "id": "295a7b0c-be7c-40ed-b017-4fcdf1b28a45",
   "metadata": {},
   "outputs": [],
   "source": [
    "#Замена пропусков\n",
    "df['days_exposition'] = df['days_exposition'].fillna(0)"
   ]
  },
  {
   "cell_type": "code",
   "execution_count": 93,
   "id": "10df572e-ef39-4601-a779-1d7179f5d2b8",
   "metadata": {},
   "outputs": [],
   "source": [
    "#Изменение типа данных\n",
    "df['days_exposition'] = df['days_exposition'].astype('int')"
   ]
  },
  {
   "cell_type": "code",
   "execution_count": 94,
   "id": "77b83854-d035-4a3e-974f-72dfbb4b06b2",
   "metadata": {},
   "outputs": [
    {
     "data": {
      "image/png": "[encoded data removed]",
      "text/plain": [
       "<Figure size 640x480 with 1 Axes>"
      ]
     },
     "metadata": {},
     "output_type": "display_data"
    }
   ],
   "source": [
    "#Удалим выбросы\n",
    "remove_outliers('days_exposition')"
   ]
  },
  {
   "cell_type": "markdown",
   "id": "0ccfbce1-84aa-4f26-b39a-44aacb93729b",
   "metadata": {},
   "source": [
    "#### locality_name"
   ]
  },
  {
   "cell_type": "code",
   "execution_count": 96,
   "id": "c3b72a65-e72a-4cdb-bfe8-29ff7d7214ee",
   "metadata": {
    "scrolled": true
   },
   "outputs": [
    {
     "data": {
      "text/plain": [
       "array(['посёлок Шушары', 'городской посёлок Янино-1', 'посёлок Парголово',\n",
       "       'посёлок Мурино', 'Санкт-Петербург', 'Ломоносов', 'Сертолово',\n",
       "       'Петергоф', 'Пушкин', 'деревня Кудрово', 'Колпино', 'Гатчина',\n",
       "       'поселок Мурино', 'деревня Фёдоровское', 'Выборг', 'Кронштадт',\n",
       "       'Кировск', 'посёлок Металлострой',\n",
       "       'посёлок городского типа Лебяжье',\n",
       "       'посёлок городского типа Сиверский', 'поселок Молодцово',\n",
       "       'поселок городского типа Кузьмоловский',\n",
       "       'садовое товарищество Новая Ропша', 'Всеволожск', 'Волхов',\n",
       "       'Кингисепп', 'Приозерск', 'деревня Куттузи', 'Сестрорецк',\n",
       "       'посёлок Аннино', 'деревня Заклинье', 'поселок Торковичи',\n",
       "       'поселок Первомайское', 'Красное Село', 'посёлок Понтонный',\n",
       "       'деревня Старая', 'Павловск', 'деревня Лесколово', 'Ивангород',\n",
       "       'деревня Новое Девяткино', 'Сланцы', 'Шлиссельбург', 'Сясьстрой',\n",
       "       'Никольское', 'Зеленогорск', 'поселок Новый Свет',\n",
       "       'деревня Кальтино', 'Кудрово', 'поселок Романовка',\n",
       "       'посёлок Бугры', 'поселок городского типа Рощино', 'Кириши',\n",
       "       'Волосово', 'Отрадное', 'село Павлово', 'поселок Оредеж',\n",
       "       'посёлок городского типа Красный Бор', 'поселок Бугры', 'Коммунар',\n",
       "       'посёлок Молодёжное', 'посёлок Победа', 'деревня Нурма',\n",
       "       'посёлок Новый Свет', 'посёлок городского типа Кузьмоловский',\n",
       "       'посёлок Стрельна', 'Бокситогорск', 'деревня Лопухинка',\n",
       "       'поселок Терволово', 'поселок городского типа Советский',\n",
       "       'Сосновый Бор', 'Подпорожье', 'посёлок Петровское',\n",
       "       'поселок Сельцо', 'Тосно', 'посёлок городского типа Вырица',\n",
       "       'деревня Келози', 'посёлок Тельмана',\n",
       "       'городской поселок Большая Ижора', 'Тихвин', 'деревня Агалатово',\n",
       "       'посёлок Новогорелово', 'городской посёлок Лесогорский',\n",
       "       'деревня Лаголово', 'поселок Цвелодубово',\n",
       "       'поселок городского типа Рахья', 'поселок городского типа Вырица',\n",
       "       'деревня Белогорка', 'поселок Заводской',\n",
       "       'городской посёлок Новоселье', 'деревня Большие Колпаны',\n",
       "       'деревня Горбунки', 'Мурино', 'деревня Заневка',\n",
       "       'посёлок городского типа Токсово', 'Приморск',\n",
       "       'городской посёлок Фёдоровское', 'деревня Мистолово',\n",
       "       'Новая Ладога', 'деревня Разметелево',\n",
       "       'поселок городского типа имени Свердлова', 'деревня Пеники',\n",
       "       'поселок Рябово', 'деревня Пудомяги', 'деревня Бегуницы',\n",
       "       'посёлок Поляны', 'деревня Вартемяги', 'городской посёлок Мга',\n",
       "       'поселок Елизаветино', 'посёлок городского типа Кузнечное',\n",
       "       'поселок городского типа Синявино', 'деревня Колтуши',\n",
       "       'поселок Запорожское', 'посёлок городского типа Рощино', 'Луга',\n",
       "       'деревня Гостилицы', 'деревня Малое Карлино',\n",
       "       'посёлок Мичуринское', 'посёлок Песочный', 'посёлок Сосново',\n",
       "       'деревня Аро', 'поселок Ильичёво', 'посёлок городского типа Тайцы',\n",
       "       'деревня Малое Верево', 'деревня Извара', 'поселок станции Вещево',\n",
       "       'деревня Калитино', 'посёлок городского типа Ульяновка',\n",
       "       'деревня Чудской Бор', 'поселок городского типа Дубровка',\n",
       "       'деревня Мины', 'посёлок городского типа имени Свердлова',\n",
       "       'деревня Коркино', 'поселок городского типа Приладожский',\n",
       "       'посёлок Щеглово', 'посёлок Гаврилово', 'Лодейное Поле',\n",
       "       'Пикалёво', 'деревня Рабитицы', 'деревня Кузьмолово',\n",
       "       'деревня Малые Колпаны', 'поселок Тельмана',\n",
       "       'городской посёлок Назия', 'городской посёлок Павлово',\n",
       "       'посёлок Ильичёво', nan, 'деревня Низино',\n",
       "       'поселок Старая Малукса', 'садовое товарищество Рахья',\n",
       "       'поселок Аннино', 'поселок Победа', 'деревня Меньково',\n",
       "       'деревня Старые Бегуницы',\n",
       "       'посёлок городского типа имени Морозова', 'посёлок Сапёрный',\n",
       "       'поселок Семрино', 'поселок Гаврилово', 'поселок Глажево',\n",
       "       'поселок Кобринское', 'деревня Гарболово',\n",
       "       'поселок станции Приветнинское', 'поселок Зимитицы',\n",
       "       'деревня Мануйлово', 'деревня Пчева', 'поселок Поляны',\n",
       "       'поселок Цвылёво', 'поселок Мельниково', 'посёлок Плодовое',\n",
       "       'посёлок Пудость', 'посёлок Усть-Луга', 'Светогорск',\n",
       "       'поселок Селезнёво', 'поселок городского типа Рябово',\n",
       "       'Каменногорск', 'поселок Глебычево', 'деревня Парицы',\n",
       "       'поселок Жилпосёлок', 'посёлок городского типа Мга',\n",
       "       'городской поселок Янино-1', 'посёлок Войскорово',\n",
       "       'село Никольское', 'деревня Оржицы', 'поселок Стеклянный',\n",
       "       'посёлок Мыза-Ивановка', 'село Русско-Высоцкое',\n",
       "       'поселок городского типа Лебяжье',\n",
       "       'поселок городского типа Форносово', 'поселок Войсковицы',\n",
       "       'посёлок Терволово', 'поселок Житково',\n",
       "       'городской посёлок Виллози', 'деревня Шпаньково', 'деревня Кипень',\n",
       "       'посёлок Сумино', 'посёлок Возрождение', 'деревня Старосиверская',\n",
       "       'посёлок Кикерино', 'поселок Возрождение',\n",
       "       'деревня Старое Хинколово', 'посёлок Пригородный',\n",
       "       'посёлок Торфяное', 'Любань', 'городской посёлок Будогощь',\n",
       "       'поселок Суходолье', 'деревня Хапо-Ое',\n",
       "       'поселок городского типа Дружная Горка', 'поселок Лисий Нос',\n",
       "       'деревня Яльгелево', 'село Рождествено', 'поселок Углово',\n",
       "       'деревня Сяськелево', 'деревня Камышовка',\n",
       "       'садоводческое некоммерческое товарищество Лесная Поляна',\n",
       "       'поселок Жилгородок', 'посёлок городского типа Павлово',\n",
       "       'деревня Ялгино', 'деревня Батово', 'поселок Новый Учхоз',\n",
       "       'поселок Гончарово', 'поселок Почап', 'посёлок Сапёрное',\n",
       "       'посёлок Платформа 69-й километр', 'поселок Каложицы',\n",
       "       'деревня Фалилеево', 'деревня Пельгора',\n",
       "       'поселок городского типа Лесогорский', 'деревня Торошковичи',\n",
       "       'посёлок Белоостров', 'посёлок Алексеевка',\n",
       "       'посёлок городского типа Важины', 'поселок Лукаши',\n",
       "       'поселок Петровское', 'деревня Щеглово',\n",
       "       'городской посёлок Рощино', 'поселок городского типа Никольский',\n",
       "       'поселок Кингисеппский',\n",
       "       'посёлок при железнодорожной станции Вещево', 'поселок Ушаки',\n",
       "       'деревня Старополье', 'деревня Котлы', 'деревня Сижно',\n",
       "       'деревня Лампово', 'деревня Торосово',\n",
       "       'посёлок Форт Красная Горка', 'деревня Новолисино',\n",
       "       'посёлок станции Громово', 'поселок городского типа Ефимовский',\n",
       "       'посёлок Мельниково', 'поселок городского типа Назия',\n",
       "       'деревня Старая Пустошь', 'поселок Коммунары', 'поселок Починок',\n",
       "       'деревня Разбегаево', 'поселок Гладкое',\n",
       "       'посёлок при железнодорожной станции Приветнинское',\n",
       "       'поселок Тёсово-4', 'посёлок Жилгородок', 'посёлок Коробицыно',\n",
       "       'деревня Большая Вруда', 'деревня Курковицы',\n",
       "       'поселок Серебрянский', 'городской посёлок Советский',\n",
       "       'посёлок Кобралово', 'деревня Суоранда', 'поселок Кобралово',\n",
       "       'деревня Юкки', 'поселок городского типа Кондратьево',\n",
       "       'деревня Реброво', 'деревня Тойворово', 'поселок Семиозерье',\n",
       "       'поселок Лесное', 'поселок Совхозный', 'поселок Усть-Луга',\n",
       "       'село Путилово', 'посёлок городского типа Форносово',\n",
       "       'деревня Нижние Осельки', 'поселок Перово', 'поселок Гарболово',\n",
       "       'село Копорье', 'поселок Мичуринское', 'село Шум',\n",
       "       'поселок Котельский', 'посёлок Стеклянный', 'посёлок Ленинское',\n",
       "       'деревня Пижма', 'поселок Ромашки', 'посёлок Суйда',\n",
       "       'деревня Куровицы', 'поселок Сумино',\n",
       "       'поселок городского типа Большая Ижора', 'поселок Кирпичное',\n",
       "       'деревня Ям-Тесово', 'деревня Терпилицы',\n",
       "       'посёлок городского типа Вознесенье',\n",
       "       'поселок городского типа Токсово', 'посёлок Шугозеро',\n",
       "       'поселок Пушное', 'садовое товарищество Садко', 'деревня Выскатка',\n",
       "       'поселок Громово', 'посёлок станции Свирь', 'деревня Кисельня',\n",
       "       'село Старая Ладога', 'посёлок Старая Малукса', 'поселок Калитино',\n",
       "       'посёлок Высокоключевой', 'садовое товарищество Приладожский',\n",
       "       'посёлок Пансионат Зелёный Бор', 'посёлок Перово',\n",
       "       'деревня Ненимяки', 'поселок Пансионат Зелёный Бор',\n",
       "       'деревня Снегирёвка', 'поселок Красная Долина',\n",
       "       'посёлок Александровская', 'деревня Рапполово', 'деревня Пустынка',\n",
       "       'поселок городского типа Красный Бор', 'поселок Рабитицы',\n",
       "       'деревня Большой Сабск', 'посёлок Усть-Ижора', 'посёлок Лисий Нос',\n",
       "       'деревня Лупполово', 'деревня Большое Рейзино',\n",
       "       'деревня Малая Романовка', 'поселок Дружноселье', 'село Паша',\n",
       "       'поселок Володарское', 'коттеджный посёлок Лесное', 'Высоцк',\n",
       "       'деревня Тихковицы', 'поселок Любань', 'деревня Борисова Грива',\n",
       "       'посёлок Дзержинского'], dtype=object)"
      ]
     },
     "execution_count": 96,
     "metadata": {},
     "output_type": "execute_result"
    }
   ],
   "source": [
    "# Просмотр уникальных значений\n",
    "df['locality_name'].unique()"
   ]
  },
  {
   "cell_type": "code",
   "execution_count": 97,
   "id": "f6fe172e-59a2-40e0-b4b3-4375c5b0c225",
   "metadata": {},
   "outputs": [
    {
     "name": "stdout",
     "output_type": "stream",
     "text": [
      "Количество уникальных значений до замены: 332\n"
     ]
    }
   ],
   "source": [
    "print(f'Количество уникальных значений до замены: {len(df['locality_name'].unique())}')"
   ]
  },
  {
   "cell_type": "code",
   "execution_count": 98,
   "id": "29a9e0f4-2748-49e1-aa66-8b22d75dbfdf",
   "metadata": {},
   "outputs": [],
   "source": [
    "#замена названий\n",
    "names_variant = {'посёлок': 'поселок',\n",
    "                 'посёлок городского типа': 'поселок',\n",
    "                 'поселок городского типа': 'поселок',\n",
    "                 'городской поселок': 'поселок',\n",
    "                 'городской посёлок': 'поселок',\n",
    "                 'поселок при железнодорожной станции': 'поселок',\n",
    "                 'посёлок при железнодорожной станции': 'поселок',\n",
    "                 'поселок станции': 'поселок',\n",
    "                 'посёлок станции': 'поселок'}\n",
    "df['locality_name'] = df['locality_name'].replace(names_variant, regex=True)"
   ]
  },
  {
   "cell_type": "code",
   "execution_count": 99,
   "id": "c9e8de83-1ebf-4f98-b29a-7e93846a80cb",
   "metadata": {},
   "outputs": [
    {
     "name": "stdout",
     "output_type": "stream",
     "text": [
      "Количество уникальных значений после замены: 307\n"
     ]
    }
   ],
   "source": [
    "print(f'Количество уникальных значений после замены: {len(df['locality_name'].unique())}')"
   ]
  },
  {
   "cell_type": "code",
   "execution_count": 100,
   "id": "1fd83844-fb6d-47a1-b486-ae1706466bc2",
   "metadata": {},
   "outputs": [
    {
     "name": "stdout",
     "output_type": "stream",
     "text": [
      "Количество пропущенных значений: 20\n"
     ]
    }
   ],
   "source": [
    "# Проверка на пропущенные значения\n",
    "print(f'Количество пропущенных значений: {df['locality_name'].isna().sum()}')"
   ]
  },
  {
   "cell_type": "markdown",
   "id": "dc9b1813-18c4-41d6-8f29-06681579aabb",
   "metadata": {},
   "source": [
    "#### parks_nearest и parks_around3000"
   ]
  },
  {
   "cell_type": "code",
   "execution_count": 102,
   "id": "2fab5551-bd17-42d7-af77-e0ad05b2ce8a",
   "metadata": {},
   "outputs": [
    {
     "data": {
      "text/plain": [
       "parks_around3000\n",
       "0.0    6953\n",
       "1.0    3330\n",
       "2.0     846\n",
       "3.0     228\n",
       "Name: count, dtype: int64"
      ]
     },
     "execution_count": 102,
     "metadata": {},
     "output_type": "execute_result"
    }
   ],
   "source": [
    "df['parks_around3000'].value_counts()"
   ]
  },
  {
   "cell_type": "markdown",
   "id": "b651aae7-2492-4403-9842-44b11b6e346b",
   "metadata": {},
   "source": [
    "Проверим зависимость между столбцами \"parks_around3000\" - число парков в радиусе 3 км и \"parks_nearest\" - расстояние до ближайшего парка (м)."
   ]
  },
  {
   "cell_type": "code",
   "execution_count": 104,
   "id": "65d7c7c3-0b53-44a2-99c8-b27818625b1e",
   "metadata": {},
   "outputs": [
    {
     "data": {
      "image/png": "[encoded data removed]",
      "text/plain": [
       "<Figure size 640x480 with 1 Axes>"
      ]
     },
     "metadata": {},
     "output_type": "display_data"
    }
   ],
   "source": [
    "filtered_df = df[(df['parks_around3000'].notna()) & (df['parks_nearest'].notna())]\n",
    "x = filtered_df['parks_around3000']\n",
    "y = filtered_df['parks_nearest']\n",
    "\n",
    "sns.scatterplot(data=filtered_df, x=x, y=y)\n",
    "\n",
    "plt.xticks(range(int(filtered_df['parks_around3000'].min()), int(filtered_df['parks_around3000'].max()) + 1))\n",
    "plt.show()"
   ]
  },
  {
   "cell_type": "code",
   "execution_count": 105,
   "id": "5a4d3e68-5c8f-4372-8bc2-2b626c98f701",
   "metadata": {
    "scrolled": true
   },
   "outputs": [
    {
     "name": "stdout",
     "output_type": "stream",
     "text": [
      "Если значение в parks_around3000 > 0, то пропущенных в parks_nearest 0, максимальное значение равно 2984.0\n"
     ]
    }
   ],
   "source": [
    "filtered_df = df[(df['parks_around3000'] > 0)]\n",
    "print(f'Если значение в parks_around3000 > 0, то пропущенных в parks_nearest {len(filtered_df[(pd.isna(filtered_df['parks_nearest']))])}, максимальное значение равно {filtered_df['parks_nearest'].max()}') "
   ]
  },
  {
   "cell_type": "code",
   "execution_count": 106,
   "id": "9ccd8c5b-175d-4bb4-bcb9-606437b8f93f",
   "metadata": {
    "scrolled": true
   },
   "outputs": [
    {
     "name": "stdout",
     "output_type": "stream",
     "text": [
      "Если значение в parks_around3000 == 0, то пропущенных в parks_nearest 6950, максимальное значение равно 3190.0\n"
     ]
    }
   ],
   "source": [
    "filtered_df = df[(df['parks_around3000'] == 0)]\n",
    "print(f'Если значение в parks_around3000 == 0, то пропущенных в parks_nearest {len(filtered_df[(pd.isna(filtered_df['parks_nearest']))])}, максимальное значение равно {filtered_df['parks_nearest'].max()}') "
   ]
  },
  {
   "cell_type": "code",
   "execution_count": 107,
   "id": "8b4ada9a-d9ca-43f3-996c-9561d89e89b0",
   "metadata": {},
   "outputs": [
    {
     "name": "stdout",
     "output_type": "stream",
     "text": [
      "Если значение в parks_around3000 пропущено, то пропущенных в parks_nearest: 3961, максимальное значение равно nan\n"
     ]
    }
   ],
   "source": [
    "filtered_df = df[(pd.isna(df['parks_around3000']))]\n",
    "print(f'Если значение в parks_around3000 пропущено, то пропущенных в parks_nearest: {filtered_df['parks_nearest'].isna().sum()}, максимальное значение равно {filtered_df['parks_nearest'].max()}')"
   ]
  },
  {
   "cell_type": "code",
   "execution_count": 108,
   "id": "f5519c3f-2398-4383-a034-04d0462ab239",
   "metadata": {
    "scrolled": true
   },
   "outputs": [
    {
     "name": "stdout",
     "output_type": "stream",
     "text": [
      "Если значение в parks_nearest заполнено, то пропущенных в parks_around3000: 0, максимальное значение равно 3.0\n"
     ]
    }
   ],
   "source": [
    "filtered_df = df[(pd.notna(df['parks_nearest']))]\n",
    "print(f'Если значение в parks_nearest заполнено, то пропущенных в parks_around3000: {filtered_df['parks_around3000'].isna().sum()}, максимальное значение равно {filtered_df['parks_around3000'].max()}')"
   ]
  },
  {
   "cell_type": "markdown",
   "id": "8e0b879f-de81-483b-b2a4-696673a2d703",
   "metadata": {},
   "source": [
    "Исходя из результатов выше, можно разбить данные с пропусками в parks_nearest на две группы:\n",
    "\n",
    "1 группа: известно, что в радиусе 3 км нет парка\n",
    "\n",
    "2 группа: неизвестно, есть ли в радиусе 3 км парк, так как значение в parks_around3000 пропущено\n",
    "\n",
    "Сделаем замену для первой группы в поле parks_nearest и укажем расстояние больше 3 км, например, 3100.\n",
    "Для второй группы оставим пропуски."
   ]
  },
  {
   "cell_type": "code",
   "execution_count": 110,
   "id": "597bb943-654e-437c-95bf-d7bb454ef181",
   "metadata": {},
   "outputs": [],
   "source": [
    "#Известно, что в радиусе 3 км нет парка. Делаем замену:\n",
    "filtered_df = df[(df['parks_around3000'] == 0)]\n",
    "df.loc[(df['parks_nearest'].isna()) & (df['parks_around3000'] == 0), 'parks_nearest'] = 3100"
   ]
  },
  {
   "cell_type": "code",
   "execution_count": 111,
   "id": "01ccf179-b769-4ae6-90a2-a5133e7db5cc",
   "metadata": {},
   "outputs": [
    {
     "name": "stdout",
     "output_type": "stream",
     "text": [
      "Кол-во пропусков в parks_around3000: 3961\n",
      "Кол-во пропусков в parks_nearest: 3961\n"
     ]
    }
   ],
   "source": [
    "#проверяем кол-во пропусков после замен\n",
    "print(f'Кол-во пропусков в parks_around3000: {df['parks_around3000'].isna().sum()}')\n",
    "print(f'Кол-во пропусков в parks_nearest: {df['parks_nearest'].isna().sum()}')"
   ]
  },
  {
   "cell_type": "markdown",
   "id": "f047fd65-41cb-4c37-96d8-6c0a4a633d7e",
   "metadata": {},
   "source": [
    "#### ponds_nearest и ponds_around3000"
   ]
  },
  {
   "cell_type": "code",
   "execution_count": 113,
   "id": "aeb88ed1-d1e9-4360-bdeb-cec581724254",
   "metadata": {},
   "outputs": [
    {
     "data": {
      "text/plain": [
       "ponds_around3000\n",
       "0.0    6202\n",
       "1.0    3557\n",
       "2.0    1045\n",
       "3.0     553\n",
       "Name: count, dtype: int64"
      ]
     },
     "execution_count": 113,
     "metadata": {},
     "output_type": "execute_result"
    }
   ],
   "source": [
    "df['ponds_around3000'].value_counts()"
   ]
  },
  {
   "cell_type": "markdown",
   "id": "9ae370ab-e017-4bfd-9fde-d86657445bf8",
   "metadata": {},
   "source": [
    "Все шаги выполним аналогично тому, что сделали для двух параметров выше:\n",
    "Проверим зависимость между столбцами \"ponds_around3000\" - число водоемов в радиусе 3 км и \"ponds_nearest\" - расстояние до ближайшего водоема (м)."
   ]
  },
  {
   "cell_type": "code",
   "execution_count": 115,
   "id": "737325aa-9143-446d-8a3a-2758a162e226",
   "metadata": {},
   "outputs": [
    {
     "name": "stdout",
     "output_type": "stream",
     "text": [
      "Если значение в ponds_around3000 > 0, то пропущенных в ponds_nearest 0, максимальное значение равно 1344.0\n"
     ]
    }
   ],
   "source": [
    "filtered_df = df[(df['ponds_around3000'] > 0)]\n",
    "print(f'Если значение в ponds_around3000 > 0, то пропущенных в ponds_nearest {len(filtered_df[(pd.isna(filtered_df['ponds_nearest']))])}, максимальное значение равно {filtered_df['ponds_nearest'].max()}') "
   ]
  },
  {
   "cell_type": "code",
   "execution_count": 116,
   "id": "6de33c37-bee4-4258-9371-407818324a1c",
   "metadata": {},
   "outputs": [
    {
     "name": "stdout",
     "output_type": "stream",
     "text": [
      "Если значение в ponds_around3000 == 0, то пропущенных в ponds_nearest 6202, максимальное значение равно nan\n"
     ]
    }
   ],
   "source": [
    "filtered_df = df[(df['ponds_around3000'] == 0)]\n",
    "print(f'Если значение в ponds_around3000 == 0, то пропущенных в ponds_nearest {len(filtered_df[(pd.isna(filtered_df['ponds_nearest']))])}, максимальное значение равно {filtered_df['ponds_nearest'].max()}') "
   ]
  },
  {
   "cell_type": "code",
   "execution_count": 117,
   "id": "da27ad11-d761-4d23-b691-74e14fea9e71",
   "metadata": {},
   "outputs": [
    {
     "name": "stdout",
     "output_type": "stream",
     "text": [
      "Если значение в ponds_around3000 пропущено, то пропущенных в ponds_nearest: 3961, максимальное значение равно nan\n"
     ]
    }
   ],
   "source": [
    "filtered_df = df[(pd.isna(df['ponds_around3000']))]\n",
    "print(f'Если значение в ponds_around3000 пропущено, то пропущенных в ponds_nearest: {filtered_df['ponds_nearest'].isna().sum()}, максимальное значение равно {filtered_df['ponds_nearest'].max()}')"
   ]
  },
  {
   "cell_type": "code",
   "execution_count": 118,
   "id": "46aff377-bec4-41e9-8bfc-b8b4da7315ae",
   "metadata": {
    "scrolled": true
   },
   "outputs": [
    {
     "name": "stdout",
     "output_type": "stream",
     "text": [
      "Если значение в parks_nearest заполнено, то пропущенных в ponds_around3000: 0, максимальное значение равно 3.0\n"
     ]
    }
   ],
   "source": [
    "filtered_df = df[(pd.notna(df['ponds_nearest']))]\n",
    "print(f'Если значение в parks_nearest заполнено, то пропущенных в ponds_around3000: {filtered_df['ponds_around3000'].isna().sum()}, максимальное значение равно {filtered_df['ponds_around3000'].max()}')"
   ]
  },
  {
   "cell_type": "markdown",
   "id": "8299250b-31fe-417d-be5d-f4f5d8b41b50",
   "metadata": {},
   "source": [
    "Cделаем замены по аналогии со столбцами \"parks_around3000\" и \"parks_nearest\""
   ]
  },
  {
   "cell_type": "code",
   "execution_count": 120,
   "id": "b162eb11-18ea-4c56-9b5e-2a99139342e6",
   "metadata": {},
   "outputs": [],
   "source": [
    "#1 Так как в ponds_nearest всегда NaN, когда ponds_around3000 = 0, заменим в этом случае пропуски фиксированным значением 3100\n",
    "df.loc[(df['ponds_nearest'].isna()) & (df['ponds_around3000'] == 0), 'ponds_nearest'] = 3100"
   ]
  },
  {
   "cell_type": "code",
   "execution_count": 121,
   "id": "7146e5c7-2875-425d-b230-d704ee28e35d",
   "metadata": {},
   "outputs": [
    {
     "name": "stdout",
     "output_type": "stream",
     "text": [
      "Кол-во пропусков в ponds_around3000: 3961\n",
      "Кол-во пропусков в ponds_nearest: 3961\n"
     ]
    }
   ],
   "source": [
    "#проверяем кол-во пропусков после замен\n",
    "print(f'Кол-во пропусков в ponds_around3000: {df['ponds_around3000'].isna().sum()}')\n",
    "print(f'Кол-во пропусков в ponds_nearest: {df['ponds_nearest'].isna().sum()}')"
   ]
  },
  {
   "cell_type": "markdown",
   "id": "8ddd8b28-8f98-4569-ab6f-d07055709e70",
   "metadata": {},
   "source": [
    "### Результаты обработки"
   ]
  },
  {
   "cell_type": "code",
   "execution_count": 123,
   "id": "85153448-bd06-468d-8e8b-9891f4fdb089",
   "metadata": {},
   "outputs": [
    {
     "name": "stdout",
     "output_type": "stream",
     "text": [
      "Количество строк до обработки = 23699, количество строк после обработки = 15318\n"
     ]
    }
   ],
   "source": [
    "print(f'Количество строк до обработки = {len_df_start}, количество строк после обработки = {len(df)}')"
   ]
  },
  {
   "cell_type": "code",
   "execution_count": 124,
   "id": "8347af25-86aa-4fde-bfe8-f257d2edb927",
   "metadata": {},
   "outputs": [
    {
     "name": "stdout",
     "output_type": "stream",
     "text": [
      "<class 'pandas.core.frame.DataFrame'>\n",
      "Index: 15318 entries, 1 to 23698\n",
      "Data columns (total 22 columns):\n",
      " #   Column                Non-Null Count  Dtype         \n",
      "---  ------                --------------  -----         \n",
      " 0   total_images          15318 non-null  int64         \n",
      " 1   last_price            15318 non-null  float64       \n",
      " 2   total_area            15318 non-null  float64       \n",
      " 3   first_day_exposition  15318 non-null  datetime64[ns]\n",
      " 4   rooms                 15318 non-null  int64         \n",
      " 5   ceiling_height        15318 non-null  float64       \n",
      " 6   floors_total          15318 non-null  int32         \n",
      " 7   living_area           15037 non-null  float64       \n",
      " 8   floor                 15318 non-null  int64         \n",
      " 9   is_apartment          15318 non-null  bool          \n",
      " 10  studio                15318 non-null  bool          \n",
      " 11  open_plan             15318 non-null  bool          \n",
      " 12  kitchen_area          15318 non-null  float64       \n",
      " 13  balcony               15318 non-null  int32         \n",
      " 14  locality_name         15298 non-null  object        \n",
      " 15  airports_nearest      11347 non-null  float64       \n",
      " 16  cityCenters_nearest   11357 non-null  float64       \n",
      " 17  parks_around3000      11357 non-null  float64       \n",
      " 18  parks_nearest         11357 non-null  float64       \n",
      " 19  ponds_around3000      11357 non-null  float64       \n",
      " 20  ponds_nearest         11357 non-null  float64       \n",
      " 21  days_exposition       15318 non-null  int32         \n",
      "dtypes: bool(3), datetime64[ns](1), float64(11), int32(3), int64(3), object(1)\n",
      "memory usage: 2.2+ MB\n"
     ]
    }
   ],
   "source": [
    "df.info()"
   ]
  },
  {
   "cell_type": "code",
   "execution_count": 125,
   "id": "1cac55f6-637c-4ef7-a87f-d4edc0b22095",
   "metadata": {},
   "outputs": [
    {
     "data": {
      "image/png": "[encoded data removed]",
      "text/plain": [
       "<Figure size 1500x1000 with 1 Axes>"
      ]
     },
     "metadata": {},
     "output_type": "display_data"
    }
   ],
   "source": [
    "#выбросы\n",
    "num_df = df.select_dtypes(include=['number'])\n",
    "log_df = num_df.apply(lambda col: np.log(col + 1) if col.min() >= 0 else col)\n",
    "\n",
    "plt.figure(figsize=(15, 10))\n",
    "log_df.boxplot()\n",
    "\n",
    "plt.xticks(rotation=90)\n",
    "plt.tight_layout()\n",
    "plt.show()"
   ]
  },
  {
   "cell_type": "markdown",
   "id": "d6fd7920-fdd8-4242-a0a0-a277b3bd401e",
   "metadata": {},
   "source": [
    "## Этап 2. Добавление новых признаков"
   ]
  },
  {
   "cell_type": "markdown",
   "id": "c6c8e428-8a67-4586-97c8-adf81c7cf9bb",
   "metadata": {},
   "source": [
    "Добавим новые временные признаки (год, месяц, день недели публикации объявления), признак цена за квадратный метр, тип этажа квартиры (первый, последний, первый и последний, другой)"
   ]
  },
  {
   "cell_type": "code",
   "execution_count": 128,
   "id": "7681698f-3feb-4f13-9e72-a0ca2ec8d284",
   "metadata": {},
   "outputs": [],
   "source": [
    "df['year'] = df['first_day_exposition'].dt.year\n",
    "df['month'] = df['first_day_exposition'].dt.month\n",
    "df['weekday'] = df['first_day_exposition'].dt.weekday\n",
    "df['price_per_m2'] = (df['last_price'] / df['total_area']).round(2)\n",
    "df['floor_type'] = df.apply(lambda row: 'Первый и последний' if row['floor'] == 1 and row['floors_total'] == 1 else ('Первый' if row['floor'] == 1 else ('Последний' if row['floor'] == row['floors_total'] else 'Другой')),axis=1)"
   ]
  },
  {
   "cell_type": "code",
   "execution_count": 129,
   "id": "c52115f3-2bf8-4db8-b3f4-8e23c6c5cbfb",
   "metadata": {},
   "outputs": [
    {
     "data": {
      "text/html": [
       "<div>\n",
       "<style scoped>\n",
       "    .dataframe tbody tr th:only-of-type {\n",
       "        vertical-align: middle;\n",
       "    }\n",
       "\n",
       "    .dataframe tbody tr th {\n",
       "        vertical-align: top;\n",
       "    }\n",
       "\n",
       "    .dataframe thead th {\n",
       "        text-align: right;\n",
       "    }\n",
       "</style>\n",
       "<table border=\"1\" class=\"dataframe\">\n",
       "  <thead>\n",
       "    <tr style=\"text-align: right;\">\n",
       "      <th></th>\n",
       "      <th>total_images</th>\n",
       "      <th>last_price</th>\n",
       "      <th>total_area</th>\n",
       "      <th>first_day_exposition</th>\n",
       "      <th>rooms</th>\n",
       "      <th>ceiling_height</th>\n",
       "      <th>floors_total</th>\n",
       "      <th>living_area</th>\n",
       "      <th>floor</th>\n",
       "      <th>is_apartment</th>\n",
       "      <th>studio</th>\n",
       "      <th>open_plan</th>\n",
       "      <th>kitchen_area</th>\n",
       "      <th>balcony</th>\n",
       "      <th>locality_name</th>\n",
       "      <th>airports_nearest</th>\n",
       "      <th>cityCenters_nearest</th>\n",
       "      <th>parks_around3000</th>\n",
       "      <th>parks_nearest</th>\n",
       "      <th>ponds_around3000</th>\n",
       "      <th>ponds_nearest</th>\n",
       "      <th>days_exposition</th>\n",
       "      <th>year</th>\n",
       "      <th>month</th>\n",
       "      <th>weekday</th>\n",
       "      <th>price_per_m2</th>\n",
       "      <th>floor_type</th>\n",
       "    </tr>\n",
       "  </thead>\n",
       "  <tbody>\n",
       "    <tr>\n",
       "      <th>1</th>\n",
       "      <td>7</td>\n",
       "      <td>3350000.0</td>\n",
       "      <td>40.40</td>\n",
       "      <td>2018-12-04</td>\n",
       "      <td>1</td>\n",
       "      <td>2.7</td>\n",
       "      <td>11</td>\n",
       "      <td>18.60</td>\n",
       "      <td>1</td>\n",
       "      <td>True</td>\n",
       "      <td>False</td>\n",
       "      <td>False</td>\n",
       "      <td>11.00</td>\n",
       "      <td>2</td>\n",
       "      <td>поселок Шушары</td>\n",
       "      <td>12817.0</td>\n",
       "      <td>18603.0</td>\n",
       "      <td>0.0</td>\n",
       "      <td>3100.0</td>\n",
       "      <td>0.0</td>\n",
       "      <td>3100.0</td>\n",
       "      <td>81</td>\n",
       "      <td>2018</td>\n",
       "      <td>12</td>\n",
       "      <td>1</td>\n",
       "      <td>82920.79</td>\n",
       "      <td>Первый</td>\n",
       "    </tr>\n",
       "    <tr>\n",
       "      <th>5</th>\n",
       "      <td>10</td>\n",
       "      <td>2890000.0</td>\n",
       "      <td>30.40</td>\n",
       "      <td>2018-09-10</td>\n",
       "      <td>1</td>\n",
       "      <td>2.7</td>\n",
       "      <td>12</td>\n",
       "      <td>14.40</td>\n",
       "      <td>5</td>\n",
       "      <td>True</td>\n",
       "      <td>False</td>\n",
       "      <td>False</td>\n",
       "      <td>9.10</td>\n",
       "      <td>0</td>\n",
       "      <td>городской поселок Янино-1</td>\n",
       "      <td>NaN</td>\n",
       "      <td>NaN</td>\n",
       "      <td>NaN</td>\n",
       "      <td>NaN</td>\n",
       "      <td>NaN</td>\n",
       "      <td>NaN</td>\n",
       "      <td>55</td>\n",
       "      <td>2018</td>\n",
       "      <td>9</td>\n",
       "      <td>0</td>\n",
       "      <td>95065.79</td>\n",
       "      <td>Другой</td>\n",
       "    </tr>\n",
       "    <tr>\n",
       "      <th>6</th>\n",
       "      <td>6</td>\n",
       "      <td>3700000.0</td>\n",
       "      <td>37.30</td>\n",
       "      <td>2017-11-02</td>\n",
       "      <td>1</td>\n",
       "      <td>2.7</td>\n",
       "      <td>26</td>\n",
       "      <td>10.60</td>\n",
       "      <td>6</td>\n",
       "      <td>True</td>\n",
       "      <td>False</td>\n",
       "      <td>False</td>\n",
       "      <td>14.40</td>\n",
       "      <td>1</td>\n",
       "      <td>поселок Парголово</td>\n",
       "      <td>52996.0</td>\n",
       "      <td>19143.0</td>\n",
       "      <td>0.0</td>\n",
       "      <td>3100.0</td>\n",
       "      <td>0.0</td>\n",
       "      <td>3100.0</td>\n",
       "      <td>155</td>\n",
       "      <td>2017</td>\n",
       "      <td>11</td>\n",
       "      <td>3</td>\n",
       "      <td>99195.71</td>\n",
       "      <td>Другой</td>\n",
       "    </tr>\n",
       "    <tr>\n",
       "      <th>8</th>\n",
       "      <td>20</td>\n",
       "      <td>2900000.0</td>\n",
       "      <td>33.16</td>\n",
       "      <td>2018-05-23</td>\n",
       "      <td>1</td>\n",
       "      <td>2.7</td>\n",
       "      <td>27</td>\n",
       "      <td>15.43</td>\n",
       "      <td>26</td>\n",
       "      <td>True</td>\n",
       "      <td>False</td>\n",
       "      <td>False</td>\n",
       "      <td>8.81</td>\n",
       "      <td>0</td>\n",
       "      <td>поселок Мурино</td>\n",
       "      <td>NaN</td>\n",
       "      <td>NaN</td>\n",
       "      <td>NaN</td>\n",
       "      <td>NaN</td>\n",
       "      <td>NaN</td>\n",
       "      <td>NaN</td>\n",
       "      <td>189</td>\n",
       "      <td>2018</td>\n",
       "      <td>5</td>\n",
       "      <td>2</td>\n",
       "      <td>87454.76</td>\n",
       "      <td>Другой</td>\n",
       "    </tr>\n",
       "    <tr>\n",
       "      <th>9</th>\n",
       "      <td>18</td>\n",
       "      <td>5400000.0</td>\n",
       "      <td>61.00</td>\n",
       "      <td>2017-02-26</td>\n",
       "      <td>3</td>\n",
       "      <td>2.5</td>\n",
       "      <td>9</td>\n",
       "      <td>43.60</td>\n",
       "      <td>7</td>\n",
       "      <td>True</td>\n",
       "      <td>False</td>\n",
       "      <td>False</td>\n",
       "      <td>6.50</td>\n",
       "      <td>2</td>\n",
       "      <td>Санкт-Петербург</td>\n",
       "      <td>50898.0</td>\n",
       "      <td>15008.0</td>\n",
       "      <td>0.0</td>\n",
       "      <td>3100.0</td>\n",
       "      <td>0.0</td>\n",
       "      <td>3100.0</td>\n",
       "      <td>289</td>\n",
       "      <td>2017</td>\n",
       "      <td>2</td>\n",
       "      <td>6</td>\n",
       "      <td>88524.59</td>\n",
       "      <td>Другой</td>\n",
       "    </tr>\n",
       "  </tbody>\n",
       "</table>\n",
       "</div>"
      ],
      "text/plain": [
       "   total_images  last_price  total_area first_day_exposition  rooms  \\\n",
       "1             7   3350000.0       40.40           2018-12-04      1   \n",
       "5            10   2890000.0       30.40           2018-09-10      1   \n",
       "6             6   3700000.0       37.30           2017-11-02      1   \n",
       "8            20   2900000.0       33.16           2018-05-23      1   \n",
       "9            18   5400000.0       61.00           2017-02-26      3   \n",
       "\n",
       "   ceiling_height  floors_total  living_area  floor  is_apartment  studio  \\\n",
       "1             2.7            11        18.60      1          True   False   \n",
       "5             2.7            12        14.40      5          True   False   \n",
       "6             2.7            26        10.60      6          True   False   \n",
       "8             2.7            27        15.43     26          True   False   \n",
       "9             2.5             9        43.60      7          True   False   \n",
       "\n",
       "   open_plan  kitchen_area  balcony              locality_name  \\\n",
       "1      False         11.00        2             поселок Шушары   \n",
       "5      False          9.10        0  городской поселок Янино-1   \n",
       "6      False         14.40        1          поселок Парголово   \n",
       "8      False          8.81        0             поселок Мурино   \n",
       "9      False          6.50        2            Санкт-Петербург   \n",
       "\n",
       "   airports_nearest  cityCenters_nearest  parks_around3000  parks_nearest  \\\n",
       "1           12817.0              18603.0               0.0         3100.0   \n",
       "5               NaN                  NaN               NaN            NaN   \n",
       "6           52996.0              19143.0               0.0         3100.0   \n",
       "8               NaN                  NaN               NaN            NaN   \n",
       "9           50898.0              15008.0               0.0         3100.0   \n",
       "\n",
       "   ponds_around3000  ponds_nearest  days_exposition  year  month  weekday  \\\n",
       "1               0.0         3100.0               81  2018     12        1   \n",
       "5               NaN            NaN               55  2018      9        0   \n",
       "6               0.0         3100.0              155  2017     11        3   \n",
       "8               NaN            NaN              189  2018      5        2   \n",
       "9               0.0         3100.0              289  2017      2        6   \n",
       "\n",
       "   price_per_m2 floor_type  \n",
       "1      82920.79     Первый  \n",
       "5      95065.79     Другой  \n",
       "6      99195.71     Другой  \n",
       "8      87454.76     Другой  \n",
       "9      88524.59     Другой  "
      ]
     },
     "execution_count": 129,
     "metadata": {},
     "output_type": "execute_result"
    }
   ],
   "source": [
    "df.head()"
   ]
  },
  {
   "cell_type": "markdown",
   "id": "02763977-4a8b-4d58-af53-ba46638aebfe",
   "metadata": {},
   "source": [
    "Сделаем проверку новых признаков year и price_per_m2"
   ]
  },
  {
   "cell_type": "code",
   "execution_count": 131,
   "id": "243575e2-9c93-49dc-88ca-7d666157f1ac",
   "metadata": {},
   "outputs": [
    {
     "data": {
      "text/plain": [
       "year\n",
       "2018    5929\n",
       "2017    5537\n",
       "2019    2087\n",
       "2016    1471\n",
       "2015     289\n",
       "2014       5\n",
       "Name: count, dtype: int64"
      ]
     },
     "execution_count": 131,
     "metadata": {},
     "output_type": "execute_result"
    }
   ],
   "source": [
    "df['year'].value_counts()"
   ]
  },
  {
   "cell_type": "code",
   "execution_count": 132,
   "id": "40596358-52f5-431f-8be5-febe9b9cab98",
   "metadata": {},
   "outputs": [],
   "source": [
    "#уберем данные за 2015 и 2014 год, как уже устаревшие\n",
    "df = df.query(\"year != 2014 and year != 2015\")"
   ]
  },
  {
   "cell_type": "code",
   "execution_count": 133,
   "id": "ce558f0b-27df-4ae9-8603-42b676c3b583",
   "metadata": {},
   "outputs": [
    {
     "data": {
      "image/png": "[encoded data removed]",
      "text/plain": [
       "<Figure size 640x480 with 1 Axes>"
      ]
     },
     "metadata": {},
     "output_type": "display_data"
    }
   ],
   "source": [
    "df.price_per_m2.hist(bins=30, log=True);"
   ]
  },
  {
   "cell_type": "code",
   "execution_count": 134,
   "id": "8b9ac3b9-562a-478c-9b94-bbcb04fd11e1",
   "metadata": {},
   "outputs": [
    {
     "data": {
      "image/png": "[encoded data removed]",
      "text/plain": [
       "<Figure size 640x480 with 1 Axes>"
      ]
     },
     "metadata": {},
     "output_type": "display_data"
    }
   ],
   "source": [
    "#Уберем 1% аномальных значений. Воспользуемся 99% персентилем, чтобы убрать аномально высокие значения\n",
    "threshold = df['price_per_m2'].quantile(0.99)\n",
    "df = df[df.price_per_m2 <= threshold]\n",
    "\n",
    "# Визуализируем\n",
    "df['price_per_m2'].hist(bins=30, log=True)\n",
    "plt.show()"
   ]
  },
  {
   "cell_type": "code",
   "execution_count": 135,
   "id": "bf5b809e-3ac2-4f3b-9e7b-59d6ad4916aa",
   "metadata": {},
   "outputs": [
    {
     "data": {
      "text/html": [
       "<div>\n",
       "<style scoped>\n",
       "    .dataframe tbody tr th:only-of-type {\n",
       "        vertical-align: middle;\n",
       "    }\n",
       "\n",
       "    .dataframe tbody tr th {\n",
       "        vertical-align: top;\n",
       "    }\n",
       "\n",
       "    .dataframe thead th {\n",
       "        text-align: right;\n",
       "    }\n",
       "</style>\n",
       "<table border=\"1\" class=\"dataframe\">\n",
       "  <thead>\n",
       "    <tr style=\"text-align: right;\">\n",
       "      <th></th>\n",
       "      <th>total_images</th>\n",
       "      <th>last_price</th>\n",
       "      <th>total_area</th>\n",
       "      <th>first_day_exposition</th>\n",
       "      <th>rooms</th>\n",
       "      <th>ceiling_height</th>\n",
       "      <th>floors_total</th>\n",
       "      <th>living_area</th>\n",
       "      <th>floor</th>\n",
       "      <th>kitchen_area</th>\n",
       "      <th>balcony</th>\n",
       "      <th>airports_nearest</th>\n",
       "      <th>cityCenters_nearest</th>\n",
       "      <th>parks_around3000</th>\n",
       "      <th>parks_nearest</th>\n",
       "      <th>ponds_around3000</th>\n",
       "      <th>ponds_nearest</th>\n",
       "      <th>days_exposition</th>\n",
       "      <th>year</th>\n",
       "      <th>month</th>\n",
       "      <th>weekday</th>\n",
       "      <th>price_per_m2</th>\n",
       "    </tr>\n",
       "  </thead>\n",
       "  <tbody>\n",
       "    <tr>\n",
       "      <th>count</th>\n",
       "      <td>14873.000000</td>\n",
       "      <td>1.487300e+04</td>\n",
       "      <td>14873.000000</td>\n",
       "      <td>14873</td>\n",
       "      <td>14873.000000</td>\n",
       "      <td>14873.000000</td>\n",
       "      <td>14873.000000</td>\n",
       "      <td>14598.000000</td>\n",
       "      <td>14873.000000</td>\n",
       "      <td>14873.000000</td>\n",
       "      <td>14873.000000</td>\n",
       "      <td>10973.000000</td>\n",
       "      <td>10982.000000</td>\n",
       "      <td>10982.000000</td>\n",
       "      <td>10982.000000</td>\n",
       "      <td>10982.000000</td>\n",
       "      <td>10982.000000</td>\n",
       "      <td>14873.000000</td>\n",
       "      <td>14873.000000</td>\n",
       "      <td>14873.000000</td>\n",
       "      <td>14873.000000</td>\n",
       "      <td>14873.000000</td>\n",
       "    </tr>\n",
       "    <tr>\n",
       "      <th>mean</th>\n",
       "      <td>9.907080</td>\n",
       "      <td>4.510971e+06</td>\n",
       "      <td>50.150510</td>\n",
       "      <td>2018-01-22 08:27:20.126403328</td>\n",
       "      <td>1.856048</td>\n",
       "      <td>2.644597</td>\n",
       "      <td>10.966449</td>\n",
       "      <td>28.714729</td>\n",
       "      <td>5.991596</td>\n",
       "      <td>8.948487</td>\n",
       "      <td>0.569825</td>\n",
       "      <td>29307.936207</td>\n",
       "      <td>15809.518121</td>\n",
       "      <td>0.493171</td>\n",
       "      <td>2100.448552</td>\n",
       "      <td>0.632307</td>\n",
       "      <td>1952.006192</td>\n",
       "      <td>97.565992</td>\n",
       "      <td>2017.573791</td>\n",
       "      <td>6.365763</td>\n",
       "      <td>2.579910</td>\n",
       "      <td>90504.996941</td>\n",
       "    </tr>\n",
       "    <tr>\n",
       "      <th>min</th>\n",
       "      <td>0.000000</td>\n",
       "      <td>4.300000e+05</td>\n",
       "      <td>14.000000</td>\n",
       "      <td>2016-01-05 00:00:00</td>\n",
       "      <td>1.000000</td>\n",
       "      <td>2.450000</td>\n",
       "      <td>1.000000</td>\n",
       "      <td>3.000000</td>\n",
       "      <td>1.000000</td>\n",
       "      <td>1.300000</td>\n",
       "      <td>0.000000</td>\n",
       "      <td>6450.000000</td>\n",
       "      <td>399.000000</td>\n",
       "      <td>0.000000</td>\n",
       "      <td>1.000000</td>\n",
       "      <td>0.000000</td>\n",
       "      <td>13.000000</td>\n",
       "      <td>0.000000</td>\n",
       "      <td>2016.000000</td>\n",
       "      <td>1.000000</td>\n",
       "      <td>0.000000</td>\n",
       "      <td>9615.380000</td>\n",
       "    </tr>\n",
       "    <tr>\n",
       "      <th>25%</th>\n",
       "      <td>6.000000</td>\n",
       "      <td>3.200000e+06</td>\n",
       "      <td>38.000000</td>\n",
       "      <td>2017-08-03 00:00:00</td>\n",
       "      <td>1.000000</td>\n",
       "      <td>2.550000</td>\n",
       "      <td>5.000000</td>\n",
       "      <td>18.000000</td>\n",
       "      <td>2.000000</td>\n",
       "      <td>6.800000</td>\n",
       "      <td>0.000000</td>\n",
       "      <td>17430.000000</td>\n",
       "      <td>11567.750000</td>\n",
       "      <td>0.000000</td>\n",
       "      <td>555.250000</td>\n",
       "      <td>0.000000</td>\n",
       "      <td>582.000000</td>\n",
       "      <td>19.000000</td>\n",
       "      <td>2017.000000</td>\n",
       "      <td>3.000000</td>\n",
       "      <td>1.000000</td>\n",
       "      <td>74025.970000</td>\n",
       "    </tr>\n",
       "    <tr>\n",
       "      <th>50%</th>\n",
       "      <td>10.000000</td>\n",
       "      <td>4.200000e+06</td>\n",
       "      <td>46.100000</td>\n",
       "      <td>2018-02-01 00:00:00</td>\n",
       "      <td>2.000000</td>\n",
       "      <td>2.700000</td>\n",
       "      <td>9.000000</td>\n",
       "      <td>28.100000</td>\n",
       "      <td>5.000000</td>\n",
       "      <td>8.500000</td>\n",
       "      <td>0.000000</td>\n",
       "      <td>28168.000000</td>\n",
       "      <td>14137.000000</td>\n",
       "      <td>0.000000</td>\n",
       "      <td>3100.000000</td>\n",
       "      <td>0.000000</td>\n",
       "      <td>3100.000000</td>\n",
       "      <td>60.000000</td>\n",
       "      <td>2018.000000</td>\n",
       "      <td>6.000000</td>\n",
       "      <td>3.000000</td>\n",
       "      <td>91860.470000</td>\n",
       "    </tr>\n",
       "    <tr>\n",
       "      <th>75%</th>\n",
       "      <td>14.000000</td>\n",
       "      <td>5.450000e+06</td>\n",
       "      <td>60.000000</td>\n",
       "      <td>2018-09-25 00:00:00</td>\n",
       "      <td>2.000000</td>\n",
       "      <td>2.700000</td>\n",
       "      <td>16.000000</td>\n",
       "      <td>36.900000</td>\n",
       "      <td>8.000000</td>\n",
       "      <td>10.690000</td>\n",
       "      <td>1.000000</td>\n",
       "      <td>39221.000000</td>\n",
       "      <td>16892.000000</td>\n",
       "      <td>1.000000</td>\n",
       "      <td>3100.000000</td>\n",
       "      <td>1.000000</td>\n",
       "      <td>3100.000000</td>\n",
       "      <td>143.000000</td>\n",
       "      <td>2018.000000</td>\n",
       "      <td>10.000000</td>\n",
       "      <td>4.000000</td>\n",
       "      <td>107843.140000</td>\n",
       "    </tr>\n",
       "    <tr>\n",
       "      <th>max</th>\n",
       "      <td>26.000000</td>\n",
       "      <td>1.621800e+07</td>\n",
       "      <td>97.300000</td>\n",
       "      <td>2019-05-03 00:00:00</td>\n",
       "      <td>6.000000</td>\n",
       "      <td>2.850000</td>\n",
       "      <td>27.000000</td>\n",
       "      <td>80.000000</td>\n",
       "      <td>27.000000</td>\n",
       "      <td>17.000000</td>\n",
       "      <td>2.000000</td>\n",
       "      <td>84853.000000</td>\n",
       "      <td>65952.000000</td>\n",
       "      <td>3.000000</td>\n",
       "      <td>3190.000000</td>\n",
       "      <td>3.000000</td>\n",
       "      <td>3100.000000</td>\n",
       "      <td>441.000000</td>\n",
       "      <td>2019.000000</td>\n",
       "      <td>12.000000</td>\n",
       "      <td>6.000000</td>\n",
       "      <td>170103.090000</td>\n",
       "    </tr>\n",
       "    <tr>\n",
       "      <th>std</th>\n",
       "      <td>5.448495</td>\n",
       "      <td>1.994467e+06</td>\n",
       "      <td>15.406593</td>\n",
       "      <td>NaN</td>\n",
       "      <td>0.834584</td>\n",
       "      <td>0.091965</td>\n",
       "      <td>6.484455</td>\n",
       "      <td>11.363599</td>\n",
       "      <td>4.858404</td>\n",
       "      <td>2.713822</td>\n",
       "      <td>0.779725</td>\n",
       "      <td>13398.132947</td>\n",
       "      <td>8191.550298</td>\n",
       "      <td>0.712654</td>\n",
       "      <td>1283.202333</td>\n",
       "      <td>0.830024</td>\n",
       "      <td>1283.241720</td>\n",
       "      <td>103.387229</td>\n",
       "      <td>0.847157</td>\n",
       "      <td>3.448833</td>\n",
       "      <td>1.794275</td>\n",
       "      <td>27850.877859</td>\n",
       "    </tr>\n",
       "  </tbody>\n",
       "</table>\n",
       "</div>"
      ],
      "text/plain": [
       "       total_images    last_price    total_area  \\\n",
       "count  14873.000000  1.487300e+04  14873.000000   \n",
       "mean       9.907080  4.510971e+06     50.150510   \n",
       "min        0.000000  4.300000e+05     14.000000   \n",
       "25%        6.000000  3.200000e+06     38.000000   \n",
       "50%       10.000000  4.200000e+06     46.100000   \n",
       "75%       14.000000  5.450000e+06     60.000000   \n",
       "max       26.000000  1.621800e+07     97.300000   \n",
       "std        5.448495  1.994467e+06     15.406593   \n",
       "\n",
       "                first_day_exposition         rooms  ceiling_height  \\\n",
       "count                          14873  14873.000000    14873.000000   \n",
       "mean   2018-01-22 08:27:20.126403328      1.856048        2.644597   \n",
       "min              2016-01-05 00:00:00      1.000000        2.450000   \n",
       "25%              2017-08-03 00:00:00      1.000000        2.550000   \n",
       "50%              2018-02-01 00:00:00      2.000000        2.700000   \n",
       "75%              2018-09-25 00:00:00      2.000000        2.700000   \n",
       "max              2019-05-03 00:00:00      6.000000        2.850000   \n",
       "std                              NaN      0.834584        0.091965   \n",
       "\n",
       "       floors_total   living_area         floor  kitchen_area       balcony  \\\n",
       "count  14873.000000  14598.000000  14873.000000  14873.000000  14873.000000   \n",
       "mean      10.966449     28.714729      5.991596      8.948487      0.569825   \n",
       "min        1.000000      3.000000      1.000000      1.300000      0.000000   \n",
       "25%        5.000000     18.000000      2.000000      6.800000      0.000000   \n",
       "50%        9.000000     28.100000      5.000000      8.500000      0.000000   \n",
       "75%       16.000000     36.900000      8.000000     10.690000      1.000000   \n",
       "max       27.000000     80.000000     27.000000     17.000000      2.000000   \n",
       "std        6.484455     11.363599      4.858404      2.713822      0.779725   \n",
       "\n",
       "       airports_nearest  cityCenters_nearest  parks_around3000  parks_nearest  \\\n",
       "count      10973.000000         10982.000000      10982.000000   10982.000000   \n",
       "mean       29307.936207         15809.518121          0.493171    2100.448552   \n",
       "min         6450.000000           399.000000          0.000000       1.000000   \n",
       "25%        17430.000000         11567.750000          0.000000     555.250000   \n",
       "50%        28168.000000         14137.000000          0.000000    3100.000000   \n",
       "75%        39221.000000         16892.000000          1.000000    3100.000000   \n",
       "max        84853.000000         65952.000000          3.000000    3190.000000   \n",
       "std        13398.132947          8191.550298          0.712654    1283.202333   \n",
       "\n",
       "       ponds_around3000  ponds_nearest  days_exposition          year  \\\n",
       "count      10982.000000   10982.000000     14873.000000  14873.000000   \n",
       "mean           0.632307    1952.006192        97.565992   2017.573791   \n",
       "min            0.000000      13.000000         0.000000   2016.000000   \n",
       "25%            0.000000     582.000000        19.000000   2017.000000   \n",
       "50%            0.000000    3100.000000        60.000000   2018.000000   \n",
       "75%            1.000000    3100.000000       143.000000   2018.000000   \n",
       "max            3.000000    3100.000000       441.000000   2019.000000   \n",
       "std            0.830024    1283.241720       103.387229      0.847157   \n",
       "\n",
       "              month       weekday   price_per_m2  \n",
       "count  14873.000000  14873.000000   14873.000000  \n",
       "mean       6.365763      2.579910   90504.996941  \n",
       "min        1.000000      0.000000    9615.380000  \n",
       "25%        3.000000      1.000000   74025.970000  \n",
       "50%        6.000000      3.000000   91860.470000  \n",
       "75%       10.000000      4.000000  107843.140000  \n",
       "max       12.000000      6.000000  170103.090000  \n",
       "std        3.448833      1.794275   27850.877859  "
      ]
     },
     "execution_count": 135,
     "metadata": {},
     "output_type": "execute_result"
    }
   ],
   "source": [
    "df.describe()"
   ]
  },
  {
   "cell_type": "code",
   "execution_count": 136,
   "id": "ff3050f0-2bb0-4cca-864d-70872a62c078",
   "metadata": {},
   "outputs": [],
   "source": [
    "#сохраним обработтаные данные в новый датасет\n",
    "df.to_csv('real_estate_processed.csv', index=False)"
   ]
  }
 ],
 "metadata": {
  "kernelspec": {
   "display_name": "Python 3 (ipykernel)",
   "language": "python",
   "name": "python3"
  },
  "language_info": {
   "codemirror_mode": {
    "name": "ipython",
    "version": 3
   },
   "file_extension": ".py",
   "mimetype": "text/x-python",
   "name": "python",
   "nbconvert_exporter": "python",
   "pygments_lexer": "ipython3",
   "version": "3.12.7"
  }
 },
 "nbformat": 4,
 "nbformat_minor": 5
}
